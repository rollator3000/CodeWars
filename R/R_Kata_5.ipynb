{
 "cells": [
  {
   "cell_type": "code",
   "execution_count": null,
   "metadata": {},
   "outputs": [],
   "source": [
    "require(testthat)"
   ]
  },
  {
   "cell_type": "markdown",
   "metadata": {},
   "source": [
    "# 1. Some Egyptian fractions\n",
    "\n",
    "Given a rational number n- n >= 0, with denominator strictly positive decompose this number as a sum of rationals with numerators equal to one and without repetitions (2/3 = 1/2 + 1/6 is correct but not 2/3 = 1/3 + 1/3, 1/3 is repeated).\n",
    "\n",
    "The algorithm must be \"greedy\", so at each stage the new rational obtained in the decomposition must have a denominator as small as possible. In this manner the sum of a few fractions in the decomposition gives a rather good approximation of the rational to decompose.\n",
    "\n",
    "2/3 = 1/3 + 1/3 doesn't fit because of the repetition but also because the first 1/3 has a denominator bigger than the one in 1/2 in the decomposition 2/3 = 1/2 + 1/6.\n",
    "\n",
    "### Example\n",
    "\n",
    "    decompose(\"21/23\") --> \"1/2,1/3,1/13,1/359,1/644046\"\n",
    "    \n",
    "    \n",
    "#### Note\n",
    "\n",
    "1) The decomposition of 21/23 as\n",
    "\n",
    "    21/23 = 1/2 + 1/3 + 1/13 + 1/598 + 1/897\n",
    "\n",
    "is exact but don't fulfill our requirement because 598 is bigger than 359. Same for\n",
    "\n",
    "    21/23 = 1/2 + 1/3 + 1/23 + 1/46 + 1/69 (23 is bigger than 13)\n",
    "or \n",
    "\n",
    "    21/23 = 1/2 + 1/3 + 1/15 + 1/110 + 1/253 (15 is bigger than 13).\n",
    "\n",
    "2) The rational given to decompose could be greater than one or equal to one, in which case the first \"fraction\" will be an integer (with an implicit denominator of 1). \n"
   ]
  },
  {
   "cell_type": "code",
   "execution_count": 4,
   "metadata": {},
   "outputs": [],
   "source": [
    "# Write Function\n",
    "decompose <- function(n) {\n",
    "  # your code\n",
    "}"
   ]
  },
  {
   "cell_type": "code",
   "execution_count": null,
   "metadata": {},
   "outputs": [],
   "source": [
    "# Test it\n",
    "dotest <- function(n, expected) {\n",
    "  actual <- decompose(n)\n",
    "  expect_equal(actual, expected)\n",
    "}\n",
    "\n",
    "test_that(\"tests\", {\n",
    "  dotest(3/4, \"1/2,1/4\")\n",
    "  dotest(12/4, \"3\")\n",
    "})"
   ]
  },
  {
   "cell_type": "code",
   "execution_count": null,
   "metadata": {},
   "outputs": [],
   "source": [
    "n = fractions(2/3)\n",
    "n\n",
    "if (n %% 1 == 0) return(n)\n",
    "decomposition <- c(); i <- 2\n",
    "while(as.numeric(fractions(n) - fractions(1/i)) != 0) {\n",
    "    if (as.numeric(fractions(n) - fractions(1/i)) >= 0) {\n",
    "        decomposition <- c(decomposition, paste0(\"1/\", i))\n",
    "        n             <- n - fractions(1/i)\n",
    "    }\n",
    "    i <- i + 1\n",
    "}\n",
    "decomposition"
   ]
  },
  {
   "cell_type": "code",
   "execution_count": null,
   "metadata": {},
   "outputs": [],
   "source": [
    "library(MASS)\n",
    "n = 2/3\n",
    "n \n",
    "\n",
    "print('1-------------')\n",
    "n_new <- n - fractions(1/2)\n",
    "n_new\n",
    "decomposition <- c(fractions(1/2), fractions(1/3))\n",
    "decomposition\n",
    "\n",
    "str(fractions)"
   ]
  },
  {
   "cell_type": "code",
   "execution_count": null,
   "metadata": {},
   "outputs": [],
   "source": [
    "a = c(\"1/2\")\n",
    "a = \n",
    "a"
   ]
  },
  {
   "cell_type": "code",
   "execution_count": null,
   "metadata": {},
   "outputs": [],
   "source": []
  },
  {
   "cell_type": "code",
   "execution_count": null,
   "metadata": {},
   "outputs": [],
   "source": []
  },
  {
   "cell_type": "code",
   "execution_count": null,
   "metadata": {},
   "outputs": [],
   "source": []
  },
  {
   "cell_type": "code",
   "execution_count": null,
   "metadata": {},
   "outputs": [],
   "source": []
  }
 ],
 "metadata": {
  "kernelspec": {
   "display_name": "R",
   "language": "R",
   "name": "ir"
  },
  "language_info": {
   "codemirror_mode": "r",
   "file_extension": ".r",
   "mimetype": "text/x-r-source",
   "name": "R",
   "pygments_lexer": "r",
   "version": "3.6.1"
  }
 },
 "nbformat": 4,
 "nbformat_minor": 4
}

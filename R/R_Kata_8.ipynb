{
 "cells": [
  {
   "cell_type": "markdown",
   "metadata": {},
   "source": [
    "# Exercises of difficulty 8 in R"
   ]
  },
  {
   "cell_type": "code",
   "execution_count": 30,
   "metadata": {},
   "outputs": [],
   "source": [
    "library(testthat)"
   ]
  },
  {
   "cell_type": "markdown",
   "metadata": {},
   "source": [
    "# 1. Reversed Strings\n",
    "Complete the solution so that it reverses the string passed into it.\n",
    "\n",
    "    'world'  =>  'dlrow'"
   ]
  },
  {
   "cell_type": "code",
   "execution_count": 31,
   "metadata": {},
   "outputs": [],
   "source": [
    "# Write the Function\n",
    "solution <- function(s) {\n",
    "    s_split         <- strsplit(s, split = \"\")[[1]]\n",
    "    s_split_reverse <- rev(s_split)\n",
    "    return(paste(s_split_reverse, collapse = \"\"))\n",
    "}"
   ]
  },
  {
   "cell_type": "code",
   "execution_count": 32,
   "metadata": {},
   "outputs": [],
   "source": [
    "# Test it\n",
    "test_that(\"example\", {\n",
    "  expect_equal(solution('world'), 'dlrow')\n",
    "  expect_equal(solution('hello'), 'olleh')\n",
    "  expect_equal(solution(''), '')\n",
    "  expect_equal(solution('h'), 'h')\n",
    "})"
   ]
  },
  {
   "cell_type": "markdown",
   "metadata": {},
   "source": [
    "# 2. Beginner Series - Clock\n",
    "Clock shows 'h' hours, 'm' minutes and 's' seconds after midnight.\n",
    "Your task is to make 'Past' function which returns time converted to milliseconds.\n",
    "\n",
    "Example:\n",
    "\n",
    "    past(0, 1, 1) == 61000\n",
    "    \n",
    "Input constraints:\n",
    "\n",
    "    0 <= h <= 23, 0 <= m <= 59, 0 <= s <= "
   ]
  },
  {
   "cell_type": "code",
   "execution_count": 44,
   "metadata": {},
   "outputs": [],
   "source": [
    "# Write Function\n",
    "past <- function(h, m, s) {\n",
    "    s_total <- s + 60 * m + 3600 * h # Convert time to seconds\n",
    "    return(s_total * 1000)           # Convert seconds to milliseconds\n",
    "}"
   ]
  },
  {
   "cell_type": "code",
   "execution_count": 45,
   "metadata": {},
   "outputs": [],
   "source": [
    "test_that(\"basic tests\", {\n",
    "  expect_equal(past(0, 1, 1), 61000)\n",
    "  expect_equal(past(1, 1, 1), 3661000)\n",
    "  expect_equal(past(0, 0, 0), 0)\n",
    "  expect_equal(past(1, 0, 1), 3601000)\n",
    "  expect_equal(past(1, 0, 0), 3600000)\n",
    "})"
   ]
  }
 ],
 "metadata": {
  "kernelspec": {
   "display_name": "R",
   "language": "R",
   "name": "ir"
  },
  "language_info": {
   "codemirror_mode": "r",
   "file_extension": ".r",
   "mimetype": "text/x-r-source",
   "name": "R",
   "pygments_lexer": "r",
   "version": "3.6.1"
  }
 },
 "nbformat": 4,
 "nbformat_minor": 4
}

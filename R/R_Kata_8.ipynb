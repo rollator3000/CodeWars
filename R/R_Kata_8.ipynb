{
 "cells": [
  {
   "cell_type": "markdown",
   "id": "4a7b4422",
   "metadata": {},
   "source": [
    "# Exercises of difficulty 8 in R"
   ]
  },
  {
   "cell_type": "code",
   "execution_count": 6,
   "id": "ecfbd65b",
   "metadata": {},
   "outputs": [],
   "source": [
    "# Needed package to test the various functions\n",
    "library(testthat)"
   ]
  },
  {
   "cell_type": "markdown",
   "id": "dffb7412",
   "metadata": {},
   "source": [
    "# 1. Reversed Strings\n",
    "Complete the solution so that it reverses the string passed into it.  \n",
    "Example:\n",
    "\n",
    "        'world'  =>  'dlrow'"
   ]
  },
  {
   "cell_type": "code",
   "execution_count": 7,
   "id": "eefd92fc",
   "metadata": {},
   "outputs": [],
   "source": [
    "solution <- function(s) {\n",
    "    # Split 's' into its single letters\n",
    "    s_split <- strsplit(s, split = \"\")[[1]]\n",
    "    \n",
    "    # Reverse the order of the single letters of 's'\n",
    "    s_split_reverse <- rev(s_split)\n",
    "    \n",
    "    # Paste the letters of 's_split_reverse' to a single string string & return it\n",
    "    paste(s_split_reverse, collapse = \"\")\n",
    "}"
   ]
  },
  {
   "cell_type": "code",
   "execution_count": 8,
   "id": "06b429e1",
   "metadata": {},
   "outputs": [],
   "source": [
    "test_that(\"example\", {\n",
    "  expect_equal(solution('world'), 'dlrow')\n",
    "  expect_equal(solution('hello'), 'olleh')\n",
    "  expect_equal(solution(''), '')\n",
    "  expect_equal(solution('h'), 'h')\n",
    "})"
   ]
  },
  {
   "cell_type": "markdown",
   "id": "54b87b1c",
   "metadata": {},
   "source": [
    "# 2. Beginner Series - Clock\n",
    "Clock shows 'h' hours, 'm' minutes and 's' seconds after midnight.  \n",
    "Your task is to make 'Past' function which returns time converted to milliseconds.  \n",
    "\n",
    "Example:\n",
    "\n",
    "    past(0, 1, 1) == 61000\n",
    "    \n",
    "Input constraints:\n",
    "\n",
    "    0 <= h <= 23, 0 <= m <= 59, 0 <= s <= "
   ]
  },
  {
   "cell_type": "code",
   "execution_count": 10,
   "id": "ce486e22",
   "metadata": {},
   "outputs": [],
   "source": [
    "past <- function(h, m, s) {\n",
    "    # Convert the hours 'h', minutes 'm' & seconds 's' to seconds & sum them up\n",
    "    s_total <- s + 60 * m + 3600 * h \n",
    "    \n",
    "    # Convert from seconds to milli-seconds & return it\n",
    "    s_total * 1000\n",
    "}"
   ]
  },
  {
   "cell_type": "code",
   "execution_count": 11,
   "id": "5c63a840",
   "metadata": {},
   "outputs": [],
   "source": [
    "test_that(\"basic tests\", {\n",
    "  expect_equal(past(0, 1, 1), 61000)\n",
    "  expect_equal(past(1, 1, 1), 3661000)\n",
    "  expect_equal(past(0, 0, 0), 0)\n",
    "  expect_equal(past(1, 0, 1), 3601000)\n",
    "  expect_equal(past(1, 0, 0), 3600000)\n",
    "})"
   ]
  },
  {
   "cell_type": "markdown",
   "id": "67c5f22d",
   "metadata": {},
   "source": [
    "# 3. Square(n) Sum\n",
    "Complete the square sum function so that it squares each number passed into it \n",
    "and then sums the results together.  \n",
    "\n",
    "For example:\n",
    "    \n",
    "    [1, 2, 2] should return 9 because 1^2 + 2^2 + 2^2 = 9."
   ]
  },
  {
   "cell_type": "code",
   "execution_count": 13,
   "id": "fee85030",
   "metadata": {},
   "outputs": [],
   "source": [
    "square_sum <- function(nums) {\n",
    "    # Vector-wise squaring of 'nums', then sum up & finally returned\n",
    "    sum(nums^2)\n",
    "}"
   ]
  },
  {
   "cell_type": "code",
   "execution_count": 14,
   "id": "25cf9b01",
   "metadata": {},
   "outputs": [],
   "source": [
    "test_that(\"basic tests\", {\n",
    "  expect_equal(square_sum(c(1, 2)), 5)\n",
    "  expect_equal(square_sum(c(0, 3, 4, 5)), 50)\n",
    "  expect_equal(square_sum(c()), 0)\n",
    "  expect_equal(square_sum(c(-1, -2)), 5)\n",
    "  expect_equal(square_sum(c(-1, 0, 1)), 2)\n",
    "})"
   ]
  },
  {
   "cell_type": "markdown",
   "id": "fc2f4ff2",
   "metadata": {},
   "source": [
    "# 4.Calculate BMI\n",
    "\n",
    "Write function bmi that calculates body mass index (bmi = weight / height2).\n",
    "\n",
    "- if bmi <= 18.5 return \"Underweight\"\n",
    "- if bmi <= 25.0 return \"Normal\"\n",
    "- if bmi <= 30.0 return \"Overweight\"\n",
    "- if bmi > 30 return \"Obese\""
   ]
  },
  {
   "cell_type": "code",
   "execution_count": 15,
   "id": "8582ccd9",
   "metadata": {},
   "outputs": [],
   "source": [
    "bmi <- function(weight, height) {\n",
    "    # Calculate the BMI based on weight & height\n",
    "    bmi <- weight / height^2\n",
    "    \n",
    "    # Based on the bmi, return whether the person is \n",
    "    # under-/ over-weight/ ...\n",
    "    if (bmi <= 18.5) return(\"Underweight\")\n",
    "    if (bmi <= 25.0) return(\"Normal\")\n",
    "    if (bmi <= 30.0) return(\"Overweight\")\n",
    "    return('Obese')\n",
    "}"
   ]
  },
  {
   "cell_type": "code",
   "execution_count": 16,
   "id": "033e81a8",
   "metadata": {},
   "outputs": [],
   "source": [
    "test_that(\"test\", {\n",
    "  expect_equal(bmi(80.0, 1.80), \"Normal\");\n",
    "})"
   ]
  },
  {
   "cell_type": "markdown",
   "id": "5545fc1e",
   "metadata": {},
   "source": [
    "# 5. Summation\n",
    "\n",
    "Write a program that finds the summation of every number from 1 to num. \n",
    "The number will always be a positive integer greater than 0.\n",
    "\n",
    "### For example:\n",
    "\n",
    "    summation(2) -> 3\n",
    "    1 + 2\n",
    "\n",
    "    summation(8) -> 36\n",
    "    1 + 2 + 3 + 4 + 5 + 6 + 7 + 8"
   ]
  },
  {
   "cell_type": "code",
   "execution_count": 17,
   "id": "dcbf0d4f",
   "metadata": {},
   "outputs": [],
   "source": [
    "summation <- function(n) {\n",
    "    # Calcuate the sum of the seq from 1 to n & return it\n",
    "    sum(seq_len(n))\n",
    "}"
   ]
  },
  {
   "cell_type": "code",
   "execution_count": 18,
   "id": "5290e89c",
   "metadata": {},
   "outputs": [],
   "source": [
    "test_that('basic tests', {\n",
    "  expect_equal(summation(1), 1)\n",
    "  expect_equal(summation(8), 36)\n",
    "  expect_equal(summation(22), 253)\n",
    "  expect_equal(summation(100), 5050)\n",
    "  expect_equal(summation(213), 22791)\n",
    "})"
   ]
  },
  {
   "cell_type": "markdown",
   "id": "4c096c1f",
   "metadata": {},
   "source": [
    "# 6. Reversed Words\n",
    "\n",
    "Complete the solution so that it reverses all of the words within the string passed in.  \n",
    "Example: \"The greatest victory is that which requires no battle\" --> \"battle no requires which that is victory greatest The\""
   ]
  },
  {
   "cell_type": "code",
   "execution_count": 17,
   "id": "c357f58b",
   "metadata": {},
   "outputs": [],
   "source": [
    "solution <- function(sentence) {\n",
    "    # Extract the single words from 'sentence'\n",
    "    words = unlist(strsplit(sentence, split = \" \"))\n",
    "    \n",
    "    # Reverse the order of the vector 'words' & paste it to a single\n",
    "    # string & return it then\n",
    "    paste(rev(words), collapse = \" \")\n",
    "}"
   ]
  },
  {
   "cell_type": "code",
   "execution_count": 18,
   "id": "9e487556",
   "metadata": {},
   "outputs": [],
   "source": [
    "test_that('Basic tests', {\n",
    "  expect_equal(solution(\"hello world!\"), \"world! hello\")\n",
    "  expect_equal(solution(\"yoda doesn't speak like this\"), \"this like speak doesn't yoda\")\n",
    "  expect_equal(solution(\"foobar\"), \"foobar\")\n",
    "  expect_equal(solution(\"kata editor\"), \"editor kata\")\n",
    "  expect_equal(solution(\"row row row your boat\"), \"boat your row row row\")\n",
    "})"
   ]
  },
  {
   "cell_type": "markdown",
   "id": "85badd9f",
   "metadata": {},
   "source": [
    "# 7. MakeUpperCase\n",
    "Write a function which converts the input string to uppercase."
   ]
  },
  {
   "cell_type": "code",
   "execution_count": 19,
   "id": "692780a5",
   "metadata": {},
   "outputs": [],
   "source": [
    "makeUpperCase <- function(s) {\n",
    "    # Convert 's' to upper-case & return it\n",
    "    toupper(s)\n",
    "}"
   ]
  },
  {
   "cell_type": "code",
   "execution_count": 20,
   "id": "32027c9d",
   "metadata": {},
   "outputs": [],
   "source": [
    "test_that(\"test\", {\n",
    "  expect_equal(makeUpperCase(\"hello\"), \"HELLO\");\n",
    "})"
   ]
  },
  {
   "cell_type": "markdown",
   "id": "d94b6ee5",
   "metadata": {},
   "source": [
    "# 8. Short Long Short\n",
    "Given 2 strings, a and b, return a string of the form short + long + short, with the shorter string on the outside and the longer string on the inside. The strings will not be the same length, but they may be empty (zero length).\n",
    "\n",
    "Hint for R users:\n",
    "\n",
    "    The length of string is not always the same as the number of characters\n",
    "\n",
    "For example: \n",
    "\n",
    "    (Input1, Input2) --> output\n",
    "    (\"1\", \"22\")      --> \"1221\"\n",
    "    (\"22\", \"1\")      --> \"1221\"\n"
   ]
  },
  {
   "cell_type": "code",
   "execution_count": 21,
   "id": "4462857b",
   "metadata": {},
   "outputs": [],
   "source": [
    "solution <- function(a, b) {\n",
    "    # Get the length of the words a & b\n",
    "    a_len = length(strsplit(a, split = \"\")[[1]])\n",
    "    b_len = length(strsplit(b, split = \"\")[[1]])\n",
    "\n",
    "    # Depending on which word has more characters, paste them\n",
    "    # such that we have shorter-word, longer-word, shorter-word\n",
    "    # as single string and return it then\n",
    "    if (a_len > b_len) {\n",
    "        return(paste0(b, a, b))\n",
    "    } else {\n",
    "        return(paste0(a, b, a))\n",
    "    }    \n",
    "}"
   ]
  },
  {
   "cell_type": "code",
   "execution_count": 22,
   "id": "9c6f109e",
   "metadata": {},
   "outputs": [],
   "source": [
    "test_that(\"example test cases\", {\n",
    "   expect_equal(solution('45', '1'), '1451')\n",
    "   expect_equal(solution('13', '200'), '1320013')\n",
    "   expect_equal(solution('Soon', 'Me'), 'MeSoonMe')\n",
    "   expect_equal(solution('U', 'False'), 'UFalseU')\n",
    "})"
   ]
  },
  {
   "cell_type": "markdown",
   "id": "d95581d8",
   "metadata": {},
   "source": [
    "# 9. Even or Odd\n",
    "Create a function that takes an integer as an argument and returns \"Even\" for even numbers or \"Odd\" for odd numbers."
   ]
  },
  {
   "cell_type": "code",
   "execution_count": 23,
   "id": "49f8522b",
   "metadata": {},
   "outputs": [],
   "source": [
    "even_or_odd <- function(n) {\n",
    "    # If 'n' modulo 2 is 0, then its even, else its odd\n",
    "    if (n %% 2 == 0) return(\"Even\") \n",
    "    return(\"Odd\")\n",
    "}"
   ]
  },
  {
   "cell_type": "code",
   "execution_count": 24,
   "id": "fd5c7b59",
   "metadata": {},
   "outputs": [],
   "source": [
    "test_that('Basic tests', {\n",
    "  expect_equal(even_or_odd(2), \"Even\")\n",
    "  expect_equal(even_or_odd(1), \"Odd\")\n",
    "  expect_equal(even_or_odd(-4), \"Even\")\n",
    "  expect_equal(even_or_odd(-3), \"Odd\")\n",
    "  expect_equal(even_or_odd(0), \"Even\")\n",
    "  expect_equal(even_or_odd(1545452), \"Even\")\n",
    "  expect_equal(even_or_odd(7), \"Odd\")\n",
    "  expect_equal(even_or_odd(78), \"Even\")\n",
    "  expect_equal(even_or_odd(17), \"Odd\")\n",
    "  expect_equal(even_or_odd(74156741), \"Odd\")\n",
    "  expect_equal(even_or_odd(100000), \"Even\")\n",
    "})"
   ]
  },
  {
   "cell_type": "markdown",
   "id": "cb157c1a",
   "metadata": {},
   "source": [
    "# 10. Twice as old\n",
    "Your function takes two arguments:\n",
    "\n",
    "    current father's age (years)\n",
    "    current age of his son (years)\n",
    "\n",
    "Сalculate how many years ago the father was twice as old as his son (or in how many years he will be twice as old)."
   ]
  },
  {
   "cell_type": "code",
   "execution_count": 26,
   "id": "969478ca",
   "metadata": {},
   "outputs": [],
   "source": [
    "twice_as_old <- function(dad_years_old, son_years_old) {\n",
    "    # Substract double the age of the son from the the dads age & return it\n",
    "    #  -> thats when dad was twice as old, as his son now \n",
    "    return(abs(dad_years_old - son_years_old * 2))\n",
    "}"
   ]
  },
  {
   "cell_type": "code",
   "execution_count": 27,
   "id": "ccb22d29",
   "metadata": {},
   "outputs": [],
   "source": [
    "test_that('Basic tests', {\n",
    "  expect_equal(twice_as_old(36,7) , 22)\n",
    "  expect_equal(twice_as_old(55,30) , 5)\n",
    "  expect_equal(twice_as_old(42,21) , 0)\n",
    "  expect_equal(twice_as_old(22,1) , 20)\n",
    "  expect_equal(twice_as_old(29,0) , 29)\n",
    "})"
   ]
  }
 ],
 "metadata": {
  "kernelspec": {
   "display_name": "R",
   "language": "R",
   "name": "ir"
  },
  "language_info": {
   "codemirror_mode": "r",
   "file_extension": ".r",
   "mimetype": "text/x-r-source",
   "name": "R",
   "pygments_lexer": "r",
   "version": "3.6.1"
  }
 },
 "nbformat": 4,
 "nbformat_minor": 5
}

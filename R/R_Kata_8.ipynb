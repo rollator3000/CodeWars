{
 "cells": [
  {
   "cell_type": "markdown",
   "metadata": {},
   "source": [
    "# Exercises of difficulty 8 in R"
   ]
  },
  {
   "cell_type": "code",
   "execution_count": 30,
   "metadata": {},
   "outputs": [],
   "source": [
    "library(testthat)"
   ]
  },
  {
   "cell_type": "markdown",
   "metadata": {},
   "source": [
    "# 1. Reversed Strings\n",
    "Complete the solution so that it reverses the string passed into it.\n",
    "\n",
    "    'world'  =>  'dlrow'"
   ]
  },
  {
   "cell_type": "code",
   "execution_count": 31,
   "metadata": {},
   "outputs": [],
   "source": [
    "# Write the Function\n",
    "solution <- function(s) {\n",
    "    s_split         <- strsplit(s, split = \"\")[[1]]\n",
    "    s_split_reverse <- rev(s_split)\n",
    "    return(paste(s_split_reverse, collapse = \"\"))\n",
    "}"
   ]
  },
  {
   "cell_type": "code",
   "execution_count": 32,
   "metadata": {},
   "outputs": [],
   "source": [
    "# Test it\n",
    "test_that(\"example\", {\n",
    "  expect_equal(solution('world'), 'dlrow')\n",
    "  expect_equal(solution('hello'), 'olleh')\n",
    "  expect_equal(solution(''), '')\n",
    "  expect_equal(solution('h'), 'h')\n",
    "})"
   ]
  }
 ],
 "metadata": {
  "kernelspec": {
   "display_name": "R",
   "language": "R",
   "name": "ir"
  },
  "language_info": {
   "codemirror_mode": "r",
   "file_extension": ".r",
   "mimetype": "text/x-r-source",
   "name": "R",
   "pygments_lexer": "r",
   "version": "3.6.1"
  }
 },
 "nbformat": 4,
 "nbformat_minor": 4
}

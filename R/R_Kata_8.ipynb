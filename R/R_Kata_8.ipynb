{
 "cells": [
  {
   "cell_type": "markdown",
   "metadata": {},
   "source": [
    "# Exercises of difficulty 8 in R"
   ]
  },
  {
   "cell_type": "code",
   "execution_count": 30,
   "metadata": {},
   "outputs": [],
   "source": [
    "library(testthat)"
   ]
  },
  {
   "cell_type": "markdown",
   "metadata": {},
   "source": [
    "# 1. Reversed Strings\n",
    "Complete the solution so that it reverses the string passed into it.\n",
    "\n",
    "    'world'  =>  'dlrow'"
   ]
  },
  {
   "cell_type": "code",
   "execution_count": 31,
   "metadata": {},
   "outputs": [],
   "source": [
    "# Write the Function\n",
    "solution <- function(s) {\n",
    "    s_split         <- strsplit(s, split = \"\")[[1]]\n",
    "    s_split_reverse <- rev(s_split)\n",
    "    return(paste(s_split_reverse, collapse = \"\"))\n",
    "}"
   ]
  },
  {
   "cell_type": "code",
   "execution_count": 32,
   "metadata": {},
   "outputs": [],
   "source": [
    "# Test it\n",
    "test_that(\"example\", {\n",
    "  expect_equal(solution('world'), 'dlrow')\n",
    "  expect_equal(solution('hello'), 'olleh')\n",
    "  expect_equal(solution(''), '')\n",
    "  expect_equal(solution('h'), 'h')\n",
    "})"
   ]
  },
  {
   "cell_type": "markdown",
   "metadata": {},
   "source": [
    "# 2. Beginner Series - Clock\n",
    "Clock shows 'h' hours, 'm' minutes and 's' seconds after midnight.\n",
    "Your task is to make 'Past' function which returns time converted to milliseconds.\n",
    "\n",
    "Example:\n",
    "\n",
    "    past(0, 1, 1) == 61000\n",
    "    \n",
    "Input constraints:\n",
    "\n",
    "    0 <= h <= 23, 0 <= m <= 59, 0 <= s <= "
   ]
  },
  {
   "cell_type": "code",
   "execution_count": 44,
   "metadata": {},
   "outputs": [],
   "source": [
    "# Write Function\n",
    "past <- function(h, m, s) {\n",
    "    s_total <- s + 60 * m + 3600 * h # Convert time to seconds\n",
    "    return(s_total * 1000)           # Convert seconds to milliseconds\n",
    "}"
   ]
  },
  {
   "cell_type": "code",
   "execution_count": 45,
   "metadata": {},
   "outputs": [],
   "source": [
    "test_that(\"basic tests\", {\n",
    "  expect_equal(past(0, 1, 1), 61000)\n",
    "  expect_equal(past(1, 1, 1), 3661000)\n",
    "  expect_equal(past(0, 0, 0), 0)\n",
    "  expect_equal(past(1, 0, 1), 3601000)\n",
    "  expect_equal(past(1, 0, 0), 3600000)\n",
    "})"
   ]
  },
  {
   "cell_type": "markdown",
   "metadata": {},
   "source": [
    "# 3. Square(n) Sum\n",
    "Complete the square sum function so that it squares each number passed into it and then sums the results together.\n",
    "\n",
    "For example:\n",
    "    \n",
    "    [1, 2, 2] should return 9 because 1^2 + 2^2 + 2^2 = 9."
   ]
  },
  {
   "cell_type": "code",
   "execution_count": 49,
   "metadata": {},
   "outputs": [],
   "source": [
    "# Write Function\n",
    "square_sum <- function(nums) {\n",
    "    return(sum(nums^2))\n",
    "}"
   ]
  },
  {
   "cell_type": "code",
   "execution_count": 50,
   "metadata": {},
   "outputs": [],
   "source": [
    "# Test it\n",
    "test_that(\"basic tests\", {\n",
    "  expect_equal(square_sum(c(1, 2)), 5)\n",
    "  expect_equal(square_sum(c(0, 3, 4, 5)), 50)\n",
    "  expect_equal(square_sum(c()), 0)\n",
    "  expect_equal(square_sum(c(-1, -2)), 5)\n",
    "  expect_equal(square_sum(c(-1, 0, 1)), 2)\n",
    "})"
   ]
  }
 ],
 "metadata": {
  "kernelspec": {
   "display_name": "R",
   "language": "R",
   "name": "ir"
  },
  "language_info": {
   "codemirror_mode": "r",
   "file_extension": ".r",
   "mimetype": "text/x-r-source",
   "name": "R",
   "pygments_lexer": "r",
   "version": "3.6.1"
  }
 },
 "nbformat": 4,
 "nbformat_minor": 4
}

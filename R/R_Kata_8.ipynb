{
 "cells": [
  {
   "cell_type": "markdown",
   "id": "4a7b4422",
   "metadata": {},
   "source": [
    "# Exercises of difficulty 8 in R"
   ]
  },
  {
   "cell_type": "code",
   "execution_count": 3,
   "id": "ecfbd65b",
   "metadata": {},
   "outputs": [],
   "source": [
    "library(testthat)"
   ]
  },
  {
   "cell_type": "markdown",
   "id": "dffb7412",
   "metadata": {},
   "source": [
    "# 1. Reversed Strings\n",
    "Complete the solution so that it reverses the string passed into it.  \n",
    "Example:\n",
    "\n",
    "        'world'  =>  'dlrow'"
   ]
  },
  {
   "cell_type": "code",
   "execution_count": 4,
   "id": "eefd92fc",
   "metadata": {},
   "outputs": [],
   "source": [
    "solution <- function(s) {\n",
    "    s_split         <- strsplit(s, split = \"\")[[1]]\n",
    "    s_split_reverse <- rev(s_split)\n",
    "    return(paste(s_split_reverse, collapse = \"\"))\n",
    "}"
   ]
  },
  {
   "cell_type": "code",
   "execution_count": 7,
   "id": "06b429e1",
   "metadata": {},
   "outputs": [],
   "source": [
    "test_that(\"example\", {\n",
    "  expect_equal(solution('world'), 'dlrow')\n",
    "  expect_equal(solution('hello'), 'olleh')\n",
    "  expect_equal(solution(''), '')\n",
    "  expect_equal(solution('h'), 'h')\n",
    "})"
   ]
  },
  {
   "cell_type": "markdown",
   "id": "54b87b1c",
   "metadata": {},
   "source": [
    "# 2. Beginner Series - Clock\n",
    "Clock shows 'h' hours, 'm' minutes and 's' seconds after midnight.  \n",
    "Your task is to make 'Past' function which returns time converted to milliseconds.  \n",
    "\n",
    "Example:\n",
    "\n",
    "    past(0, 1, 1) == 61000\n",
    "    \n",
    "Input constraints:\n",
    "\n",
    "    0 <= h <= 23, 0 <= m <= 59, 0 <= s <= "
   ]
  },
  {
   "cell_type": "code",
   "execution_count": 9,
   "id": "ce486e22",
   "metadata": {},
   "outputs": [],
   "source": [
    "past <- function(h, m, s) {\n",
    "    s_total <- s + 60 * m + 3600 * h # Convert time to seconds\n",
    "    return(s_total * 1000)           # Convert seconds to milliseconds\n",
    "}"
   ]
  },
  {
   "cell_type": "code",
   "execution_count": 10,
   "id": "5c63a840",
   "metadata": {},
   "outputs": [],
   "source": [
    "test_that(\"basic tests\", {\n",
    "  expect_equal(past(0, 1, 1), 61000)\n",
    "  expect_equal(past(1, 1, 1), 3661000)\n",
    "  expect_equal(past(0, 0, 0), 0)\n",
    "  expect_equal(past(1, 0, 1), 3601000)\n",
    "  expect_equal(past(1, 0, 0), 3600000)\n",
    "})"
   ]
  },
  {
   "cell_type": "markdown",
   "id": "67c5f22d",
   "metadata": {},
   "source": [
    "# 3. Square(n) Sum\n",
    "Complete the square sum function so that it squares each number passed into it \n",
    "and then sums the results together.  \n",
    "\n",
    "For example:\n",
    "    \n",
    "    [1, 2, 2] should return 9 because 1^2 + 2^2 + 2^2 = 9."
   ]
  },
  {
   "cell_type": "code",
   "execution_count": 12,
   "id": "fee85030",
   "metadata": {},
   "outputs": [],
   "source": [
    "square_sum <- function(nums) {\n",
    "    return(sum(nums^2))\n",
    "}"
   ]
  },
  {
   "cell_type": "code",
   "execution_count": 13,
   "id": "25cf9b01",
   "metadata": {},
   "outputs": [],
   "source": [
    "test_that(\"basic tests\", {\n",
    "  expect_equal(square_sum(c(1, 2)), 5)\n",
    "  expect_equal(square_sum(c(0, 3, 4, 5)), 50)\n",
    "  expect_equal(square_sum(c()), 0)\n",
    "  expect_equal(square_sum(c(-1, -2)), 5)\n",
    "  expect_equal(square_sum(c(-1, 0, 1)), 2)\n",
    "})"
   ]
  },
  {
   "cell_type": "markdown",
   "id": "fc2f4ff2",
   "metadata": {},
   "source": [
    "# 4.Calculate BMI\n",
    "\n",
    "Write function bmi that calculates body mass index (bmi = weight / height2).\n",
    "\n",
    "- if bmi <= 18.5 return \"Underweight\"\n",
    "- if bmi <= 25.0 return \"Normal\"\n",
    "- if bmi <= 30.0 return \"Overweight\"\n",
    "- if bmi > 30 return \"Obese\""
   ]
  },
  {
   "cell_type": "code",
   "execution_count": 15,
   "id": "8582ccd9",
   "metadata": {},
   "outputs": [],
   "source": [
    "bmi <- function(weight, height) {\n",
    "  bmi <- weight / height^2\n",
    "  if (bmi <= 18.5) return(\"Underweight\")\n",
    "  if (bmi <= 25.0) return(\"Normal\")\n",
    "  if (bmi <= 30.0) return(\"Overweight\")\n",
    "  return('Obese')\n",
    "}"
   ]
  },
  {
   "cell_type": "code",
   "execution_count": 16,
   "id": "033e81a8",
   "metadata": {},
   "outputs": [],
   "source": [
    "test_that(\"test\", {\n",
    "  expect_equal(bmi(80.0, 1.80), \"Normal\");\n",
    "})"
   ]
  },
  {
   "cell_type": "markdown",
   "id": "5545fc1e",
   "metadata": {},
   "source": [
    "# 5. Summation\n",
    "\n",
    "Write a program that finds the summation of every number from 1 to num. \n",
    "The number will always be a positive integer greater than 0.\n",
    "\n",
    "### For example:\n",
    "\n",
    "    summation(2) -> 3\n",
    "    1 + 2\n",
    "\n",
    "    summation(8) -> 36\n",
    "    1 + 2 + 3 + 4 + 5 + 6 + 7 + 8"
   ]
  },
  {
   "cell_type": "code",
   "execution_count": 17,
   "id": "dcbf0d4f",
   "metadata": {},
   "outputs": [],
   "source": [
    "summation <- function(n) {\n",
    "  return(sum(seq_len(n)))\n",
    "}"
   ]
  },
  {
   "cell_type": "code",
   "execution_count": 18,
   "id": "5290e89c",
   "metadata": {},
   "outputs": [],
   "source": [
    "test_that('basic tests', {\n",
    "  expect_equal(summation(1), 1)\n",
    "  expect_equal(summation(8), 36)\n",
    "  expect_equal(summation(22), 253)\n",
    "  expect_equal(summation(100), 5050)\n",
    "  expect_equal(summation(213), 22791)\n",
    "})"
   ]
  }
 ],
 "metadata": {
  "kernelspec": {
   "display_name": "R",
   "language": "R",
   "name": "ir"
  },
  "language_info": {
   "codemirror_mode": "r",
   "file_extension": ".r",
   "mimetype": "text/x-r-source",
   "name": "R",
   "pygments_lexer": "r",
   "version": "3.5.1"
  }
 },
 "nbformat": 4,
 "nbformat_minor": 5
}

{
 "cells": [
  {
   "cell_type": "markdown",
   "id": "f254a8fa",
   "metadata": {},
   "source": [
    "# Exercises of difficulty 7 in R"
   ]
  },
  {
   "cell_type": "code",
   "execution_count": 2,
   "id": "da2d8e7f",
   "metadata": {},
   "outputs": [],
   "source": [
    "library(testthat)"
   ]
  },
  {
   "cell_type": "markdown",
   "id": "ad229d57",
   "metadata": {},
   "source": [
    "# 1. Even or Odd - Which is Greater?\n",
    "\n",
    "Given a string of digits confirm whether the sum of all the individual even \n",
    "digits are greater than the sum of all the indiviudal odd digits. Always a string\n",
    "of numbers will be given.\n",
    "\n",
    "    - If the sum of even numbers is greater than the odd numbers return: \n",
    "      \"Even is greater than Odd\"- \n",
    "    - If the sum of odd numbers is greater than the sum of even numbers return: \n",
    "      \"Odd is greater than Even\"\n",
    "    - If the total of both even and odd numbers are identical return: \"Even and \n",
    "      Odd are the same\""
   ]
  },
  {
   "cell_type": "code",
   "execution_count": 5,
   "id": "4419e786",
   "metadata": {},
   "outputs": [],
   "source": [
    "even_or_odd <- function(s){\n",
    "    \n",
    "    # Split 's' to its single numerics\n",
    "    s_num <- as.numeric(strsplit(s, \"\")[[1]])\n",
    "    \n",
    "    # Get sums of even/ odd digits\n",
    "    sum_even <- sum(s_num[s_num %% 2 == 0])\n",
    "    sum_odd  <- sum(s_num[s_num %% 2 != 0])\n",
    "    \n",
    "    # Return Result of comparison between 'sum_even' & 'sum_odd'\n",
    "    if (sum_even > sum_odd) return('Even is greater than Odd')\n",
    "    if (sum_even < sum_odd) return('Odd is greater than Even')\n",
    "    return('Even and Odd are the same')\n",
    "}"
   ]
  },
  {
   "cell_type": "code",
   "execution_count": 6,
   "id": "8c752ff5",
   "metadata": {},
   "outputs": [],
   "source": [
    "test_that(\"Sample tests\", {\n",
    "  expect_equal(even_or_odd('12'), 'Even is greater than Odd')\n",
    "  expect_equal(even_or_odd('123'), 'Odd is greater than Even')\n",
    "  expect_equal(even_or_odd('112'), 'Even and Odd are the same')\n",
    "})"
   ]
  },
  {
   "cell_type": "markdown",
   "id": "d2daf95d",
   "metadata": {},
   "source": [
    "# 2. Sum of Numbers\n",
    "\n",
    "Given two integers a and b, which can be positive or negative, find the sum of \n",
    "all the integers between including them too and return it. If the two numbers \n",
    "are equal return a or b.\n",
    "\n",
    "Note: a and b are not ordered!\n",
    "\n",
    "#### Examples:\n",
    "\n",
    "    get_sum(1, 0) == 1   # 1 + 0 = 1\n",
    "    get_sum(1, 2) == 3   # 1 + 2 = 3\n",
    "    get_sum(0, 1) == 1   # 0 + 1 = 1\n",
    "    get_sum(1, 1) == 1   # 1 Since both are same\n",
    "    get_sum(-1, 0) == -1 # -1 + 0 = -1\n",
    "    get_sum(-1, 2) == 2  # -1 + 0 + 1 + 2 = 2"
   ]
  },
  {
   "cell_type": "code",
   "execution_count": 7,
   "id": "5d0e3a7b",
   "metadata": {},
   "outputs": [],
   "source": [
    "get_sum <- function(a, b){\n",
    "    # Edge-Case if a & b are equal\n",
    "    if (a == b) return(a)\n",
    "    \n",
    "    # Alternative return the sum between the seq of [a - b]\n",
    "    return(sum(a:b))\n",
    "}"
   ]
  },
  {
   "cell_type": "code",
   "execution_count": 8,
   "id": "ec810834",
   "metadata": {},
   "outputs": [],
   "source": [
    "test_that(\"Example\", {\n",
    "  expect_equal(get_sum(0, 1), 1)\n",
    "  expect_equal(get_sum(0, -1), -1)\n",
    "})"
   ]
  },
  {
   "cell_type": "markdown",
   "id": "e2d53b9a",
   "metadata": {},
   "source": [
    "# 3. A Rule of Divisibility by 7\n",
    "\n",
    "A number m of the form 10x + y is divisible by 7 if and only if x − 2y is \n",
    "divisible by 7. In other words, subtract twice the last digit from the number \n",
    "formed by the remaining digits. Continue to do this until a number known to be \n",
    "divisible or not by 7 is obtained; you can stop when this number has at most 2 \n",
    "digits because you are supposed to know if a number of at most 2 digits is \n",
    "divisible by 7 or not.\n",
    "\n",
    "The original number is divisible by 7 if and only if the last number obtained\n",
    "using this procedure is divisible by 7.\n",
    "\n",
    "### Examples:\n",
    "\n",
    "    1. m = 371 -> 37 − (2×1) -> 37 − 2 = 35\n",
    "Thus, since 35 is divisible by 7, 371 is divisible by 7. The number of steps to \n",
    "get the result is 1.\n",
    "\n",
    "\n",
    "    2. m = 1603 -> 160 - (2 x 3) -> 154 -> 15 - 8 = 7\n",
    "Thus, since 33 is not divisible by 7, 372 is not divisible by 7. The number of \n",
    "steps to get the result is 1.\n",
    "\n",
    "    3. m = 477557101 -> 47755708 -> 4775554 -> 477547 -> 47740 -> 4774 -> 469 -> 28\n",
    "28 is divisible by 7, so is 477557101. The number of steps is 7.\n",
    "\n",
    "### Task:\n",
    "\n",
    "Your task is to return to the function seven(m) (m integer >= 0) an array (or a \n",
    "pair, depending on the language) of numbers, the first being the last number m \n",
    "with at most 2 digits obtained by your function (this last m will be divisible or\n",
    "not by 7), the second one being the number of steps to get the result.\n",
    "\n",
    "### Examples:\n",
    "\n",
    "    seven(371) should return [35, 1]\n",
    "    seven(1603) should return [7, 2]\n",
    "    seven(477557101) should return [28, 7]\n",
    "    seven(109) should return [-8, 1]"
   ]
  },
  {
   "cell_type": "code",
   "execution_count": 9,
   "id": "bef7305f",
   "metadata": {},
   "outputs": [],
   "source": [
    "seven <- function(m) {\n",
    "    \n",
    "  # As long as m consists of more than two digits, remove the last digit & substract\n",
    "  # it * 2 from the remaining number; define counter to see how often it is done\n",
    "  counter <- 0\n",
    "  while (log10(abs(m)) >= 2) {\n",
    "    \n",
    "    # Split 'm' to its single digits\n",
    "    m_str_split <- strsplit(as.character(m), split = \"\")[[1]]\n",
    "    \n",
    "    # Get the last digit of 'm' and the remaining number (w/o last digit)\n",
    "    m_last_digit       <- as.numeric(m_str_split)[length(m_str_split)]\n",
    "    m_remaining_digits <- as.numeric(paste(\n",
    "      m_str_split[1:(length(m_str_split) - 1)], collapse = \"\")\n",
    "      )\n",
    "    \n",
    "    # Update 'm'+ count 'counter' up\n",
    "    m       <- m_remaining_digits - 2 * m_last_digit\n",
    "    counter <- counter + 1\n",
    "  }\n",
    "  \n",
    "  return(c(m, counter))\n",
    "}"
   ]
  },
  {
   "cell_type": "code",
   "execution_count": 10,
   "id": "f5261f5d",
   "metadata": {},
   "outputs": [
    {
     "name": "stdout",
     "output_type": "stream",
     "text": [
      "\n",
      "1021 \n",
      "-------\n",
      "actual:\n",
      "  10 2 \n",
      "expect:\n",
      "  10 2 \n",
      "\n",
      "477557101 \n",
      "-------\n",
      "actual:\n",
      "  28 7 \n",
      "expect:\n",
      "  28 7 \n",
      "\n",
      "477557102 \n",
      "-------\n",
      "actual:\n",
      "  47 7 \n",
      "expect:\n",
      "  47 7 \n"
     ]
    }
   ],
   "source": [
    "testing <- function(m, expect) {\n",
    "  s <- sprintf(\"%s\", toString(m))\n",
    "  cat(\"\\n\")\n",
    "  cat(s, \"\\n\")\n",
    "  actual <- seven(m)\n",
    "  cat(\"-------\\n\")\n",
    "  cat(\"actual:\\n \", actual, \"\\n\")\n",
    "  cat(\"expect:\\n \", expect, \"\\n\")\n",
    "  expect_equal(actual, expect)\n",
    "}\n",
    "\n",
    "test_that(\"fixed tests\", {\n",
    "  testing(1021, c(10, 2))\n",
    "  testing(477557101, c(28, 7))\n",
    "  testing(477557102, c(47, 7))\n",
    "  \n",
    "})"
   ]
  },
  {
   "cell_type": "markdown",
   "id": "7c2a7171",
   "metadata": {},
   "source": [
    "# 4. Love vs friendship\n",
    "If　a = 1, b = 2, c = 3 ... z = 26\n",
    "\n",
    "Then l + o + v + e                        = 54\n",
    "and f + r + i + e + n + d + s + h + i + p = 108\n",
    "\n",
    "So friendship is twice stronger than love :-)"
   ]
  },
  {
   "cell_type": "code",
   "execution_count": 12,
   "id": "ae702f6c",
   "metadata": {},
   "outputs": [],
   "source": [
    "words_to_marks <- function(s) {\n",
    "    # substitue each letter with its position in the ABC \n",
    "    s_numbers <- unlist(lapply(strsplit(s, split = \"\")[[1]], FUN = function(x) which(letters == x)))\n",
    "                                  \n",
    "    # Return the sum of 's_numbers'\n",
    "    return(sum(s_numbers))\n",
    "}"
   ]
  },
  {
   "cell_type": "code",
   "execution_count": 13,
   "id": "f8af2a32",
   "metadata": {},
   "outputs": [],
   "source": [
    "test_that(\"Example Tests\", {\n",
    "  expect_equal(words_to_marks('attitude'), 100)\n",
    "  expect_equal(words_to_marks('friends'), 75)\n",
    "  expect_equal(words_to_marks('family'), 66)\n",
    "  expect_equal(words_to_marks('selfness'), 99)\n",
    "  expect_equal(words_to_marks('knowledge'), 96)\n",
    "})"
   ]
  },
  {
   "cell_type": "markdown",
   "id": "d8e764f4",
   "metadata": {},
   "source": [
    "# 5. Sort Numbers\n",
    "Finish the solution so that it sorts the passed in array of numbers. If the function passes in an empty array or null/nil value then it should return an empty array.\n",
    "\n",
    "For example:\n",
    "\n",
    "        solution(c(1, 2, 3, 10, 5)) # should return c(1, 2, 3, 5, 10)\n",
    "        solution(NULL)              # should return NULL"
   ]
  },
  {
   "cell_type": "code",
   "execution_count": 14,
   "id": "373e39d9",
   "metadata": {},
   "outputs": [],
   "source": [
    "solution <- function(nums) {\n",
    "    if (is.null(nums)) return(NULL)\n",
    "    return(nums[order(nums)])\n",
    "}"
   ]
  },
  {
   "cell_type": "code",
   "execution_count": 15,
   "id": "6880d38c",
   "metadata": {},
   "outputs": [],
   "source": [
    "test_that(\"sample test\", {\n",
    "   expect_equal(solution(c(1,2,3,10,5)), c(1,2,3,5,10))\n",
    "})"
   ]
  },
  {
   "cell_type": "markdown",
   "id": "6efc305f",
   "metadata": {},
   "source": [
    "# 6. Sum of odd numbers\n",
    "Given the triangle of consecutive odd numbers:\n",
    "\n",
    "                 1\n",
    "              3     5\n",
    "           7     9    11\n",
    "       13    15    17    19\n",
    "    21    23    25    27    29\n",
    "    ...\n",
    "\n",
    "Calculate the sum of the numbers in the nth row of this triangle (starting at index 1) e.g.: (Input --> Output)\n",
    "\n",
    "        1 -->  1\n",
    "        2 --> 3 + 5 = 8"
   ]
  },
  {
   "cell_type": "code",
   "execution_count": 16,
   "id": "06e41bfa",
   "metadata": {},
   "outputs": [],
   "source": [
    "# Helpfunction to return odd numbers only\n",
    "justodd <- function(x) x[x %% 2 == 1]\n",
    "\n",
    "row_sum_odd_numbers <- function(n) {\n",
    "    \n",
    "    # Edge-Case, when n is 1\n",
    "    if (n == 1) return(1)\n",
    "    \n",
    "    # Get the starting & ending number for the current row in \n",
    "    # the triangle of consecutive odd numbers\n",
    "    start <- 2 * sum(1:(n-1)) + 1\n",
    "    end   <- 2 * (sum(1:(n-1)) + n) - 1\n",
    "    \n",
    "    # Get all odd-numbers between 'start_odd' & 'end_odd' and sum them up\n",
    "    sum(justodd(start:end))\n",
    "}"
   ]
  },
  {
   "cell_type": "code",
   "execution_count": 17,
   "id": "866cc5e7",
   "metadata": {},
   "outputs": [],
   "source": [
    "test_that(\"Example Tests\", {\n",
    "  expect_equal(row_sum_odd_numbers(1), 1)\n",
    "  expect_equal(row_sum_odd_numbers(2), 8)\n",
    "  expect_equal(row_sum_odd_numbers(13), 2197)\n",
    "  expect_equal(row_sum_odd_numbers(19), 6859)\n",
    "  expect_equal(row_sum_odd_numbers(41), 68921)\n",
    "})"
   ]
  },
  {
   "cell_type": "markdown",
   "id": "1142b5a1",
   "metadata": {},
   "source": [
    "# 7. JavaScript Array Filter\n",
    "The solution would work like the following:\n",
    "\n",
    "    get_even_numbers(c(2,4,5,6)) => c(2,4,6)"
   ]
  },
  {
   "cell_type": "code",
   "execution_count": 18,
   "id": "11fe1ec4",
   "metadata": {},
   "outputs": [],
   "source": [
    "get_even_numbers <- function(vec){\n",
    "    return(vec[vec%%2 == 0])\n",
    "}"
   ]
  },
  {
   "cell_type": "code",
   "execution_count": 19,
   "id": "773693c7",
   "metadata": {},
   "outputs": [],
   "source": [
    "test_that('Basic tests', {\n",
    "  expect_equal(get_even_numbers(c(2,4,5,6)), c(2,4,6))\n",
    "  expect_equal(get_even_numbers(numeric()), numeric())\n",
    "  expect_equal(get_even_numbers(c(1)), numeric())\n",
    "  expect_equal(get_even_numbers(c(1,2)), c(2))\n",
    "  expect_equal(get_even_numbers(c(1,2,3,4,5)), c(2,4))\n",
    "  expect_equal(get_even_numbers(c(2,4,6,8)), c(2,4,6,8))\n",
    "})"
   ]
  },
  {
   "cell_type": "markdown",
   "id": "96f092f0",
   "metadata": {},
   "source": [
    "# 8. Testing 1-2-3\n",
    "\n",
    "Your team is writing a fancy new text editor and you've been tasked with implementing the line numbering.\n",
    "\n",
    "Write a function which takes a list of strings and returns each line prepended by the correct number.\n",
    "\n",
    "The numbering starts at 1. The format is n: string. Notice the colon and space in between.\n",
    "\n",
    "Examples:\n",
    "\n",
    "    number(c()) # => c()\n",
    "    number(c(\"a\", \"b\", \"c\")) # => c(\"1: a\", \"2: b\", \"3: c\")"
   ]
  },
  {
   "cell_type": "code",
   "execution_count": 34,
   "id": "e4e7e66e",
   "metadata": {},
   "outputs": [],
   "source": [
    "# Write Function\n",
    "number <- function(lines) {\n",
    "    # Edge-Case with an empty 'lines'\n",
    "    if (length(lines) == 0) return(c())\n",
    "    \n",
    "    # Return 'lines', but with added line-numbers\n",
    "    return(paste0(paste0(1:length(lines), \": \"), lines))\n",
    "}"
   ]
  },
  {
   "cell_type": "code",
   "execution_count": 35,
   "id": "08c6910d",
   "metadata": {},
   "outputs": [],
   "source": [
    "# Test it\n",
    "test_that(\"Sample Tests\", {\n",
    "  expect_equal(number(c()), c())\n",
    "  expect_equal(number(c(\"a\", \"b\", \"c\")), c(\"1: a\", \"2: b\", \"3: c\"))\n",
    "  expect_equal(number(c(\"\", \"\", \"\", \"\", \"\")), c(\"1: \", \"2: \", \"3: \", \"4: \", \"5: \"))\n",
    "  expect_equal(number(c(\"\", \"b\", \"\", \"\", \"\")), c(\"1: \", \"2: b\", \"3: \", \"4: \", \"5: \"))\n",
    "})"
   ]
  },
  {
   "cell_type": "markdown",
   "id": "b17a6696",
   "metadata": {},
   "source": [
    "# 9. Build a square\n",
    "I will give you an integer. Give me back a shape that is as long and wide as the integer. The integer will be a whole number between 1 and 50.\n",
    "Example: n = 3, so I expect a 3x3 square back just like below as a string:\n",
    "\n",
    "    +++\n",
    "    +++\n",
    "    +++"
   ]
  },
  {
   "cell_type": "code",
   "execution_count": 19,
   "id": "ce8ce8be",
   "metadata": {},
   "outputs": [],
   "source": [
    "generate_shape <- function(n) {\n",
    "    # Create a single 'row' of the square (length 'n')\n",
    "    row <- paste(rep(\"+\", n), collapse = \"\")\n",
    "    \n",
    "    # repeat 'row' n times & paste it together with '\\\\n' & return then\n",
    "    paste(rep(row, n), collapse = \"\\\\n\")\n",
    "}"
   ]
  },
  {
   "cell_type": "code",
   "execution_count": 21,
   "id": "28e4b759",
   "metadata": {},
   "outputs": [],
   "source": [
    "test_that('Basic tests', {\n",
    "  expect_equal(generate_shape(3), '+++\\\\n+++\\\\n+++')\n",
    "  expect_equal(generate_shape(8), '++++++++\\\\n++++++++\\\\n++++++++\\\\n++++++++\\\\n++++++++\\\\n++++++++\\\\n++++++++\\\\n++++++++')\n",
    "})"
   ]
  }
 ],
 "metadata": {
  "kernelspec": {
   "display_name": "R",
   "language": "R",
   "name": "ir"
  },
  "language_info": {
   "codemirror_mode": "r",
   "file_extension": ".r",
   "mimetype": "text/x-r-source",
   "name": "R",
   "pygments_lexer": "r",
   "version": "3.6.1"
  }
 },
 "nbformat": 4,
 "nbformat_minor": 5
}

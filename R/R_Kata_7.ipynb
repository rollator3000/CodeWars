{
 "cells": [
  {
   "cell_type": "markdown",
   "metadata": {},
   "source": [
    "# Exercises of difficulty 7 in R"
   ]
  },
  {
   "cell_type": "code",
   "execution_count": 10,
   "metadata": {},
   "outputs": [
    {
     "name": "stderr",
     "output_type": "stream",
     "text": [
      "Loading required package: testthat\n",
      "Warning message:\n",
      "\"package 'testthat' was built under R version 3.6.3\""
     ]
    }
   ],
   "source": [
    "require(testthat)"
   ]
  },
  {
   "cell_type": "markdown",
   "metadata": {},
   "source": [
    "# 1. Even or Odd - Which is Greater?\n",
    "\n",
    "Given a string of digits confirm whether the sum of all the individual even digits are greater than the sum of all the indiviudal odd digits. Always a string of numbers will be given.\n",
    "\n",
    "    - If the sum of even numbers is greater than the odd numbers return: \"Even is greater than Odd\"- \n",
    "    - If the sum of odd numbers is greater than the sum of even numbers return: \"Odd is greater than Even\"\n",
    "    - If the total of both even and odd numbers are identical return: \"Even and Odd are the same\""
   ]
  },
  {
   "cell_type": "code",
   "execution_count": 24,
   "metadata": {},
   "outputs": [],
   "source": [
    "# Write Function\n",
    "even_or_odd <- function(s){\n",
    "    \n",
    "    # Split 's' to its single numerics\n",
    "    s_num <- as.numeric(strsplit(s, \"\")[[1]])\n",
    "    \n",
    "    # Get sums of even/ odd digits\n",
    "    sum_even <- sum(s_num[s_num %% 2 == 0])\n",
    "    sum_odd  <- sum(s_num[s_num %% 2 != 0])\n",
    "    \n",
    "    # Return Result of comparison between 'sum_even' & 'sum_odd'\n",
    "    if (sum_even > sum_odd) return('Even is greater than Odd')\n",
    "    if (sum_even < sum_odd) return('Odd is greater than Even')\n",
    "    return('Even and Odd are the same')\n",
    "}"
   ]
  },
  {
   "cell_type": "code",
   "execution_count": 23,
   "metadata": {},
   "outputs": [
    {
     "name": "stdout",
     "output_type": "stream",
     "text": [
      "Test passed \n"
     ]
    }
   ],
   "source": [
    "# Test it\n",
    "test_that(\"Sample tests\", {\n",
    "  expect_equal(even_or_odd('12'), 'Even is greater than Odd')\n",
    "  expect_equal(even_or_odd('123'), 'Odd is greater than Even')\n",
    "  expect_equal(even_or_odd('112'), 'Even and Odd are the same')\n",
    "})"
   ]
  },
  {
   "cell_type": "markdown",
   "metadata": {},
   "source": [
    "# 2. Sum of Numbers\n",
    "\n",
    "Given two integers a and b, which can be positive or negative, find the sum of all the integers between including them too and return it. If the two numbers are equal return a or b.\n",
    "\n",
    "Note: a and b are not ordered!\n",
    "\n",
    "#### Examples:\n",
    "\n",
    "    get_sum(1, 0) == 1   # 1 + 0 = 1\n",
    "    get_sum(1, 2) == 3   # 1 + 2 = 3\n",
    "    get_sum(0, 1) == 1   # 0 + 1 = 1\n",
    "    get_sum(1, 1) == 1   # 1 Since both are same\n",
    "    get_sum(-1, 0) == -1 # -1 + 0 = -1\n",
    "    get_sum(-1, 2) == 2  # -1 + 0 + 1 + 2 = 2"
   ]
  },
  {
   "cell_type": "code",
   "execution_count": 16,
   "metadata": {},
   "outputs": [],
   "source": [
    "# Write Function\n",
    "get_sum <- function(a, b){\n",
    "    if (a == b) {\n",
    "        return(a)\n",
    "    } else {\n",
    "        return(sum(a:b))\n",
    "    }\n",
    "}"
   ]
  },
  {
   "cell_type": "code",
   "execution_count": 17,
   "metadata": {},
   "outputs": [
    {
     "name": "stdout",
     "output_type": "stream",
     "text": [
      "Test passed \n"
     ]
    }
   ],
   "source": [
    "# Test it\n",
    "test_that(\"Example\", {\n",
    "  expect_equal(get_sum(0, 1), 1)\n",
    "  expect_equal(get_sum(0, -1), -1)\n",
    "})"
   ]
  }
 ],
 "metadata": {
  "kernelspec": {
   "display_name": "R",
   "language": "R",
   "name": "ir"
  },
  "language_info": {
   "codemirror_mode": "r",
   "file_extension": ".r",
   "mimetype": "text/x-r-source",
   "name": "R",
   "pygments_lexer": "r",
   "version": "3.6.1"
  }
 },
 "nbformat": 4,
 "nbformat_minor": 4
}

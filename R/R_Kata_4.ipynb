{
 "cells": [
  {
   "cell_type": "markdown",
   "id": "62463629",
   "metadata": {},
   "source": [
    "# Exercises of difficulty 4 in R"
   ]
  },
  {
   "cell_type": "code",
   "execution_count": 3,
   "id": "a82bd2ab",
   "metadata": {},
   "outputs": [],
   "source": [
    "library(testthat)"
   ]
  },
  {
   "cell_type": "markdown",
   "id": "03bc3eca",
   "metadata": {},
   "source": [
    "# 1. Strings Mix\n",
    "\n",
    "Given two strings s1 and s2, we want to visualize how different the two strings \n",
    "are. We will only take into account the lowercase letters (a to z). First let us\n",
    "count the frequency of each lowercase letters in s1 and s2.\n",
    "\n",
    "    s1 = \"A aaaa bb c\"\n",
    "    s2 = \"& aaa bbb c d\"\n",
    "\n",
    "    --> s1 has 4 'a', 2 'b', 1 'c'\n",
    "    --> s2 has 3 'a', 3 'b', 1 'c', 1 'd'\n",
    "    \n",
    "So the maximum for 'a' in s1 and s2 is 4 from s1; the maximum for 'b' is 3 from s2.\n",
    "In the following we will not consider letters when the maximum of their \n",
    "occurrences is less than or equal to 1.\n",
    "\n",
    "We can resume the differences between s1 and s2 in the following string: \n",
    "\n",
    "    \"1:aaaa/2:bbb\" \n",
    "where 1 in 1:aaaa stands for string s1 and aaaa because the maximum for a is 4. \n",
    "In the same manner 2:bbb stands for string s2 and bbb because the maximum for b is 3.\n",
    "\n",
    "The task is to produce a string in which each lowercase letters of s1 or s2 \n",
    "appears as many times as its maximum if this maximum is strictly greater than 1; \n",
    "these letters will be prefixed by the number of the string where they appear with\n",
    "their maximum value and :. If the maximum is in s1 as well as in s2 the prefix is E:.\n",
    "\n",
    "In the result, substrings (a substring is for example 2:nnnnn or 1:hhh; it contains\n",
    "the prefix) will be in decreasing order of their length and when they have the same\n",
    "length sorted in ascending lexicographic order (letters and digits - more precisely\n",
    "sorted by codepoint); the different groups will be separated by '/'. \n",
    "\n",
    "Hopefully other examples can make this clearer.\n",
    "\n",
    "### Examples\n",
    "\n",
    "    s1 = \"my&friend&Paul has heavy hats! &\"\n",
    "    s2 = \"my friend John has many many friends &\"\n",
    "    mix(s1, s2) --> \"2:nnnnn/1:aaaa/1:hhh/2:mmm/2:yyy/2:dd/2:ff/2:ii/2:rr/E:ee/E:ss\"\n",
    "\n",
    "    s1 = \"mmmmm m nnnnn y&friend&Paul has heavy hats! &\"\n",
    "    s2 = \"my frie n d Joh n has ma n y ma n y frie n ds n&\"\n",
    "    mix(s1, s2) --> \"1:mmmmmm/E:nnnnnn/1:aaaa/1:hhh/2:yyy/2:dd/2:ff/2:ii/2:rr/E:ee/E:ss\"\n",
    "\n",
    "    s1=\"Are the kids at home? aaaaa fffff\"\n",
    "    s2=\"Yes they are here! aaaaa fffff\"\n",
    "    mix(s1, s2) --> \"E:aaaaaa/2:eeeee/E:fffff/1:tt/2:rr/E:hh\""
   ]
  },
  {
   "cell_type": "code",
   "execution_count": 4,
   "id": "b33bd6bb",
   "metadata": {},
   "outputs": [],
   "source": [
    "# Function to count the letters (a-z) in a string and return it as table\n",
    "count_letters <- function(s) {\n",
    "  table(factor(unlist(strsplit(gsub(\"[^a-z]\", \"\", s, perl = TRUE), \"\")), \n",
    "               levels = letters))\n",
    "}\n",
    "\n",
    "mix <- function(s1, s2) {\n",
    "\n",
    "  # Count letters of s1 and s2 \n",
    "  cl1 <- count_letters(s1)\n",
    "  cl2 <- count_letters(s2)\n",
    "  \n",
    "  # Get the results by comparing frequencies at each letter\n",
    "  out <- ifelse(cl1 > cl2, paste0(\"1:\", strrep(names(cl1), cl1)),\n",
    "         ifelse(cl2 > cl1, paste0(\"2:\", strrep(names(cl2), cl2)),\n",
    "                paste0(\"E:\", strrep(names(cl2), cl2))))\n",
    "  \n",
    "  # Only keep the entrances with at least 3 characters \n",
    "  out <- out[nchar(out) > 3]\n",
    "  \n",
    "  # Paste the values to a string and return it\n",
    "  paste(out[order(-nchar(out), rank(substr(out,1, 1)))], collapse = \"/\")\n",
    "}"
   ]
  },
  {
   "cell_type": "code",
   "execution_count": 5,
   "id": "afd25047",
   "metadata": {},
   "outputs": [
    {
     "name": "stdout",
     "output_type": "stream",
     "text": [
      "actual    2:eeeee/2:yy/E:hh/E:rr \n",
      "expected  2:eeeee/2:yy/E:hh/E:rr \n",
      " ------ \n",
      "actual    E:uuuuuu \n",
      "expected  E:uuuuuu \n",
      " ------ \n",
      "actual    1:ooo/1:uuu/2:sss/E:nnn/1:ii/2:aa/2:dd/2:ee/E:gg \n",
      "expected  1:ooo/1:uuu/2:sss/E:nnn/1:ii/2:aa/2:dd/2:ee/E:gg \n",
      " ------ \n",
      "actual    1:aaa/1:nnn/1:gg/2:ee/2:ff/2:ii/2:oo/2:rr/2:ss/2:tt \n",
      "expected  1:aaa/1:nnn/1:gg/2:ee/2:ff/2:ii/2:oo/2:rr/2:ss/2:tt \n",
      " ------ \n",
      "actual    1:ee/1:ll/1:oo \n",
      "expected  1:ee/1:ll/1:oo \n",
      " ------ \n",
      "actual     \n",
      "expected   \n",
      " ------ \n",
      "actual    1:nnnnn/1:ooooo/1:tttt/1:eee/1:gg/1:ii/1:mm/E:rr \n",
      "expected  1:nnnnn/1:ooooo/1:tttt/1:eee/1:gg/1:ii/1:mm/E:rr \n",
      " ------ \n"
     ]
    }
   ],
   "source": [
    "testing <- function(s1, s2, expected) {\n",
    "  actual <- mix(s1, s2)\n",
    "  cat(\"actual   \", actual, \"\\n\")\n",
    "  cat(\"expected \", expected, \"\\n ------ \\n\")\n",
    "  expect_equal(actual, expected)\n",
    "}\n",
    "\n",
    "\n",
    "test_that(\"tests\", {\n",
    "  testing(\"Are they here\", \"yes, they are here\", \n",
    "          \"2:eeeee/2:yy/E:hh/E:rr\")\n",
    "  testing(\"uuuuuu\", \"uuuuuu\", \"E:uuuuuu\")\n",
    "  testing(\"looping is fun but dangerous\", \"less dangerous than coding\", \n",
    "          \"1:ooo/1:uuu/2:sss/E:nnn/1:ii/2:aa/2:dd/2:ee/E:gg\")\n",
    "  testing(\" In many languages\", \" there's a pair of functions\", \n",
    "          \"1:aaa/1:nnn/1:gg/2:ee/2:ff/2:ii/2:oo/2:rr/2:ss/2:tt\")\n",
    "  testing(\"Lords of the Fallen\", \"gamekult\", \"1:ee/1:ll/1:oo\")\n",
    "  testing(\"codewars\", \"codewars\", \"\")\n",
    "  testing(\"A generation must confront the looming \", \n",
    "          \"codewarrs\", \"1:nnnnn/1:ooooo/1:tttt/1:eee/1:gg/1:ii/1:mm/E:rr\")\n",
    "\n",
    "})"
   ]
  },
  {
   "cell_type": "markdown",
   "id": "ee4d1458",
   "metadata": {},
   "source": [
    "# 2. Simple Fun #27: Rectangle Rotation\n",
    "\n",
    "A rectangle with sides equal to even integers a and b is drawn on the Cartesian \n",
    "plane. Its center (the intersection point of its diagonals) coincides with the \n",
    "point (0, 0), but the sides of the rectangle are not parallel to the axes; \n",
    "instead, they are forming 45 degree angles with the axes.\n",
    "\n",
    "How many points with integer coordinates are located inside the given rectangle \n",
    "(including on its sides)?\n",
    "\n",
    "### Example\n",
    "For a = 6 and b = 4, the output should be 23\n",
    "\n",
    "The following picture illustrates the example, and the 23 points are marked green.\n",
    "(see https://www.codewars.com/kata/5886e082a836a691340000c3/train/r)\n",
    "\n",
    "### Input/Output\n",
    "    > integer a: A positive even integer - 2 ≤ a ≤ 10000.\n",
    "    > integer b: A positive even integer - 2 ≤ a ≤ 10000.\n",
    "\n",
    "    > output: The number of inner points with integer coordinates.\n",
    "    "
   ]
  },
  {
   "cell_type": "code",
   "execution_count": 10,
   "id": "7d166366",
   "metadata": {},
   "outputs": [],
   "source": [
    "rectangle_rotation <- function(a, b) {\n",
    "    \n",
    "    # Get the amount of points covered \n",
    "    #  -> Each square is 1x1 & hence it's diagonal is sqrt(2), due to [a^2+b^2=c^2]\n",
    "    #  -> Get the amount of squares covered in two ways:\n",
    "    #    (1) \n",
    "    \n",
    "    #  -> \n",
    "    \n",
    "    # Amount of points covered in the direction of length of a // b\n",
    "    #  - Get amounts covered by length + add 1 due to center-point (0/0)\n",
    "  \n",
    "    p_a_l <- floor((a / sqrt(2)) / 2) * 2 + 1 \n",
    "    p_b_l <- floor((b / sqrt(2)) / 2) * 2 + 1 \n",
    "    \n",
    "    p_a_s <- 2 * ceiling(((a/2) - sqrt(2)/2) / sqrt(2))\n",
    "    p_b_s <- 2 * ceiling(((b/2) - sqrt(2)/2) / sqrt(2))\n",
    "\n",
    "    return(p_b_s * p_a_s + p_b_l * p_a_l)\n",
    "}"
   ]
  },
  {
   "cell_type": "code",
   "execution_count": 241,
   "id": "19329958",
   "metadata": {},
   "outputs": [
    {
     "data": {
      "text/html": [
       "5"
      ],
      "text/latex": [
       "5"
      ],
      "text/markdown": [
       "5"
      ],
      "text/plain": [
       "[1] 5"
      ]
     },
     "metadata": {},
     "output_type": "display_data"
    },
    {
     "data": {
      "text/html": [
       "5"
      ],
      "text/latex": [
       "5"
      ],
      "text/markdown": [
       "5"
      ],
      "text/plain": [
       "[1] 5"
      ]
     },
     "metadata": {},
     "output_type": "display_data"
    },
    {
     "data": {
      "text/html": [
       "2"
      ],
      "text/latex": [
       "2"
      ],
      "text/markdown": [
       "2"
      ],
      "text/plain": [
       "[1] 2"
      ]
     },
     "metadata": {},
     "output_type": "display_data"
    }
   ],
   "source": [
    "a = 6\n",
    "b = 4\n",
    "\n",
    "  #  -> div by sqrt(2), as every 'sqrt(2)' there is a new point (1^2 + 1^2 = diagonale quadrat)\n",
    "\n",
    "floor(a / sqrt(2)) + 1\n",
    "floor((a / sqrt(2)) / 2) * 2 + 1 \n",
    "\n",
    "floor((b / sqrt(2)))"
   ]
  },
  {
   "cell_type": "code",
   "execution_count": 11,
   "id": "20c8db26",
   "metadata": {},
   "outputs": [],
   "source": [
    "test_that(\"basic tests\", {\n",
    "  expect_equal(rectangle_rotation(6, 4), 23)\n",
    "  expect_equal(rectangle_rotation(30, 2), 65)\n",
    "  expect_equal(rectangle_rotation(8, 6), 49)\n",
    "  expect_equal(rectangle_rotation(16, 20), 333)\n",
    "})"
   ]
  },
  {
   "cell_type": "markdown",
   "id": "61c8deee",
   "metadata": {},
   "source": [
    "# 12. Twice linear\n",
    "Consider a sequence u where u is defined as follows:\n",
    "\n",
    "The number u(0) = 1 is the first one in u.\n",
    "For each x in u, then y = 2 * x + 1 and z = 3 * x + 1 must be in u too.\n",
    "There are no other numbers in u.\n",
    "\n",
    "#### Example: \n",
    "    \n",
    "    u = [1, 3, 4, 7, 9, 10, 13, 15, 19, 21, 22, 27, ...]\n",
    "    - 1 gives 3 and 4\n",
    "    - 3 gives 7 and 10\n",
    "    - 4 gives 9 and 13\n",
    "    - 7 gives 15 and 22 \n",
    "    - and so on...\n",
    "\n",
    "#### Task:\n",
    "Given parameter n the function dbl_linear (or dblLinear...) returns the element u(n) of the ordered (with <) sequence u (so, there are no duplicates).\n",
    "\n",
    "#### Example:\n",
    "dbl_linear(10) should return 22\n",
    "\n",
    "#### Note:\n",
    "Focus attention on efficiency"
   ]
  },
  {
   "cell_type": "code",
   "execution_count": 225,
   "id": "0d2ee541",
   "metadata": {},
   "outputs": [],
   "source": [
    "# Write Function\n",
    "dblLinear <- function (n) {\n",
    "    \n",
    "    # Define vector 'u' w/ the start-value '1' \n",
    "    # & the index counter variable\n",
    "    u   <- c(1) \n",
    "\n",
    "    # Calculate the new values in 'u' until it's length is >= n * 10\n",
    "    while (length(u) < n * 10) {\n",
    "\n",
    "        # Calc the next two positions & add them to 'u'\n",
    "        u <- sort(unique(c(u, 2 * u + 1, 3 * u + 1)))\n",
    "    }\n",
    "    \n",
    "    u[n + 1]\n",
    "}"
   ]
  },
  {
   "cell_type": "code",
   "execution_count": 226,
   "id": "6dc74d90",
   "metadata": {},
   "outputs": [],
   "source": [
    "# Test it\n",
    "testing <- function(n, expected) {\n",
    "  actual <- dblLinear(n)\n",
    "  expect_equal(actual, expected)\n",
    "}\n",
    "test_that(\"tests\", {\n",
    "  testing(10, 22)\n",
    "  testing(20, 57)\n",
    "})"
   ]
  }
 ],
 "metadata": {
  "kernelspec": {
   "display_name": "R",
   "language": "R",
   "name": "ir"
  },
  "language_info": {
   "codemirror_mode": "r",
   "file_extension": ".r",
   "mimetype": "text/x-r-source",
   "name": "R",
   "pygments_lexer": "r",
   "version": "3.6.0"
  }
 },
 "nbformat": 4,
 "nbformat_minor": 5
}

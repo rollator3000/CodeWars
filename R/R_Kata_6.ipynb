{
 "cells": [
  {
   "cell_type": "markdown",
   "metadata": {},
   "source": [
    "# Exercises of difficulty 6 in R"
   ]
  },
  {
   "cell_type": "code",
   "execution_count": 2,
   "metadata": {},
   "outputs": [],
   "source": [
    "require(testthat)"
   ]
  },
  {
   "cell_type": "markdown",
   "metadata": {},
   "source": [
    "# 1. PI approximation\n",
    "\n",
    "The aim of the kata is to try to show how difficult it can be to calculate decimals of an irrational number with a certain precision. We have chosen to get a few decimals of the number \"pi\" using the following infinite series (Leibniz 1646–1716):\n",
    "\n",
    "     PI / 4 = 1 - 1/3 + 1/5 - 1/7 + ... which gives an approximation of PI / 4.\n",
    "     --> see: http://en.wikipedia.org/wiki/Leibniz_formula_for_%CF%80\n",
    "     \n",
    "\n",
    "To have a measure of the difficulty we will count how many iterations are needed to calculate PI with a given precision.\n",
    "\n",
    "There are several ways to determine the precision of the calculus but to keep things easy we will calculate to within epsilon of your language Math::PI constant. In other words we will stop the iterative process when the absolute value of the difference between our calculation and the Math::PI constant of the given language is less than epsilon.\n",
    "\n",
    "Your function returns an array or an arrayList or a string or a tuple depending on the language (See sample tests) where your approximation of PI has 10 decimals\n",
    "\n",
    "Example :\n",
    "\n",
    "    your function calculates 1000 iterations and 3.140592653839794 but returns:\n",
    "    iter_pi(0.001) --> [1000, 3.1405926538]\n",
    "\n",
    "Unfortunately, this series converges too slowly to be useful, as it takes over 300 terms to obtain a 2 decimal place precision. To obtain 100 decimal places of PI, it was calculated that one would need to use at least 10^50 terms of this expansion!"
   ]
  },
  {
   "cell_type": "code",
   "execution_count": 73,
   "metadata": {},
   "outputs": [],
   "source": [
    "# Write Function\n",
    "# iterPi(epsilon) must return an array : c(numberOfIterations, approximationOfPi)\n",
    "iterPi <- function(epsilon) {\n",
    "    pi_current = 4\n",
    "    if (abs(pi_current - pi) <= epsilon) return(c(0, round(pi_current, 10)))\n",
    "    for (i in 2:1e+6) {\n",
    "        if (i %% 2 != 0) {\n",
    "            pi_current <- pi_current + 4/(2 * i - 1)\n",
    "        } else {\n",
    "            pi_current <- pi_current - 4/(2 * i - 1)\n",
    "        }\n",
    "        if (abs(pi_current - pi) <= epsilon) return(c(i, round(pi_current, 10)))\n",
    "    }\n",
    "}"
   ]
  },
  {
   "cell_type": "code",
   "execution_count": 70,
   "metadata": {},
   "outputs": [
    {
     "name": "stdout",
     "output_type": "stream",
     "text": [
      "Test passed \n"
     ]
    }
   ],
   "source": [
    "# Test It\n",
    "testing <- function(eps, expected) {\n",
    "  actual <- iterPi(eps)\n",
    "  # there is a tolerance\n",
    "  expect_equal(actual, expected, tol = 1e-10, scale =  1, info = )\n",
    "}\n",
    "\n",
    "test_that(\"test iterPi\", {\n",
    "  testing(0.1, c(10, 3.0418396189))\n",
    "  testing(0.01, c(100, 3.1315929036))\n",
    "  testing(0.001, c(1000, 3.1405926538))\n",
    "})"
   ]
  }
 ],
 "metadata": {
  "kernelspec": {
   "display_name": "R",
   "language": "R",
   "name": "ir"
  },
  "language_info": {
   "codemirror_mode": "r",
   "file_extension": ".r",
   "mimetype": "text/x-r-source",
   "name": "R",
   "pygments_lexer": "r",
   "version": "3.6.1"
  }
 },
 "nbformat": 4,
 "nbformat_minor": 4
}

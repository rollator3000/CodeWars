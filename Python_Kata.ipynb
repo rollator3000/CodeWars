{
 "cells": [
  {
   "cell_type": "code",
   "execution_count": 2,
   "metadata": {},
   "outputs": [],
   "source": [
    "# General:\n",
    "# (1) All outputs are printed when running a cell!\n",
    "from IPython.core.interactiveshell import InteractiveShell\n",
    "InteractiveShell.ast_node_interactivity = \"all\"\n",
    "\n",
    "def assert_equals(x, y):\n",
    "    if not x == y:\n",
    "        return(\"Error!\")\n",
    "    else:\n",
    "        return(\"Success!\")"
   ]
  },
  {
   "cell_type": "markdown",
   "metadata": {},
   "source": [
    "## 1. Jenny's secret message\n",
    "\n",
    "Jenny has written a function that returns a greeting for a user.However, she's in love with Johnny, and would like to greet him slightly different. She added a special case to her function, but she made a mistake.\n",
    "\n",
    "Can you help her?\n",
    "\n",
    "\n",
    "#### Buggy Code:\n",
    "```\n",
    "def greet(name):\n",
    "    return \"Hello, {name}!\".format(name=name)\n",
    "    if name == \"Johnny\":\n",
    "        return \"Hello, my love!\"\n",
    "```"
   ]
  },
  {
   "cell_type": "code",
   "execution_count": 3,
   "metadata": {},
   "outputs": [],
   "source": [
    "# Improved Function:\n",
    "def greet(name):\n",
    "    if name == \"Johnny\":\n",
    "        return \"Hello, my love!\"\n",
    "    else:\n",
    "        return \"Hello, {name}!\".format(name=name)"
   ]
  },
  {
   "cell_type": "code",
   "execution_count": 4,
   "metadata": {},
   "outputs": [
    {
     "name": "stdout",
     "output_type": "stream",
     "text": [
      "Jenny'y greeting function:\n",
      "\n",
      "should greet some people normally:\n",
      "\n"
     ]
    },
    {
     "data": {
      "text/plain": [
       "'Success!'"
      ]
     },
     "execution_count": 4,
     "metadata": {},
     "output_type": "execute_result"
    },
    {
     "data": {
      "text/plain": [
       "'Success!'"
      ]
     },
     "execution_count": 4,
     "metadata": {},
     "output_type": "execute_result"
    },
    {
     "data": {
      "text/plain": [
       "'Success!'"
      ]
     },
     "execution_count": 4,
     "metadata": {},
     "output_type": "execute_result"
    },
    {
     "name": "stdout",
     "output_type": "stream",
     "text": [
      "should greet Johnny a little bit more special:\n",
      "\n"
     ]
    },
    {
     "data": {
      "text/plain": [
       "'Success!'"
      ]
     },
     "execution_count": 4,
     "metadata": {},
     "output_type": "execute_result"
    },
    {
     "name": "stdout",
     "output_type": "stream",
     "text": [
      "ALL TESTS PASSED\n"
     ]
    }
   ],
   "source": [
    "# Test the Code:\n",
    "import pytest\n",
    "print(\"Jenny'y greeting function:\\n\")\n",
    "print(\"should greet some people normally:\\n\")\n",
    "assert_equals(greet(\"James\"), \"Hello, James!\")\n",
    "assert_equals(greet(\"Jane\"), \"Hello, Jane!\")\n",
    "assert_equals(greet(\"Jim\"), \"Hello, Jim!\")\n",
    "\n",
    "print(\"should greet Johnny a little bit more special:\\n\")\n",
    "assert_equals(greet(\"Johnny\"), \"Hello, my love!\")\n",
    "\n",
    "print(\"ALL TESTS PASSED\")"
   ]
  },
  {
   "cell_type": "markdown",
   "metadata": {},
   "source": [
    "## 2. Convert number to reversed array of digits\n",
    "Given a random non-negative number, you have to return the digits of this number within an array in reverse order.\n",
    "\n",
    "Example:  348597 => [7,9,5,8,4,3]"
   ]
  },
  {
   "cell_type": "code",
   "execution_count": 5,
   "metadata": {},
   "outputs": [],
   "source": [
    "# Write the function:\n",
    "def digitize(n):\n",
    "    n_str = list(str(n))\n",
    "    n_str.reverse()\n",
    "    return [float(i) for i in n_str]"
   ]
  },
  {
   "cell_type": "code",
   "execution_count": 6,
   "metadata": {
    "scrolled": true
   },
   "outputs": [
    {
     "data": {
      "text/plain": [
       "'Success!'"
      ]
     },
     "execution_count": 6,
     "metadata": {},
     "output_type": "execute_result"
    },
    {
     "name": "stdout",
     "output_type": "stream",
     "text": [
      "ALL TESTS PASSED\n"
     ]
    }
   ],
   "source": [
    "# Test it:\n",
    "assert_equals(digitize(35231), [1,3,2,5,3])\n",
    "\n",
    "print(\"ALL TESTS PASSED\")"
   ]
  },
  {
   "cell_type": "markdown",
   "metadata": {},
   "source": [
    "## 3. Dollars and Cents\n",
    "\n",
    "The company you work for has just been awarded a contract to build a payment gateway. In order to help move things along, you have volunteered to create a function that will take a float and return the amount formatting in dollars and cents.\n",
    "```\n",
    "39.99 becomes $39.99\n",
    "```\n",
    "\n",
    "The rest of your team will make sure that the argument is sanitized before being passed to your function although you will need to account for adding trailing zeros if they are missing (though you won't have to worry about a dangling period).\n",
    "\n",
    "Examples:\n",
    "```\n",
    "3 needs to become $3.00\n",
    "\n",
    "3.1 needs to become $3.10\n",
    "```\n",
    "Good luck! Your team knows they can count on you!"
   ]
  },
  {
   "cell_type": "code",
   "execution_count": 7,
   "metadata": {},
   "outputs": [],
   "source": [
    "def format_money(amount):\n",
    "    if not '.' in str(amount):\n",
    "        return(\"$\" + str(amount) + \".00\")\n",
    "    \n",
    "    cent   = str(amount).split(\".\")[1]\n",
    "    dollar = str(amount).split(\".\")[0] \n",
    "\n",
    "    if len(cent) == 1:\n",
    "        return(\"$\" + dollar + \".\" + cent + \"0\")\n",
    "    else:\n",
    "        return(\"$\" + dollar + \".\" + cent)"
   ]
  },
  {
   "cell_type": "code",
   "execution_count": 8,
   "metadata": {},
   "outputs": [
    {
     "data": {
      "text/plain": [
       "'Success!'"
      ]
     },
     "execution_count": 8,
     "metadata": {},
     "output_type": "execute_result"
    },
    {
     "data": {
      "text/plain": [
       "'Success!'"
      ]
     },
     "execution_count": 8,
     "metadata": {},
     "output_type": "execute_result"
    },
    {
     "data": {
      "text/plain": [
       "'Success!'"
      ]
     },
     "execution_count": 8,
     "metadata": {},
     "output_type": "execute_result"
    }
   ],
   "source": [
    "# Test it:\n",
    "assert_equals(format_money(39.99), '$39.99')\n",
    "assert_equals(format_money(3), '$3.00')\n",
    "assert_equals(format_money(3.1), '$3.10')"
   ]
  },
  {
   "cell_type": "markdown",
   "metadata": {},
   "source": [
    "## 4. Unfinished Loop - Bug Fixing\n",
    "Oh no, Timmy's created an infinite loop! Help Timmy find and fix the bug in his unfinished for loop!\n",
    "\n",
    "#### Buggy Code:\n",
    "```\n",
    "def create_array(n):\n",
    "    res=[]\n",
    "    i=1\n",
    "    while i<=n: res+=[i]\n",
    "    return res\n",
    "```"
   ]
  },
  {
   "cell_type": "code",
   "execution_count": 9,
   "metadata": {},
   "outputs": [],
   "source": [
    "# Correct the Function:\n",
    "def create_array(n):\n",
    "    res=[]\n",
    "    i=1\n",
    "    while i<=n: \n",
    "        res += [i]\n",
    "        i += 1\n",
    "    return res"
   ]
  },
  {
   "cell_type": "code",
   "execution_count": 10,
   "metadata": {},
   "outputs": [
    {
     "data": {
      "text/plain": [
       "'Success!'"
      ]
     },
     "execution_count": 10,
     "metadata": {},
     "output_type": "execute_result"
    },
    {
     "data": {
      "text/plain": [
       "'Success!'"
      ]
     },
     "execution_count": 10,
     "metadata": {},
     "output_type": "execute_result"
    },
    {
     "data": {
      "text/plain": [
       "'Success!'"
      ]
     },
     "execution_count": 10,
     "metadata": {},
     "output_type": "execute_result"
    },
    {
     "data": {
      "text/plain": [
       "'Success!'"
      ]
     },
     "execution_count": 10,
     "metadata": {},
     "output_type": "execute_result"
    },
    {
     "data": {
      "text/plain": [
       "'Success!'"
      ]
     },
     "execution_count": 10,
     "metadata": {},
     "output_type": "execute_result"
    }
   ],
   "source": [
    "# Test it\n",
    "assert_equals(create_array(1),[1])\n",
    "assert_equals(create_array(2),[1,2])\n",
    "assert_equals(create_array(3),[1,2,3])\n",
    "assert_equals(create_array(4),[1,2,3,4])\n",
    "assert_equals(create_array(5),[1,2,3,4,5])"
   ]
  },
  {
   "cell_type": "markdown",
   "metadata": {},
   "source": [
    "## 5. Grade book\n",
    "\n",
    "Complete the function so that it finds the mean of the three scores passed to it and returns the letter value associated with that grade.\n",
    "\n",
    "| Numerical Score | Letter Grade |\n",
    "|-----------------|--------------|\n",
    "| [90; 100]       | A            |\n",
    "| [80;90[         | B            |\n",
    "| [70;80[         | C            |\n",
    "| [60;70[         | D            |\n",
    "| [0;60[          | F            |\n",
    "\n",
    "Tested values are all between 0 and 100. Theres is no need to check for negative values or values greater than 100."
   ]
  },
  {
   "cell_type": "code",
   "execution_count": 25,
   "metadata": {},
   "outputs": [],
   "source": [
    "def get_grade(s1, s2, s3):\n",
    "    average_grade = sum([s1, s2, s3]) / 3\n",
    "    if average_grade < 60: return \"F\"\n",
    "    if average_grade < 70: return \"D\"\n",
    "    if average_grade < 80: return \"C\"\n",
    "    if average_grade < 90: return \"B\"\n",
    "    return(\"A\")"
   ]
  },
  {
   "cell_type": "code",
   "execution_count": 26,
   "metadata": {},
   "outputs": [
    {
     "data": {
      "text/plain": [
       "'Success!'"
      ]
     },
     "execution_count": 26,
     "metadata": {},
     "output_type": "execute_result"
    },
    {
     "data": {
      "text/plain": [
       "'Success!'"
      ]
     },
     "execution_count": 26,
     "metadata": {},
     "output_type": "execute_result"
    },
    {
     "data": {
      "text/plain": [
       "'Success!'"
      ]
     },
     "execution_count": 26,
     "metadata": {},
     "output_type": "execute_result"
    },
    {
     "data": {
      "text/plain": [
       "'Success!'"
      ]
     },
     "execution_count": 26,
     "metadata": {},
     "output_type": "execute_result"
    },
    {
     "data": {
      "text/plain": [
       "'Success!'"
      ]
     },
     "execution_count": 26,
     "metadata": {},
     "output_type": "execute_result"
    },
    {
     "data": {
      "text/plain": [
       "'Success!'"
      ]
     },
     "execution_count": 26,
     "metadata": {},
     "output_type": "execute_result"
    },
    {
     "data": {
      "text/plain": [
       "'Success!'"
      ]
     },
     "execution_count": 26,
     "metadata": {},
     "output_type": "execute_result"
    },
    {
     "data": {
      "text/plain": [
       "'Success!'"
      ]
     },
     "execution_count": 26,
     "metadata": {},
     "output_type": "execute_result"
    },
    {
     "data": {
      "text/plain": [
       "'Success!'"
      ]
     },
     "execution_count": 26,
     "metadata": {},
     "output_type": "execute_result"
    },
    {
     "data": {
      "text/plain": [
       "'Success!'"
      ]
     },
     "execution_count": 26,
     "metadata": {},
     "output_type": "execute_result"
    },
    {
     "data": {
      "text/plain": [
       "'Success!'"
      ]
     },
     "execution_count": 26,
     "metadata": {},
     "output_type": "execute_result"
    },
    {
     "data": {
      "text/plain": [
       "'Success!'"
      ]
     },
     "execution_count": 26,
     "metadata": {},
     "output_type": "execute_result"
    },
    {
     "data": {
      "text/plain": [
       "'Success!'"
      ]
     },
     "execution_count": 26,
     "metadata": {},
     "output_type": "execute_result"
    },
    {
     "data": {
      "text/plain": [
       "'Success!'"
      ]
     },
     "execution_count": 26,
     "metadata": {},
     "output_type": "execute_result"
    },
    {
     "data": {
      "text/plain": [
       "'Success!'"
      ]
     },
     "execution_count": 26,
     "metadata": {},
     "output_type": "execute_result"
    }
   ],
   "source": [
    "# Test it:\n",
    "assert_equals(get_grade(95, 90, 93), \"A\")\n",
    "assert_equals(get_grade(100, 85, 96), \"A\")\n",
    "assert_equals(get_grade(92, 93, 94), \"A\")\n",
    "\n",
    "assert_equals(get_grade(70, 70, 100), \"B\")\n",
    "assert_equals(get_grade(82, 85, 87), \"B\")\n",
    "assert_equals(get_grade(84, 79, 85), \"B\")\n",
    "\n",
    "assert_equals(get_grade(70, 70, 70), \"C\")\n",
    "assert_equals(get_grade(75, 70, 79), \"C\")\n",
    "assert_equals(get_grade(60, 82, 76), \"C\")\n",
    "\n",
    "assert_equals(get_grade(65, 70, 59), \"D\")\n",
    "assert_equals(get_grade(66, 62, 68), \"D\")\n",
    "assert_equals(get_grade(58, 62, 70), \"D\")\n",
    "\n",
    "assert_equals(get_grade(44, 55, 52), \"F\")\n",
    "assert_equals(get_grade(48, 55, 52), \"F\")\n",
    "assert_equals(get_grade(58, 59, 60), \"F\")"
   ]
  },
  {
   "cell_type": "markdown",
   "metadata": {},
   "source": [
    "## 6. Decipher this! \n",
    "\n",
    "You are given a secret message you need to decipher. Here are the things you need to know to decipher it:\n",
    "For each word:\n",
    "\n",
    "    the second and the last letter is switched (e.g. Hello becomes Holle)\n",
    "    the first letter is replaced by its character code (e.g. H becomes 72)\n",
    "\n",
    "Note: there are no special characters used, only letters and spaces\n",
    "\n",
    "Examples:\n",
    "\n",
    "```\n",
    "decipherThis('72olle 103doo 100ya'); // 'Hello good day'\n",
    "decipherThis('82yade 115te 103o'); // 'Ready set go'\n",
    "```"
   ]
  },
  {
   "cell_type": "code",
   "execution_count": 74,
   "metadata": {},
   "outputs": [],
   "source": [
    "def decipher_this(string):\n",
    "    # Split 'string' into its single words\n",
    "    string_words = string.split(\" \")\n",
    "    \n",
    "    # Create a list to store the deciphered words\n",
    "    deciphered_words = []\n",
    "    \n",
    "    # Loop over each word in 'string_words' and decipher it!\n",
    "    for word in string_words:\n",
    "\n",
    "        # Get the numeric representation of the first letter in 'word' & convert it back to a letter\n",
    "        first_letter  = chr(int(''.join(filter(str.isdigit, word))))\n",
    "\n",
    "        # Get the letters in the word & change the last with the first letter\n",
    "        letters_in_word = list(str(''.join(filter(str.isalpha, word))))\n",
    "        if len(letters_in_word) > 0:\n",
    "            letters_in_word[0], letters_in_word[-1] = letters_in_word[-1], letters_in_word[0]\n",
    "\n",
    "            # Get the deciphered version of 'word'\n",
    "            deciphered_words.append(first_letter + ''.join(letters_in_word))\n",
    "        else:\n",
    "            deciphered_words.append(first_letter)\n",
    "\n",
    "    return(' '.join(deciphered_words))"
   ]
  },
  {
   "cell_type": "code",
   "execution_count": 75,
   "metadata": {},
   "outputs": [
    {
     "data": {
      "text/plain": [
       "'Success!'"
      ]
     },
     "execution_count": 75,
     "metadata": {},
     "output_type": "execute_result"
    },
    {
     "data": {
      "text/plain": [
       "'Success!'"
      ]
     },
     "execution_count": 75,
     "metadata": {},
     "output_type": "execute_result"
    },
    {
     "data": {
      "text/plain": [
       "'Success!'"
      ]
     },
     "execution_count": 75,
     "metadata": {},
     "output_type": "execute_result"
    },
    {
     "data": {
      "text/plain": [
       "'Success!'"
      ]
     },
     "execution_count": 75,
     "metadata": {},
     "output_type": "execute_result"
    },
    {
     "data": {
      "text/plain": [
       "'Success!'"
      ]
     },
     "execution_count": 75,
     "metadata": {},
     "output_type": "execute_result"
    }
   ],
   "source": [
    "## Test it\n",
    "assert_equals(decipher_this(\"65 119esi 111dl 111lw 108dvei 105n 97n 111ka\"), \"A wise old owl lived in an oak\")\n",
    "assert_equals(decipher_this(\"84eh 109ero 104e 115wa 116eh 108sse 104e 115eokp\"), \"The more he saw the less he spoke\")\n",
    "assert_equals(decipher_this(\"84eh 108sse 104e 115eokp 116eh 109ero 104e 104dare\"), \"The less he spoke the more he heard\")\n",
    "assert_equals(decipher_this(\"87yh 99na 119e 110to 97ll 98e 108eki 116tah 119esi 111dl 98dri\"), \"Why can we not all be like that wise old bird\")\n",
    "assert_equals(decipher_this(\"84kanh 121uo 80roti 102ro 97ll 121ruo 104ple\"), \"Thank you Piotr for all your help\")"
   ]
  },
  {
   "cell_type": "code",
   "execution_count": 69,
   "metadata": {},
   "outputs": [
    {
     "ename": "SyntaxError",
     "evalue": "invalid syntax (<ipython-input-69-309c4569e0d8>, line 10)",
     "output_type": "error",
     "traceback": [
      "\u001b[0;36m  File \u001b[0;32m\"<ipython-input-69-309c4569e0d8>\"\u001b[0;36m, line \u001b[0;32m10\u001b[0m\n\u001b[0;31m    for in string_words:\u001b[0m\n\u001b[0m        ^\u001b[0m\n\u001b[0;31mSyntaxError\u001b[0m\u001b[0;31m:\u001b[0m invalid syntax\n"
     ]
    }
   ],
   "source": [
    "string = \"65 119esi 111dl 111lw 108dvei 105n 97n 111ka\"\n",
    "\n",
    "# Split 'string' into its single words\n",
    "string_words = string.split(\" \")\n",
    "\n",
    "# Create a list to store the deciphered words\n",
    "deciphered_words = []\n",
    "\n",
    "# Loop over each word in 'string_words' and decipher it!\n",
    "for in string_words:\n",
    "\n",
    "    # Get the numeric representation of the first letter in 'word' & convert it back to a letter\n",
    "    first_letter  = chr(int(''.join(filter(str.isdigit, word))))\n",
    "\n",
    "    # Get the letters in the word & change the last with the first letter\n",
    "    letters_in_word = list(str(''.join(filter(str.isalpha, word))))\n",
    "    if len(letters_in_word) > 0:\n",
    "        letters_in_word[0], letters_in_word[-1] = letters_in_word[-1], letters_in_word[0]\n",
    "\n",
    "    # Get the deciphered version of 'word'\n",
    "    deciphered_words.append(first_letter + ''.join(letters_in_word))"
   ]
  },
  {
   "cell_type": "code",
   "execution_count": 73,
   "metadata": {},
   "outputs": [
    {
     "data": {
      "text/plain": [
       "0"
      ]
     },
     "execution_count": 73,
     "metadata": {},
     "output_type": "execute_result"
    }
   ],
   "source": [
    "word = '65'\n",
    "\n",
    "letters_in_word = list(str(''.join(filter(str.isalpha, word))))\n",
    "\n",
    "len(letters_in_word)"
   ]
  }
 ],
 "metadata": {
  "kernelspec": {
   "display_name": "Python 3",
   "language": "python",
   "name": "python3"
  },
  "language_info": {
   "codemirror_mode": {
    "name": "ipython",
    "version": 3
   },
   "file_extension": ".py",
   "mimetype": "text/x-python",
   "name": "python",
   "nbconvert_exporter": "python",
   "pygments_lexer": "ipython3",
   "version": "3.8.3"
  }
 },
 "nbformat": 4,
 "nbformat_minor": 4
}

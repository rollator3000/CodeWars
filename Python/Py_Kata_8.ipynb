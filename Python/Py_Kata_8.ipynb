{
 "cells": [
  {
   "cell_type": "markdown",
   "metadata": {},
   "source": [
    "# Exercises of difficulty 8 in Python"
   ]
  },
  {
   "cell_type": "code",
   "execution_count": 4,
   "metadata": {},
   "outputs": [],
   "source": [
    "# General Settings:\n",
    "# (1) All outputs are printed when running a cell!\n",
    "from IPython.core.interactiveshell import InteractiveShell\n",
    "InteractiveShell.ast_node_interactivity = \"all\"\n",
    "\n",
    "# (2) Function to check the results\n",
    "def assert_equals(x, y):\n",
    "    if not x == y:\n",
    "        return(\"Error!\")\n",
    "    else:\n",
    "        return(\"Success!\")"
   ]
  },
  {
   "cell_type": "markdown",
   "metadata": {},
   "source": [
    "## 1. Jenny's secret message\n",
    "\n",
    "Jenny has written a function that returns a greeting for a user.However, she's in love with Johnny, and would like to greet him slightly different. She added a special case to her function, but she made a mistake.\n",
    "\n",
    "Can you help her?\n",
    "\n",
    "\n",
    "#### Buggy Code:\n",
    "```\n",
    "def greet(name):\n",
    "    return \"Hello, {name}!\".format(name=name)\n",
    "    if name == \"Johnny\":\n",
    "        return \"Hello, my love!\"\n",
    "```"
   ]
  },
  {
   "cell_type": "code",
   "execution_count": 4,
   "metadata": {},
   "outputs": [],
   "source": [
    "# Improved Function:\n",
    "def greet(name):\n",
    "    if name == \"Johnny\":\n",
    "        return \"Hello, my love!\"\n",
    "    else:\n",
    "        return \"Hello, {name}!\".format(name=name)"
   ]
  },
  {
   "cell_type": "code",
   "execution_count": 5,
   "metadata": {},
   "outputs": [
    {
     "data": {
      "text/plain": [
       "'Success!'"
      ]
     },
     "execution_count": 5,
     "metadata": {},
     "output_type": "execute_result"
    },
    {
     "data": {
      "text/plain": [
       "'Success!'"
      ]
     },
     "execution_count": 5,
     "metadata": {},
     "output_type": "execute_result"
    },
    {
     "data": {
      "text/plain": [
       "'Success!'"
      ]
     },
     "execution_count": 5,
     "metadata": {},
     "output_type": "execute_result"
    },
    {
     "data": {
      "text/plain": [
       "'Success!'"
      ]
     },
     "execution_count": 5,
     "metadata": {},
     "output_type": "execute_result"
    }
   ],
   "source": [
    "# Test the Code:\n",
    "assert_equals(greet(\"James\"), \"Hello, James!\")\n",
    "assert_equals(greet(\"Jane\"), \"Hello, Jane!\")\n",
    "assert_equals(greet(\"Jim\"), \"Hello, Jim!\")\n",
    "assert_equals(greet(\"Johnny\"), \"Hello, my love!\")"
   ]
  },
  {
   "cell_type": "markdown",
   "metadata": {},
   "source": [
    "## 2. Convert number to reversed array of digits\n",
    "Given a random non-negative number, you have to return the digits of this number within an array in reverse order.\n",
    "\n",
    "Example:  348597 => [7,9,5,8,4,3]"
   ]
  },
  {
   "cell_type": "code",
   "execution_count": 7,
   "metadata": {},
   "outputs": [],
   "source": [
    "# Write the function:\n",
    "def digitize(n):\n",
    "    n_str = list(str(n))\n",
    "    n_str.reverse()\n",
    "    return [float(i) for i in n_str]"
   ]
  },
  {
   "cell_type": "code",
   "execution_count": 8,
   "metadata": {},
   "outputs": [
    {
     "data": {
      "text/plain": [
       "'Success!'"
      ]
     },
     "execution_count": 8,
     "metadata": {},
     "output_type": "execute_result"
    }
   ],
   "source": [
    "# Test it:\n",
    "assert_equals(digitize(35231), [1,3,2,5,3])"
   ]
  },
  {
   "cell_type": "markdown",
   "metadata": {},
   "source": [
    "## 3. Dollars and Cents\n",
    "\n",
    "The company you work for has just been awarded a contract to build a payment gateway. In order to help move things along, you have volunteered to create a function that will take a float and return the amount formatting in dollars and cents.\n",
    "```\n",
    "39.99 becomes $39.99\n",
    "```\n",
    "\n",
    "The rest of your team will make sure that the argument is sanitized before being passed to your function although you will need to account for adding trailing zeros if they are missing (though you won't have to worry about a dangling period).\n",
    "\n",
    "Examples:\n",
    "```\n",
    "3 needs to become $3.00\n",
    "\n",
    "3.1 needs to become $3.10\n",
    "```\n",
    "Good luck! Your team knows they can count on you!"
   ]
  },
  {
   "cell_type": "code",
   "execution_count": 9,
   "metadata": {},
   "outputs": [],
   "source": [
    "def format_money(amount):\n",
    "    if not '.' in str(amount):\n",
    "        return(\"$\" + str(amount) + \".00\")\n",
    "    \n",
    "    cent   = str(amount).split(\".\")[1]\n",
    "    dollar = str(amount).split(\".\")[0] \n",
    "\n",
    "    if len(cent) == 1:\n",
    "        return(\"$\" + dollar + \".\" + cent + \"0\")\n",
    "    else:\n",
    "        return(\"$\" + dollar + \".\" + cent)"
   ]
  },
  {
   "cell_type": "code",
   "execution_count": 10,
   "metadata": {},
   "outputs": [
    {
     "data": {
      "text/plain": [
       "'Success!'"
      ]
     },
     "execution_count": 10,
     "metadata": {},
     "output_type": "execute_result"
    },
    {
     "data": {
      "text/plain": [
       "'Success!'"
      ]
     },
     "execution_count": 10,
     "metadata": {},
     "output_type": "execute_result"
    },
    {
     "data": {
      "text/plain": [
       "'Success!'"
      ]
     },
     "execution_count": 10,
     "metadata": {},
     "output_type": "execute_result"
    }
   ],
   "source": [
    "# Test it:\n",
    "assert_equals(format_money(39.99), '$39.99')\n",
    "assert_equals(format_money(3), '$3.00')\n",
    "assert_equals(format_money(3.1), '$3.10')"
   ]
  },
  {
   "cell_type": "markdown",
   "metadata": {},
   "source": [
    "## 4. Unfinished Loop - Bug Fixing\n",
    "\n",
    "Oh no, Timmy's created an infinite loop! Help Timmy find and fix the bug in his unfinished for loop!\n",
    "Buggy Code:\n",
    "\n",
    "def create_array(n):\n",
    "    res=[]\n",
    "    i=1\n",
    "    while i<=n: res+=[i]\n",
    "    return res"
   ]
  },
  {
   "cell_type": "code",
   "execution_count": 11,
   "metadata": {},
   "outputs": [],
   "source": [
    "# Correct the Function:\n",
    "def create_array(n):\n",
    "    res=[]\n",
    "    i=1\n",
    "    while i<=n: \n",
    "        res += [i]\n",
    "        i += 1\n",
    "    return res"
   ]
  },
  {
   "cell_type": "code",
   "execution_count": 12,
   "metadata": {},
   "outputs": [
    {
     "data": {
      "text/plain": [
       "'Success!'"
      ]
     },
     "execution_count": 12,
     "metadata": {},
     "output_type": "execute_result"
    },
    {
     "data": {
      "text/plain": [
       "'Success!'"
      ]
     },
     "execution_count": 12,
     "metadata": {},
     "output_type": "execute_result"
    },
    {
     "data": {
      "text/plain": [
       "'Success!'"
      ]
     },
     "execution_count": 12,
     "metadata": {},
     "output_type": "execute_result"
    },
    {
     "data": {
      "text/plain": [
       "'Success!'"
      ]
     },
     "execution_count": 12,
     "metadata": {},
     "output_type": "execute_result"
    },
    {
     "data": {
      "text/plain": [
       "'Success!'"
      ]
     },
     "execution_count": 12,
     "metadata": {},
     "output_type": "execute_result"
    }
   ],
   "source": [
    "# Test it\n",
    "assert_equals(create_array(1),[1])\n",
    "assert_equals(create_array(2),[1,2])\n",
    "assert_equals(create_array(3),[1,2,3])\n",
    "assert_equals(create_array(4),[1,2,3,4])\n",
    "assert_equals(create_array(5),[1,2,3,4,5])"
   ]
  },
  {
   "cell_type": "markdown",
   "metadata": {},
   "source": [
    "## 5. Grade book\n",
    "\n",
    "Complete the function so that it finds the mean of the three scores passed to it and returns the letter value associated with that grade.\n",
    "\n",
    "| Numerical Score | Letter Grade |\n",
    "|-----------------|--------------|\n",
    "| [90; 100]       | A            |\n",
    "| [80;90[         | B            |\n",
    "| [70;80[         | C            |\n",
    "| [60;70[         | D            |\n",
    "| [0;60[          | F            |\n",
    "\n",
    "Tested values are all between 0 and 100. Theres is no need to check for negative values or values greater than 100."
   ]
  },
  {
   "cell_type": "code",
   "execution_count": 13,
   "metadata": {},
   "outputs": [],
   "source": [
    "def get_grade(s1, s2, s3):\n",
    "    average_grade = sum([s1, s2, s3]) / 3\n",
    "    if average_grade < 60: return \"F\"\n",
    "    if average_grade < 70: return \"D\"\n",
    "    if average_grade < 80: return \"C\"\n",
    "    if average_grade < 90: return \"B\"\n",
    "    return(\"A\")"
   ]
  },
  {
   "cell_type": "code",
   "execution_count": 14,
   "metadata": {},
   "outputs": [
    {
     "data": {
      "text/plain": [
       "'Success!'"
      ]
     },
     "execution_count": 14,
     "metadata": {},
     "output_type": "execute_result"
    },
    {
     "data": {
      "text/plain": [
       "'Success!'"
      ]
     },
     "execution_count": 14,
     "metadata": {},
     "output_type": "execute_result"
    },
    {
     "data": {
      "text/plain": [
       "'Success!'"
      ]
     },
     "execution_count": 14,
     "metadata": {},
     "output_type": "execute_result"
    },
    {
     "data": {
      "text/plain": [
       "'Success!'"
      ]
     },
     "execution_count": 14,
     "metadata": {},
     "output_type": "execute_result"
    },
    {
     "data": {
      "text/plain": [
       "'Success!'"
      ]
     },
     "execution_count": 14,
     "metadata": {},
     "output_type": "execute_result"
    },
    {
     "data": {
      "text/plain": [
       "'Success!'"
      ]
     },
     "execution_count": 14,
     "metadata": {},
     "output_type": "execute_result"
    },
    {
     "data": {
      "text/plain": [
       "'Success!'"
      ]
     },
     "execution_count": 14,
     "metadata": {},
     "output_type": "execute_result"
    },
    {
     "data": {
      "text/plain": [
       "'Success!'"
      ]
     },
     "execution_count": 14,
     "metadata": {},
     "output_type": "execute_result"
    },
    {
     "data": {
      "text/plain": [
       "'Success!'"
      ]
     },
     "execution_count": 14,
     "metadata": {},
     "output_type": "execute_result"
    },
    {
     "data": {
      "text/plain": [
       "'Success!'"
      ]
     },
     "execution_count": 14,
     "metadata": {},
     "output_type": "execute_result"
    }
   ],
   "source": [
    "# Test it:\n",
    "assert_equals(get_grade(95, 90, 93), \"A\")\n",
    "assert_equals(get_grade(100, 85, 96), \"A\")\n",
    "\n",
    "assert_equals(get_grade(70, 70, 100), \"B\")\n",
    "assert_equals(get_grade(82, 85, 87), \"B\")\n",
    "\n",
    "assert_equals(get_grade(70, 70, 70), \"C\")\n",
    "assert_equals(get_grade(75, 70, 79), \"C\")\n",
    "\n",
    "assert_equals(get_grade(65, 70, 59), \"D\")\n",
    "assert_equals(get_grade(66, 62, 68), \"D\")\n",
    "\n",
    "assert_equals(get_grade(44, 55, 52), \"F\")\n",
    "assert_equals(get_grade(48, 55, 52), \"F\")"
   ]
  },
  {
   "cell_type": "markdown",
   "metadata": {},
   "source": [
    "# 6. Formatting decimal places\n",
    "\n",
    "Each number should be formatted that it is rounded to two decimal places. You do not need to check whether the input is a valid number because only valid numbers are used in the tests.\n",
    "\n",
    "### Example:    \n",
    "    5.5589 is rounded 5.56   \n",
    "    3.3424 is rounded 3.34"
   ]
  },
  {
   "cell_type": "code",
   "execution_count": 7,
   "metadata": {},
   "outputs": [],
   "source": [
    "# Write Function\n",
    "def two_decimal_places(n):\n",
    "    return(round(n, 2))"
   ]
  },
  {
   "cell_type": "code",
   "execution_count": 8,
   "metadata": {},
   "outputs": [
    {
     "data": {
      "text/plain": [
       "'Success!'"
      ]
     },
     "execution_count": 8,
     "metadata": {},
     "output_type": "execute_result"
    },
    {
     "data": {
      "text/plain": [
       "'Success!'"
      ]
     },
     "execution_count": 8,
     "metadata": {},
     "output_type": "execute_result"
    },
    {
     "data": {
      "text/plain": [
       "'Success!'"
      ]
     },
     "execution_count": 8,
     "metadata": {},
     "output_type": "execute_result"
    }
   ],
   "source": [
    "# Test it\n",
    "assert_equals(two_decimal_places(4.659725356), 4.66)\n",
    "assert_equals(two_decimal_places(173735326.3783732637948948), 173735326.38)\n",
    "assert_equals(two_decimal_places(4.653725356), 4.65)"
   ]
  },
  {
   "cell_type": "markdown",
   "metadata": {},
   "source": [
    "# 7. Is this my tail?\n",
    "\n",
    "Some new animals have arrived at the zoo. The zoo keeper is concerned that perhaps the animals do not have the right tails. To help her, you must correct the broken function to make sure that the second argument (tail), is the same as the last letter of the first argument (body) - otherwise the tail wouldn't fit!\n",
    "\n",
    "If the tail is right return true, else return false.\n",
    "\n",
    "The arguments will always be strings, and normal letters.\n",
    "\n",
    "### False Function\n",
    "    def correct_tail(body, tail):\n",
    "         sub = body.substr(len(body)-len(tail.length)\n",
    "            if sub = tai:\n",
    "        return True\n",
    "            else:\n",
    "        return False"
   ]
  },
  {
   "cell_type": "code",
   "execution_count": 15,
   "metadata": {},
   "outputs": [],
   "source": [
    "# Corrected Function\n",
    "def correct_tail(body, tail):\n",
    "    if list(body)[len(body) - 1] == tail:\n",
    "        return True\n",
    "    else:\n",
    "        return False"
   ]
  },
  {
   "cell_type": "code",
   "execution_count": 18,
   "metadata": {},
   "outputs": [
    {
     "data": {
      "text/plain": [
       "'Success!'"
      ]
     },
     "execution_count": 18,
     "metadata": {},
     "output_type": "execute_result"
    },
    {
     "data": {
      "text/plain": [
       "'Success!'"
      ]
     },
     "execution_count": 18,
     "metadata": {},
     "output_type": "execute_result"
    },
    {
     "data": {
      "text/plain": [
       "'Success!'"
      ]
     },
     "execution_count": 18,
     "metadata": {},
     "output_type": "execute_result"
    },
    {
     "data": {
      "text/plain": [
       "'Success!'"
      ]
     },
     "execution_count": 18,
     "metadata": {},
     "output_type": "execute_result"
    },
    {
     "data": {
      "text/plain": [
       "'Success!'"
      ]
     },
     "execution_count": 18,
     "metadata": {},
     "output_type": "execute_result"
    },
    {
     "data": {
      "text/plain": [
       "'Success!'"
      ]
     },
     "execution_count": 18,
     "metadata": {},
     "output_type": "execute_result"
    }
   ],
   "source": [
    "# Test it\n",
    "assert_equals(correct_tail(\"Fox\", \"x\"), True)\n",
    "assert_equals(correct_tail(\"Rhino\", \"o\"), True)\n",
    "assert_equals(correct_tail(\"Meerkat\", \"t\"), True)\n",
    "assert_equals(correct_tail(\"Emu\", \"t\"), False)\n",
    "assert_equals(correct_tail(\"Badger\", \"s\"), False)\n",
    "assert_equals(correct_tail(\"Giraffe\", \"d\"), False)"
   ]
  },
  {
   "cell_type": "markdown",
   "metadata": {},
   "source": [
    "# 8. Return Negative\n",
    "\n",
    "In this simple assignment you are given a number and have to make it negative. But maybe the number is already negative?\n",
    "\n",
    "#### Example:\n",
    "\n",
    "    make_negative(1);  # return -1\n",
    "    make_negative(-5); # return -5\n",
    "    make_negative(0);  # return 0\n",
    "    \n",
    "#### Notes:\n",
    "1. The number can be negative already, in which case no change is required.\n",
    "2. Zero (0) is not checked for any specific sign. Negative zeros make no mathematical sense."
   ]
  },
  {
   "cell_type": "code",
   "execution_count": 3,
   "metadata": {},
   "outputs": [],
   "source": [
    "# Write Function\n",
    "def make_negative(number):\n",
    "    if number > 0: return(number * -1)\n",
    "    return(number)"
   ]
  },
  {
   "cell_type": "code",
   "execution_count": 4,
   "metadata": {},
   "outputs": [
    {
     "data": {
      "text/plain": [
       "'Success!'"
      ]
     },
     "execution_count": 4,
     "metadata": {},
     "output_type": "execute_result"
    },
    {
     "data": {
      "text/plain": [
       "'Success!'"
      ]
     },
     "execution_count": 4,
     "metadata": {},
     "output_type": "execute_result"
    },
    {
     "data": {
      "text/plain": [
       "'Success!'"
      ]
     },
     "execution_count": 4,
     "metadata": {},
     "output_type": "execute_result"
    }
   ],
   "source": [
    "# Test it\n",
    "assert_equals(make_negative(42),-42)\n",
    "assert_equals(make_negative(-9),-9)\n",
    "assert_equals(make_negative(0),0)"
   ]
  },
  {
   "cell_type": "markdown",
   "metadata": {},
   "source": [
    "# 9. My head is at the wrong end!\n",
    "\n",
    "You're at the zoo... all the meerkats look weird. Something has gone terribly wrong - someone has gone and switched their heads and tails around!\n",
    "\n",
    "Save the animals by switching them back. You will be given an array which will have three values (tail, body, head). It is your job to re-arrange the array so that the animal is the right way round (head, body, tail).\n",
    "\n",
    "Same goes for all the other arrays/lists that you will get in the tests: you have to change the element positions with the same exact logics"
   ]
  },
  {
   "cell_type": "code",
   "execution_count": 8,
   "metadata": {},
   "outputs": [],
   "source": [
    "def fix_the_meerkat(arr):\n",
    "    arr[0], arr[2] = arr[2], arr[0]\n",
    "    return(arr)"
   ]
  },
  {
   "cell_type": "code",
   "execution_count": 9,
   "metadata": {},
   "outputs": [
    {
     "data": {
      "text/plain": [
       "'Success!'"
      ]
     },
     "execution_count": 9,
     "metadata": {},
     "output_type": "execute_result"
    },
    {
     "data": {
      "text/plain": [
       "'Success!'"
      ]
     },
     "execution_count": 9,
     "metadata": {},
     "output_type": "execute_result"
    },
    {
     "data": {
      "text/plain": [
       "'Success!'"
      ]
     },
     "execution_count": 9,
     "metadata": {},
     "output_type": "execute_result"
    },
    {
     "data": {
      "text/plain": [
       "'Success!'"
      ]
     },
     "execution_count": 9,
     "metadata": {},
     "output_type": "execute_result"
    },
    {
     "data": {
      "text/plain": [
       "'Success!'"
      ]
     },
     "execution_count": 9,
     "metadata": {},
     "output_type": "execute_result"
    }
   ],
   "source": [
    "assert_equals(fix_the_meerkat([\"tail\", \"body\", \"head\"]), [\"head\", \"body\", \"tail\"])\n",
    "assert_equals(fix_the_meerkat([\"tails\", \"body\", \"heads\"]), [\"heads\", \"body\", \"tails\"])\n",
    "assert_equals(fix_the_meerkat([\"bottom\", \"middle\", \"top\"]), [\"top\", \"middle\", \"bottom\"])\n",
    "assert_equals(fix_the_meerkat([\"lower legs\", \"torso\", \"upper legs\"]), [\"upper legs\", \"torso\", \"lower legs\"])\n",
    "assert_equals(fix_the_meerkat([\"ground\", \"rainbow\", \"sky\"]), [\"sky\", \"rainbow\", \"ground\"])"
   ]
  },
  {
   "cell_type": "markdown",
   "metadata": {},
   "source": [
    "# 10. Do I get a bonus\n",
    "\n",
    "It's bonus time in the big city! The fatcats are rubbing their paws in anticipation... but who is going to make the most money?\n",
    "\n",
    "Build a function that takes in two arguments (salary, bonus). Salary will be an integer, and bonus a boolean.\n",
    "\n",
    "If bonus is true, the salary should be multiplied by 10. If bonus is false, the fatcat did not make enough money and must receive only his stated salary.\n",
    "\n",
    "Return the total figure the individual will receive as a string prefixed with \"£\" (= \"\\u00A3\", JS, Go, Java and Julia), \"$\" (C#, C++, Ruby, Clojure, Elixir, PHP, Python, Haskell and Lua) or \"¥\" (Rust)."
   ]
  },
  {
   "cell_type": "code",
   "execution_count": 23,
   "metadata": {},
   "outputs": [],
   "source": [
    "def bonus_time(salary, bonus):\n",
    "    if bonus: salary = salary * 10\n",
    "    return('$' + str(salary))"
   ]
  },
  {
   "cell_type": "code",
   "execution_count": 24,
   "metadata": {},
   "outputs": [
    {
     "data": {
      "text/plain": [
       "'Success!'"
      ]
     },
     "execution_count": 24,
     "metadata": {},
     "output_type": "execute_result"
    },
    {
     "data": {
      "text/plain": [
       "'Success!'"
      ]
     },
     "execution_count": 24,
     "metadata": {},
     "output_type": "execute_result"
    },
    {
     "data": {
      "text/plain": [
       "'Success!'"
      ]
     },
     "execution_count": 24,
     "metadata": {},
     "output_type": "execute_result"
    },
    {
     "data": {
      "text/plain": [
       "'Success!'"
      ]
     },
     "execution_count": 24,
     "metadata": {},
     "output_type": "execute_result"
    },
    {
     "data": {
      "text/plain": [
       "'Success!'"
      ]
     },
     "execution_count": 24,
     "metadata": {},
     "output_type": "execute_result"
    },
    {
     "data": {
      "text/plain": [
       "'Success!'"
      ]
     },
     "execution_count": 24,
     "metadata": {},
     "output_type": "execute_result"
    },
    {
     "data": {
      "text/plain": [
       "'Success!'"
      ]
     },
     "execution_count": 24,
     "metadata": {},
     "output_type": "execute_result"
    }
   ],
   "source": [
    "assert_equals(bonus_time(10000, True), '$100000')\n",
    "assert_equals(bonus_time(25000, True), '$250000')\n",
    "assert_equals(bonus_time(10000, False), '$10000')\n",
    "assert_equals(bonus_time(60000, False), '$60000')\n",
    "assert_equals(bonus_time(2, True), '$20')\n",
    "assert_equals(bonus_time(78, False), '$78')\n",
    "assert_equals(bonus_time(67890, True), '$678900')"
   ]
  }
 ],
 "metadata": {
  "kernelspec": {
   "display_name": "Python 3",
   "language": "python",
   "name": "python3"
  },
  "language_info": {
   "codemirror_mode": {
    "name": "ipython",
    "version": 3
   },
   "file_extension": ".py",
   "mimetype": "text/x-python",
   "name": "python",
   "nbconvert_exporter": "python",
   "pygments_lexer": "ipython3",
   "version": "3.8.5"
  }
 },
 "nbformat": 4,
 "nbformat_minor": 4
}

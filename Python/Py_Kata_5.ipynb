{
 "cells": [
  {
   "cell_type": "markdown",
   "metadata": {},
   "source": [
    "# Exercises of difficulty 5 in Python"
   ]
  },
  {
   "cell_type": "code",
   "execution_count": 1,
   "metadata": {},
   "outputs": [],
   "source": [
    "# General Settings:\n",
    "# (1) All outputs are printed when running a cell!\n",
    "from IPython.core.interactiveshell import InteractiveShell\n",
    "InteractiveShell.ast_node_interactivity = \"all\"\n",
    "\n",
    "# (2) Function to check the results\n",
    "def assert_equals(x, y):\n",
    "    if not x == y:\n",
    "        return(\"Error!\")\n",
    "    else:\n",
    "        return(\"Success!\")"
   ]
  },
  {
   "cell_type": "markdown",
   "metadata": {},
   "source": [
    "# 1. Gap in Primes\n",
    "The prime numbers are not regularly spaced. For example from 2 to 3 the gap is 1. From 3 to 5 the gap is 2. From 7 to 11 it is 4. Between 2 and 50 we have the following pairs of 2-gaps primes: 3-5, 5-7, 11-13, 17-19, 29-31, 41-43\n",
    "\n",
    "A prime gap of length n is a run of n-1 consecutive composite numbers between two successive primes (see: http://mathworld.wolfram.com/PrimeGaps.html).\n",
    "\n",
    "We will write a function gap with parameters:\n",
    "1. g (integer >= 2) which indicates the gap we are looking for\n",
    "2. m (integer > 2) which gives the start of the search (m inclusive)\n",
    "3. n (integer >= m) which gives the end of the search (n inclusive)\n",
    "\n",
    "In the example 'gap(2, 3, 50)' will return '[3, 5]' which is the first pair between 3 and 50 with a 2-gap.\n",
    "\n",
    "So this function should return the first pair of two prime numbers spaced with a gap of g between the limits m, n if these numbers exist otherwise nil, null, None or Nothing (or ... depending on the language).\n",
    "\n",
    "### Examples:\n",
    "    gap(2, 5, 7) --> [5, 7] or (5, 7) or {5, 7}\n",
    "    \n",
    "    gap(2, 5, 5) --> nil. In C++ {0, 0}. In F# [||]. In Kotlin, Dart and Prolog return[]`\n",
    "    \n",
    "    gap(4, 130, 200) --> [163, 167] or (163, 167) or {163, 167}\n",
    "    ([193, 197] is also such a 4-gap primes between 130 and 200 but it's not the first pair)\n",
    "    \n",
    "    gap(6,100,110) --> nil or {0, 0} or ... \n",
    "    (between 100 and 110 we have 101, 103, 107, 109 but 101-107is not a 6-gap because there is 103in between and\n",
    "    103-109is not a 6-gap because there is 107 in between.)"
   ]
  },
  {
   "cell_type": "code",
   "execution_count": 22,
   "metadata": {},
   "outputs": [],
   "source": [
    "# Write the function(s)\n",
    "# Help Function to determine whether a number is a prime\n",
    "def isPrime(n):\n",
    "    if n==2 or n==3: return True\n",
    "    if n%2==0 or n<2: return False\n",
    "    for i in range(3, int(n**0.5)+1, 2):   # only odd numbers\n",
    "        if n%i==0:\n",
    "            return False    \n",
    "\n",
    "    return True\n",
    "\n",
    "def gap(g, m, n):\n",
    "    # Define List to store all primes between m & n\n",
    "    primes_in_seq = []\n",
    "    \n",
    "    # Find all primes between m & n, and store them in 'primes_in_seq'\n",
    "    for i in range(m, n + 1):\n",
    "        if isPrime(i):\n",
    "            primes_in_seq.append(i)\n",
    "    \n",
    "    # Loop over all elements in 'primes_in_seq' and compute the difference\n",
    "    # The first difference that is equal to 'g', returns the prime pair\n",
    "    for i in range(0, len(primes_in_seq) - 1):\n",
    "        diff = primes_in_seq[i + 1] - primes_in_seq[i]\n",
    "        if diff == g:\n",
    "            return([primes_in_seq[i], primes_in_seq[i + 1]])\n",
    "    \n",
    "    return(None)"
   ]
  },
  {
   "cell_type": "code",
   "execution_count": 23,
   "metadata": {},
   "outputs": [
    {
     "data": {
      "text/plain": [
       "'Success!'"
      ]
     },
     "execution_count": 23,
     "metadata": {},
     "output_type": "execute_result"
    },
    {
     "data": {
      "text/plain": [
       "'Success!'"
      ]
     },
     "execution_count": 23,
     "metadata": {},
     "output_type": "execute_result"
    },
    {
     "data": {
      "text/plain": [
       "'Success!'"
      ]
     },
     "execution_count": 23,
     "metadata": {},
     "output_type": "execute_result"
    },
    {
     "data": {
      "text/plain": [
       "'Success!'"
      ]
     },
     "execution_count": 23,
     "metadata": {},
     "output_type": "execute_result"
    },
    {
     "data": {
      "text/plain": [
       "'Success!'"
      ]
     },
     "execution_count": 23,
     "metadata": {},
     "output_type": "execute_result"
    },
    {
     "data": {
      "text/plain": [
       "'Success!'"
      ]
     },
     "execution_count": 23,
     "metadata": {},
     "output_type": "execute_result"
    }
   ],
   "source": [
    "# Test it\n",
    "assert_equals(gap(2,100,110), [101, 103])\n",
    "assert_equals(gap(4,100,110), [103, 107])\n",
    "assert_equals(gap(6,100,110), None)\n",
    "assert_equals(gap(8,300,400), [359, 367])\n",
    "assert_equals(gap(10,300,400), [337, 347])\n",
    "assert_equals(gap(2,100,103), [101, 103])"
   ]
  },
  {
   "cell_type": "markdown",
   "metadata": {},
   "source": [
    "# 2. Double Cola\n",
    "\n",
    "Sheldon, Leonard, Penny, Rajesh and Howard are in the queue for a \"Double Cola\" drink vending machine; there are no other people in the queue. The first one in the queue (Sheldon) buys a can, drinks it and doubles! The resulting two Sheldons go to the end of the queue. Then the next in the queue (Leonard) buys a can, drinks it and gets to the end of the queue as two Leonards, and so on.\n",
    "\n",
    "For example, Penny drinks the third can of cola and the queue will look like this:\n",
    "\n",
    "    Rajesh, Howard, Sheldon, Sheldon, Leonard, Leonard, Penny, Penny\n",
    "    \n",
    "Write a program that will return the name of the person who will drink the n-th cola.\n",
    "\n",
    "### Input:\n",
    "The input data consist of an array which contains at least 1 name, and single integer n which may go as high as the biggest number your language of choice supports (if there's such limit, of course).\n",
    "\n",
    "### Output:\n",
    "Return the single line — the name of the person who drinks the n-th can of cola. The cans are numbered starting from 1. \n",
    "\n",
    "### Examples:\n",
    "    who_is_next([\"Sheldon\", \"Leonard\", \"Penny\", \"Rajesh\", \"Howard\"], 1) == \"Sheldon\"\n",
    "    who_is_next([\"Sheldon\", \"Leonard\", \"Penny\", \"Rajesh\", \"Howard\"], 52) == \"Penny\"\n",
    "    who_is_next([\"Sheldon\", \"Leonard\", \"Penny\", \"Rajesh\", \"Howard\"], 7230702951) == \"Leonard\""
   ]
  },
  {
   "cell_type": "code",
   "execution_count": 45,
   "metadata": {},
   "outputs": [],
   "source": [
    "def who_is_next(names, r):\n",
    "    while r > 5:\n",
    "        r = int((r - 4) / 2)\n",
    "    return(names[r-1])"
   ]
  },
  {
   "cell_type": "code",
   "execution_count": 46,
   "metadata": {},
   "outputs": [
    {
     "data": {
      "text/plain": [
       "'Success!'"
      ]
     },
     "execution_count": 46,
     "metadata": {},
     "output_type": "execute_result"
    },
    {
     "data": {
      "text/plain": [
       "'Success!'"
      ]
     },
     "execution_count": 46,
     "metadata": {},
     "output_type": "execute_result"
    },
    {
     "data": {
      "text/plain": [
       "'Success!'"
      ]
     },
     "execution_count": 46,
     "metadata": {},
     "output_type": "execute_result"
    }
   ],
   "source": [
    "# Test it:\n",
    "names = [\"Sheldon\", \"Leonard\", \"Penny\", \"Rajesh\", \"Howard\"]\n",
    "assert_equals(who_is_next(names, 1), \"Sheldon\")\n",
    "assert_equals(who_is_next(names, 52), \"Penny\")\n",
    "assert_equals(who_is_next(names, 7230702951), \"Leonard\")"
   ]
  },
  {
   "cell_type": "markdown",
   "metadata": {},
   "source": [
    "# 3. RGB To Hex Conversion\n",
    "The rgb function is incomplete. Complete it so that passing in RGB decimal values will result in a hexadecimal representation being returned. Valid decimal values for RGB are 0 - 255. Any values that fall out of that range must be rounded to the closest valid value.\n",
    "\n",
    "#### Note: Your answer should always be 6 characters long, the shorthand with 3 will not work here.\n",
    "\n",
    "### Example:\n",
    "The following are examples of expected output values:\n",
    "\n",
    "        rgb(255, 255, 255) # returns FFFFFF\n",
    "        rgb(255, 255, 300) # returns FFFFFF\n",
    "        rgb(0,0,0) # returns 000000\n",
    "        rgb(148, 0, 211) # returns 9400D3"
   ]
  },
  {
   "cell_type": "code",
   "execution_count": 117,
   "metadata": {},
   "outputs": [],
   "source": [
    "# Write Function\n",
    "# --1 Dict with values of RGB to HEX\n",
    "dict_ = {}\n",
    "for i in range(10): dict_[i ] = str(i)\n",
    "for i, v in enumerate(['A', 'B', 'C', 'D', 'E', 'F']): dict_[i + 10] = v\n",
    "\n",
    "# --2 Decoder Function for RGB to HEX for single Value\n",
    "def decode_single(x):\n",
    "    # Check for too high/ low values\n",
    "    x = 0 if x < 0 else 255 if x > 255 else x\n",
    "    \n",
    "    # Split x into major and decimal point\n",
    "    int_, div_ = divmod(x/16, 1)\n",
    "    \n",
    "    # Select corresponding Values from dict to encode 'x' to hex\n",
    "    return(dict_[int(int_)] + dict_[int(div_ * 16)])\n",
    "\n",
    "# --3 Decode whole RGB to HEX\n",
    "def rgb(r, g, b):\n",
    "    return(''.join(list(map(lambda x: decode_single(x), [r, g, b]))))"
   ]
  },
  {
   "cell_type": "code",
   "execution_count": 118,
   "metadata": {},
   "outputs": [
    {
     "data": {
      "text/plain": [
       "'Success!'"
      ]
     },
     "execution_count": 118,
     "metadata": {},
     "output_type": "execute_result"
    },
    {
     "data": {
      "text/plain": [
       "'Success!'"
      ]
     },
     "execution_count": 118,
     "metadata": {},
     "output_type": "execute_result"
    },
    {
     "data": {
      "text/plain": [
       "'Success!'"
      ]
     },
     "execution_count": 118,
     "metadata": {},
     "output_type": "execute_result"
    },
    {
     "data": {
      "text/plain": [
       "'Success!'"
      ]
     },
     "execution_count": 118,
     "metadata": {},
     "output_type": "execute_result"
    },
    {
     "data": {
      "text/plain": [
       "'Success!'"
      ]
     },
     "execution_count": 118,
     "metadata": {},
     "output_type": "execute_result"
    }
   ],
   "source": [
    "# Test it\n",
    "assert_equals(rgb(0,0,0),\"000000\")\n",
    "assert_equals(rgb(1,2,3),\"010203\")\n",
    "assert_equals(rgb(255,255,255), \"FFFFFF\")\n",
    "assert_equals(rgb(254,253,252), \"FEFDFC\")\n",
    "assert_equals(rgb(-20,275,125), \"00FF7D\")"
   ]
  },
  {
   "cell_type": "markdown",
   "metadata": {},
   "source": [
    "# 4. Moving Zeros To The End\n",
    "\n",
    "Write an algorithm that takes an array and moves all of the zeros to the end, preserving the order of the other elements.\n",
    "\n",
    "    \tmove_zeros([False,1,0,1,2,0,1,3,\"a\"]) # returns[False,1,1,2,1,3,\"a\",0,0]"
   ]
  },
  {
   "cell_type": "code",
   "execution_count": 122,
   "metadata": {},
   "outputs": [],
   "source": [
    "# Write Function\n",
    "def move_zeros(array):\n",
    "    \n",
    "    # Get indices, where 'array' is 0\n",
    "    zero_index = [i for i, e in enumerate(array) if e == 0]\n",
    "    \n",
    "    # Delete the elements with value 0 and add them to the end of 'array'\n",
    "    for i in sorted(zero_index, reverse=True): \n",
    "        del array[i]\n",
    "        array.append(0)\n",
    "        \n",
    "    return(array)"
   ]
  },
  {
   "cell_type": "code",
   "execution_count": 134,
   "metadata": {},
   "outputs": [
    {
     "data": {
      "text/plain": [
       "'Success!'"
      ]
     },
     "execution_count": 134,
     "metadata": {},
     "output_type": "execute_result"
    },
    {
     "data": {
      "text/plain": [
       "'Success!'"
      ]
     },
     "execution_count": 134,
     "metadata": {},
     "output_type": "execute_result"
    },
    {
     "data": {
      "text/plain": [
       "'Success!'"
      ]
     },
     "execution_count": 134,
     "metadata": {},
     "output_type": "execute_result"
    },
    {
     "data": {
      "text/plain": [
       "'Success!'"
      ]
     },
     "execution_count": 134,
     "metadata": {},
     "output_type": "execute_result"
    },
    {
     "data": {
      "text/plain": [
       "'Success!'"
      ]
     },
     "execution_count": 134,
     "metadata": {},
     "output_type": "execute_result"
    },
    {
     "data": {
      "text/plain": [
       "'Success!'"
      ]
     },
     "execution_count": 134,
     "metadata": {},
     "output_type": "execute_result"
    },
    {
     "data": {
      "text/plain": [
       "'Success!'"
      ]
     },
     "execution_count": 134,
     "metadata": {},
     "output_type": "execute_result"
    },
    {
     "data": {
      "text/plain": [
       "'Success!'"
      ]
     },
     "execution_count": 134,
     "metadata": {},
     "output_type": "execute_result"
    },
    {
     "data": {
      "text/plain": [
       "'Success!'"
      ]
     },
     "execution_count": 134,
     "metadata": {},
     "output_type": "execute_result"
    }
   ],
   "source": [
    "# Test it\n",
    "assert_equals(move_zeros([1,2,0,1,0,1,0,3,0,1]),[ 1, 2, 1, 1, 3, 1, 0, 0, 0, 0 ])\n",
    "assert_equals(move_zeros([9,0.0,0,9,1,2,0,1,0,1,0.0,3,0,1,9,0,0,0,0,9]),[9,9,1,2,1,1,3,1,9,9,0,0,0,0,0,0,0,0,0,0])\n",
    "assert_equals(move_zeros([\"a\",0,0,\"b\",\"c\",\"d\",0,1,0,1,0,3,0,1,9,0,0,0,0,9]),[\"a\",\"b\",\"c\",\"d\",1,1,3,1,9,9,0,0,0,0,0,0,0,0,0,0])\n",
    "assert_equals(move_zeros([\"a\",\"b\"]),[\"a\",\"b\"])\n",
    "assert_equals(move_zeros([\"a\"]),[\"a\"])\n",
    "assert_equals(move_zeros([0,0]),[0,0])\n",
    "assert_equals(move_zeros([0]),[0])\n",
    "assert_equals(move_zeros([False]),[False])\n",
    "assert_equals(move_zeros([]),[])"
   ]
  },
  {
   "cell_type": "markdown",
   "metadata": {},
   "source": [
    "# 5. Calc Variance\n",
    "\n",
    "Write a function which will accept a sequence of numbers and calculate the variance for the sequence.\n",
    "\n",
    "The variance for a set of numbers is found by subtracting the mean from every value, squaring the results, adding them all up and dividing by the number of elements.\n",
    "\n",
    "#### For example:\n",
    "Pseudo code, to calculate the variance for [1, 2, 2, 3].\n",
    "\n",
    "    mean = (1 + 2 + 2 + 3) / 4   => 2\n",
    "\n",
    "    variance = ((1 - 2)^2 + (2 - 2)^2 + (2-2)^2 + (3 - 2)^2)  /  4    => 0.5\n",
    "\n",
    "Results are tested to a relative error of 1e-9"
   ]
  },
  {
   "cell_type": "code",
   "execution_count": 13,
   "metadata": {},
   "outputs": [],
   "source": [
    "def variance(numbers): \n",
    "    # Calc the mean\n",
    "    mean_ = sum(numbers) / len(numbers)\n",
    "    \n",
    "    # Calc the Variance, as described above\n",
    "    return(sum([(curr_num - mean_)**2 for curr_num in numbers]) / len(numbers))"
   ]
  },
  {
   "cell_type": "code",
   "execution_count": 20,
   "metadata": {},
   "outputs": [
    {
     "data": {
      "text/plain": [
       "'Success!'"
      ]
     },
     "execution_count": 20,
     "metadata": {},
     "output_type": "execute_result"
    },
    {
     "data": {
      "text/plain": [
       "'Success!'"
      ]
     },
     "execution_count": 20,
     "metadata": {},
     "output_type": "execute_result"
    },
    {
     "data": {
      "text/plain": [
       "'Success!'"
      ]
     },
     "execution_count": 20,
     "metadata": {},
     "output_type": "execute_result"
    }
   ],
   "source": [
    "assert_equals(variance([-10, 0, 10, 20, 30]), 200)\n",
    "assert_equals(variance([8, 9, 10, 11, 12]), 2)\n",
    "assert_equals(variance([1.5, 2.5, 4, 2, 1, 1]), 1.0833333333333333)"
   ]
  },
  {
   "cell_type": "markdown",
   "metadata": {},
   "source": [
    "# 6. Max sum path\n",
    "\n",
    "### Task:\n",
    "You are given two sorted lists, with distinct elements. \n",
    "Find the maximum path sum while traversing through the lists.\n",
    "\n",
    "Points to consider for a valid path:\n",
    "\n",
    "- A path can start from either list, and can finish in either list.\n",
    "- If there is an element which is present in both lists (regardless of its index in the lists), you can choose to change your path to the other list.\n",
    "- Return only the maximum path sum.\n",
    "\n",
    "\n",
    "#### Example:\n",
    "\n",
    "        [0, 2, 3, 7, 10, 12]\n",
    "           [1, 5, 7, 8]\n",
    "        \n",
    "Both lists having only 7 as common element, the possible paths would be:\n",
    "\n",
    "        0->2->3->7->10->12 => 34\n",
    "        0->2->3->7->8      => 20\n",
    "        1->5->7->8         => 21\n",
    "        1->5->7->10->12    => 35 (maximum path)\n",
    "        \n",
    "Hence, the output will be 35 in the example above.\n",
    "\n",
    "Notes:\n",
    "- The arrays may contain no common terms.\n",
    "- The common element should only be counted once.\n",
    "- Aim for a linear time complexity.\n",
    "- Range of possible inputs: 0 <=len(l1), len(l2) <= 70000\n",
    "\n",
    "(https://www.codewars.com/kata/61a2fcac3411ca0027e71108/train/python)"
   ]
  },
  {
   "cell_type": "code",
   "execution_count": 56,
   "metadata": {},
   "outputs": [],
   "source": [
    "# Write Function\n",
    "def max_sum_path(l1, l2):\n",
    "    \n",
    "    # Get common numbers of the lists 'l1' & 'l2'\n",
    "    common = list(set(set(l1).intersection(l2)))\n",
    "    common.sort()\n",
    "\n",
    "    # When there is no common element, return sum of the bigger list\n",
    "    if (len(common) < 1): return(max([sum(l1), sum(l2)]))\n",
    "\n",
    "    # Loop over each common element & slice the vectors at it\n",
    "    max_sum = 0\n",
    "    for curr_common in common:\n",
    "\n",
    "        # Add the maximum of the sums over l1 & l2 up to 'curr_common' \n",
    "        max_sum = max_sum + max([sum(l1[:l1.index(curr_common) + 1]), \n",
    "                                 sum(l2[:l2.index(curr_common) + 1])])\n",
    "\n",
    "        # Remove all elements from l1 & l2 up to 'curr_common' \n",
    "        # (the max. sum was already added to 'max_sum')\n",
    "        del l1[:l1.index(curr_common) + 1]\n",
    "        del l2[:l2.index(curr_common) + 1]\n",
    "\n",
    "    # Last step, add maximum sum of the remaining l1 & l2 \n",
    "    max_sum = max_sum + max([sum(l1), sum(l2)]) \n",
    "\n",
    "    return(max_sum)"
   ]
  },
  {
   "cell_type": "code",
   "execution_count": 57,
   "metadata": {},
   "outputs": [
    {
     "data": {
      "text/plain": [
       "'Success!'"
      ]
     },
     "execution_count": 57,
     "metadata": {},
     "output_type": "execute_result"
    },
    {
     "data": {
      "text/plain": [
       "'Success!'"
      ]
     },
     "execution_count": 57,
     "metadata": {},
     "output_type": "execute_result"
    },
    {
     "data": {
      "text/plain": [
       "'Success!'"
      ]
     },
     "execution_count": 57,
     "metadata": {},
     "output_type": "execute_result"
    },
    {
     "data": {
      "text/plain": [
       "'Success!'"
      ]
     },
     "execution_count": 57,
     "metadata": {},
     "output_type": "execute_result"
    },
    {
     "data": {
      "text/plain": [
       "'Success!'"
      ]
     },
     "execution_count": 57,
     "metadata": {},
     "output_type": "execute_result"
    }
   ],
   "source": [
    "# Test it\n",
    "assert_equals(max_sum_path([2, 3, 7, 10, 12],[1, 5, 7, 8]), 35)\n",
    "assert_equals(max_sum_path([1,2,3], [3,4,5]), 15)\n",
    "assert_equals(max_sum_path([1,4,5,8,9,11,19], [2,3,4,11,12]), 61)\n",
    "assert_equals(max_sum_path([1,2,3], [4,5,6]), 15)\n",
    "assert_equals(max_sum_path([],[]),0)"
   ]
  },
  {
   "cell_type": "markdown",
   "metadata": {},
   "source": [
    "# 7. The Clockwise Spiral\n",
    "**Classic definition:** A spiral is a curve which emanates from a central point, getting progressively farther away as it revolves around the point.  \n",
    "\n",
    "Your objective is to complete a function createSpiral(N) that receives an integer N and returns an NxN two-dimensional array with numbers 1 through NxN represented as a clockwise spiral.\n",
    "\n",
    "Return an empty array if N < 1 or N is not int / number\n",
    "\n",
    "**Examples:**\n",
    "\n",
    "    > N = 3 -> Output: [[1,2,3],[8,9,4],[7,6,5]]\n",
    "                            1    2    3    \n",
    "                            8    9    4    \n",
    "                            7    6    5  \n",
    "    \n",
    "    > N = 4 -> Output: [[1,2,3,4],[12,13,14,5],[11,16,15,6],[10,9,8,7]]\n",
    "                            1   2   3   4\n",
    "                            12  13  14  5\n",
    "                            11  16  15  6\n",
    "                            10  9   8   7"
   ]
  },
  {
   "cell_type": "code",
   "execution_count": 51,
   "metadata": {},
   "outputs": [],
   "source": [
    "# Write Code - https://www.codewars.com/kata/536a155256eb459b8700077e/train/python\n",
    "def create_spiral(n):\n",
    "    # Edgcases\n",
    "    if n <= 0: return([])\n",
    "    if not isinstance(n, int): return([])\n",
    "    \n",
    "    # Create qudratic-matrix layout filled w/ 0\n",
    "    matrix = [row[:] for row in [[0]*n]*n]\n",
    "\n",
    "    # Define start & end index for rows & columns\n",
    "    row_start = col_start = 0   \n",
    "    row_end   = col_end   = n-1 \n",
    "\n",
    "    # Start filling 'matrix' w/ spiral values\n",
    "    curr = 1 # current values to fill in the matrix\n",
    "    while (True):\n",
    "\n",
    "        # If running is > n*n the matrix is completly filled\n",
    "        if curr > n*n:\n",
    "            break\n",
    "\n",
    "        # Fill the 'row_start' from 'col_start' to 'col_end' \n",
    "        # - count up 'row_start' (as the current 'row_start' is full then)\n",
    "        for c in range(col_start, col_end + 1):\n",
    "            matrix[row_start][c] = curr\n",
    "            curr += 1\n",
    "        row_start +=1\n",
    "\n",
    "        # Fill the colum below the last digit of the previous row\n",
    "        # - count down 'col_end' (as current 'col_end' is full then)\n",
    "        for r in range(row_start, row_end + 1):\n",
    "            matrix[r][col_end] = curr\n",
    "            curr += 1\n",
    "        col_end -= 1\n",
    "\n",
    "        # Fill the row goint left left from last digit in previous col\n",
    "        # - count up 'row_end' (as current 'row_end' is full then)\n",
    "        for c in range(col_end, col_start - 1, -1):\n",
    "            matrix[row_end][c]=curr\n",
    "            curr+=1\n",
    "        row_end-=1\n",
    "\n",
    "        # Fill up the column going up from the last digit in previous row\n",
    "        # - count 'col_start' (as current 'col_start' is full then)  \n",
    "        for r in range (row_end, row_start - 1, -1):\n",
    "            matrix[r][col_start]=curr\n",
    "            curr+=1\n",
    "        col_start+=1\n",
    "\n",
    "        # Now re-start the whole progress until curr > n**2\n",
    "\n",
    "    return(matrix) "
   ]
  },
  {
   "cell_type": "code",
   "execution_count": 52,
   "metadata": {},
   "outputs": [
    {
     "data": {
      "text/plain": [
       "'Success!'"
      ]
     },
     "execution_count": 52,
     "metadata": {},
     "output_type": "execute_result"
    },
    {
     "data": {
      "text/plain": [
       "'Success!'"
      ]
     },
     "execution_count": 52,
     "metadata": {},
     "output_type": "execute_result"
    },
    {
     "data": {
      "text/plain": [
       "'Success!'"
      ]
     },
     "execution_count": 52,
     "metadata": {},
     "output_type": "execute_result"
    },
    {
     "data": {
      "text/plain": [
       "'Success!'"
      ]
     },
     "execution_count": 52,
     "metadata": {},
     "output_type": "execute_result"
    },
    {
     "data": {
      "text/plain": [
       "'Success!'"
      ]
     },
     "execution_count": 52,
     "metadata": {},
     "output_type": "execute_result"
    }
   ],
   "source": [
    "# Test it\n",
    "assert_equals(create_spiral(3), [[1, 2, 3], [8, 9, 4], [7, 6, 5]])\n",
    "assert_equals(create_spiral(1), [[1]])\n",
    "assert_equals(create_spiral(3), [[1,2,3],[8,9,4],[7,6,5]])\n",
    "assert_equals(create_spiral(4), [[1,2,3,4],[12,13,14,5],[11,16,15,6],[10,9,8,7]])\n",
    "assert_equals(create_spiral(5), [[1,2,3,4,5],[16,17,18,19,6],[15,24,25,20,7],[14,23,22,21,8],[13,12,11,10,9]])  "
   ]
  },
  {
   "cell_type": "markdown",
   "metadata": {},
   "source": [
    "# 8. Value of x\n",
    "Jack's teacher gave him a ton of equations for homework. The thing is they are all kind of same so they are boring.\n",
    "So help him by making a equation solving function that will return the value of x.   \n",
    "Test Cases will be like this:\n",
    "\n",
    "        INPUT            RETURN\n",
    "        'x + 1 = 9 - 2'    # 6\n",
    "        '- 10 = x'         # -10\n",
    "        'x - 2 + 3 = 2'    # 1\n",
    "        '- x = - 1'        # 1\n",
    "        \n",
    "All test cases are valid. Every +, - and numbers will be separated by space. There will be only one x either on the left or right. x can have a - mark before it. returned object will be a integer.   "
   ]
  },
  {
   "cell_type": "code",
   "execution_count": 60,
   "metadata": {},
   "outputs": [],
   "source": [
    "# Write Function\n",
    "def solve(eq):\n",
    "    \n",
    "    # Split 'eq' to its left & right side \n",
    "    left, right = eq.split(\"=\")\n",
    "\n",
    "    # Set variable to see whether 'x' has a neg. sign\n",
    "    neg_x_sign = False\n",
    "    \n",
    "    # Check if 'x' is part of right part & check x's sign\n",
    "    #  -> split 'right' then at 'x'/'-x' & evaluate the remaining expression\n",
    "    if 'x' in right:\n",
    "        if '- x' in right:\n",
    "            right      = ''.join(right.split(\"- x\"))\n",
    "            neg_x_sign = True\n",
    "        else:\n",
    "            right = ''.join(right.split(\"x\"))\n",
    "        \n",
    "        if right != \" \":\n",
    "            right_ev = eval(right)\n",
    "        else:\n",
    "            right_ev = 0\n",
    "        \n",
    "        # Solve the equation\n",
    "        res = eval(left) - right_ev\n",
    "            \n",
    "    # Check if 'x' is part of right part & check x's sign\n",
    "    #  -> split 'right' then at 'x'/'-x' & evaluate the remaining expression\n",
    "    if 'x' in left:\n",
    "        if '- x' in left:\n",
    "            left      = ''.join(left.split(\"- x\"))\n",
    "            neg_x_sign = True\n",
    "        else:\n",
    "            left = ''.join(left.split(\"x\"))\n",
    "\n",
    "        if left != \" \":\n",
    "            left_ev = eval(left)\n",
    "        else:\n",
    "            left_ev = 0\n",
    "        \n",
    "        # Solve the equation\n",
    "        res = eval(right) - left_ev\n",
    "\n",
    "    # Return result\n",
    "    if neg_x_sign:\n",
    "        return(-1 * res)\n",
    "    else:\n",
    "        return(res)"
   ]
  },
  {
   "cell_type": "code",
   "execution_count": 65,
   "metadata": {},
   "outputs": [
    {
     "data": {
      "text/plain": [
       "'Success!'"
      ]
     },
     "execution_count": 65,
     "metadata": {},
     "output_type": "execute_result"
    },
    {
     "data": {
      "text/plain": [
       "'Success!'"
      ]
     },
     "execution_count": 65,
     "metadata": {},
     "output_type": "execute_result"
    },
    {
     "data": {
      "text/plain": [
       "'Success!'"
      ]
     },
     "execution_count": 65,
     "metadata": {},
     "output_type": "execute_result"
    },
    {
     "data": {
      "text/plain": [
       "'Success!'"
      ]
     },
     "execution_count": 65,
     "metadata": {},
     "output_type": "execute_result"
    },
    {
     "data": {
      "text/plain": [
       "'Success!'"
      ]
     },
     "execution_count": 65,
     "metadata": {},
     "output_type": "execute_result"
    },
    {
     "data": {
      "text/plain": [
       "'Success!'"
      ]
     },
     "execution_count": 65,
     "metadata": {},
     "output_type": "execute_result"
    }
   ],
   "source": [
    "# Test-it\n",
    "easy_cases = {'x + 1 = 9 - 2': 6,\n",
    "              'x - 2 + 3 = 2': 1, \n",
    "              'x = + 2 - 5 + 9': 6}\n",
    "\n",
    "exceptional_cases = {'- 10 = x': -10,\n",
    "                     '- x = - 1': 1, \n",
    "                     'x - 0 + 0 = 0': 0}\n",
    "\n",
    "for case, ans in easy_cases.items():\n",
    "    assert_equals(solve(case), ans)\n",
    "\n",
    "for case, ans in exceptional_cases.items():\n",
    "    assert_equals(solve(case), ans)"
   ]
  }
 ],
 "metadata": {
  "kernelspec": {
   "display_name": "Python 3 (ipykernel)",
   "language": "python",
   "name": "python3"
  },
  "language_info": {
   "codemirror_mode": {
    "name": "ipython",
    "version": 3
   },
   "file_extension": ".py",
   "mimetype": "text/x-python",
   "name": "python",
   "nbconvert_exporter": "python",
   "pygments_lexer": "ipython3",
   "version": "3.8.2"
  }
 },
 "nbformat": 4,
 "nbformat_minor": 4
}

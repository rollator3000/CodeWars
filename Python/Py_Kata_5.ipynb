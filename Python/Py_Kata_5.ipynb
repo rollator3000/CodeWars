{
 "cells": [
  {
   "cell_type": "markdown",
   "metadata": {},
   "source": [
    "# Exercises of difficulty 5 in Python"
   ]
  },
  {
   "cell_type": "code",
   "execution_count": 1,
   "metadata": {},
   "outputs": [],
   "source": [
    "# General Settings:\n",
    "# (1) All outputs are printed when running a cell!\n",
    "from IPython.core.interactiveshell import InteractiveShell\n",
    "InteractiveShell.ast_node_interactivity = \"all\"\n",
    "\n",
    "# (2) Function to check the results\n",
    "def assert_equals(x, y):\n",
    "    if not x == y:\n",
    "        return(\"Error!\")\n",
    "    else:\n",
    "        return(\"Success!\")"
   ]
  },
  {
   "cell_type": "markdown",
   "metadata": {},
   "source": [
    "# 1. Gap in Primes\n",
    "The prime numbers are not regularly spaced. For example from 2 to 3 the gap is 1. From 3 to 5 the gap is 2. From 7 to 11 it is 4. Between 2 and 50 we have the following pairs of 2-gaps primes: 3-5, 5-7, 11-13, 17-19, 29-31, 41-43\n",
    "\n",
    "A prime gap of length n is a run of n-1 consecutive composite numbers between two successive primes (see: http://mathworld.wolfram.com/PrimeGaps.html).\n",
    "\n",
    "We will write a function gap with parameters:\n",
    "1. g (integer >= 2) which indicates the gap we are looking for\n",
    "2. m (integer > 2) which gives the start of the search (m inclusive)\n",
    "3. n (integer >= m) which gives the end of the search (n inclusive)\n",
    "\n",
    "In the example 'gap(2, 3, 50)' will return '[3, 5]' which is the first pair between 3 and 50 with a 2-gap.\n",
    "\n",
    "So this function should return the first pair of two prime numbers spaced with a gap of g between the limits m, n if these numbers exist otherwise nil, null, None or Nothing (or ... depending on the language).\n",
    "\n",
    "### Examples:\n",
    "    gap(2, 5, 7) --> [5, 7] or (5, 7) or {5, 7}\n",
    "    \n",
    "    gap(2, 5, 5) --> nil. In C++ {0, 0}. In F# [||]. In Kotlin, Dart and Prolog return[]`\n",
    "    \n",
    "    gap(4, 130, 200) --> [163, 167] or (163, 167) or {163, 167}\n",
    "    ([193, 197] is also such a 4-gap primes between 130 and 200 but it's not the first pair)\n",
    "    \n",
    "    gap(6,100,110) --> nil or {0, 0} or ... \n",
    "    (between 100 and 110 we have 101, 103, 107, 109 but 101-107is not a 6-gap because there is 103in between and\n",
    "    103-109is not a 6-gap because there is 107 in between.)"
   ]
  },
  {
   "cell_type": "code",
   "execution_count": 22,
   "metadata": {},
   "outputs": [],
   "source": [
    "# Write the function(s)\n",
    "# Help Function to determine whether a number is a prime\n",
    "def isPrime(n):\n",
    "    if n==2 or n==3: return True\n",
    "    if n%2==0 or n<2: return False\n",
    "    for i in range(3, int(n**0.5)+1, 2):   # only odd numbers\n",
    "        if n%i==0:\n",
    "            return False    \n",
    "\n",
    "    return True\n",
    "\n",
    "def gap(g, m, n):\n",
    "    # Define List to store all primes between m & n\n",
    "    primes_in_seq = []\n",
    "    \n",
    "    # Find all primes between m & n, and store them in 'primes_in_seq'\n",
    "    for i in range(m, n + 1):\n",
    "        if isPrime(i):\n",
    "            primes_in_seq.append(i)\n",
    "    \n",
    "    # Loop over all elements in 'primes_in_seq' and compute the difference\n",
    "    # The first difference that is equal to 'g', returns the prime pair\n",
    "    for i in range(0, len(primes_in_seq) - 1):\n",
    "        diff = primes_in_seq[i + 1] - primes_in_seq[i]\n",
    "        if diff == g:\n",
    "            return([primes_in_seq[i], primes_in_seq[i + 1]])\n",
    "    \n",
    "    return(None)"
   ]
  },
  {
   "cell_type": "code",
   "execution_count": 23,
   "metadata": {},
   "outputs": [
    {
     "data": {
      "text/plain": [
       "'Success!'"
      ]
     },
     "execution_count": 23,
     "metadata": {},
     "output_type": "execute_result"
    },
    {
     "data": {
      "text/plain": [
       "'Success!'"
      ]
     },
     "execution_count": 23,
     "metadata": {},
     "output_type": "execute_result"
    },
    {
     "data": {
      "text/plain": [
       "'Success!'"
      ]
     },
     "execution_count": 23,
     "metadata": {},
     "output_type": "execute_result"
    },
    {
     "data": {
      "text/plain": [
       "'Success!'"
      ]
     },
     "execution_count": 23,
     "metadata": {},
     "output_type": "execute_result"
    },
    {
     "data": {
      "text/plain": [
       "'Success!'"
      ]
     },
     "execution_count": 23,
     "metadata": {},
     "output_type": "execute_result"
    },
    {
     "data": {
      "text/plain": [
       "'Success!'"
      ]
     },
     "execution_count": 23,
     "metadata": {},
     "output_type": "execute_result"
    }
   ],
   "source": [
    "# Test it\n",
    "assert_equals(gap(2,100,110), [101, 103])\n",
    "assert_equals(gap(4,100,110), [103, 107])\n",
    "assert_equals(gap(6,100,110), None)\n",
    "assert_equals(gap(8,300,400), [359, 367])\n",
    "assert_equals(gap(10,300,400), [337, 347])\n",
    "assert_equals(gap(2,100,103), [101, 103])"
   ]
  },
  {
   "cell_type": "markdown",
   "metadata": {},
   "source": [
    "# 2. Double Cola\n",
    "\n",
    "Sheldon, Leonard, Penny, Rajesh and Howard are in the queue for a \"Double Cola\" drink vending machine; there are no other people in the queue. The first one in the queue (Sheldon) buys a can, drinks it and doubles! The resulting two Sheldons go to the end of the queue. Then the next in the queue (Leonard) buys a can, drinks it and gets to the end of the queue as two Leonards, and so on.\n",
    "\n",
    "For example, Penny drinks the third can of cola and the queue will look like this:\n",
    "\n",
    "    Rajesh, Howard, Sheldon, Sheldon, Leonard, Leonard, Penny, Penny\n",
    "    \n",
    "Write a program that will return the name of the person who will drink the n-th cola.\n",
    "\n",
    "### Input:\n",
    "The input data consist of an array which contains at least 1 name, and single integer n which may go as high as the biggest number your language of choice supports (if there's such limit, of course).\n",
    "\n",
    "### Output:\n",
    "Return the single line — the name of the person who drinks the n-th can of cola. The cans are numbered starting from 1. \n",
    "\n",
    "### Examples:\n",
    "    who_is_next([\"Sheldon\", \"Leonard\", \"Penny\", \"Rajesh\", \"Howard\"], 1) == \"Sheldon\"\n",
    "    who_is_next([\"Sheldon\", \"Leonard\", \"Penny\", \"Rajesh\", \"Howard\"], 52) == \"Penny\"\n",
    "    who_is_next([\"Sheldon\", \"Leonard\", \"Penny\", \"Rajesh\", \"Howard\"], 7230702951) == \"Leonard\""
   ]
  },
  {
   "cell_type": "code",
   "execution_count": 45,
   "metadata": {},
   "outputs": [],
   "source": [
    "def who_is_next(names, r):\n",
    "    while r > 5:\n",
    "        r = int((r - 4) / 2)\n",
    "    return(names[r-1])"
   ]
  },
  {
   "cell_type": "code",
   "execution_count": 46,
   "metadata": {},
   "outputs": [
    {
     "data": {
      "text/plain": [
       "'Success!'"
      ]
     },
     "execution_count": 46,
     "metadata": {},
     "output_type": "execute_result"
    },
    {
     "data": {
      "text/plain": [
       "'Success!'"
      ]
     },
     "execution_count": 46,
     "metadata": {},
     "output_type": "execute_result"
    },
    {
     "data": {
      "text/plain": [
       "'Success!'"
      ]
     },
     "execution_count": 46,
     "metadata": {},
     "output_type": "execute_result"
    }
   ],
   "source": [
    "# Test it:\n",
    "names = [\"Sheldon\", \"Leonard\", \"Penny\", \"Rajesh\", \"Howard\"]\n",
    "assert_equals(who_is_next(names, 1), \"Sheldon\")\n",
    "assert_equals(who_is_next(names, 52), \"Penny\")\n",
    "assert_equals(who_is_next(names, 7230702951), \"Leonard\")"
   ]
  }
 ],
 "metadata": {
  "kernelspec": {
   "display_name": "Python 3",
   "language": "python",
   "name": "python3"
  },
  "language_info": {
   "codemirror_mode": {
    "name": "ipython",
    "version": 3
   },
   "file_extension": ".py",
   "mimetype": "text/x-python",
   "name": "python",
   "nbconvert_exporter": "python",
   "pygments_lexer": "ipython3",
   "version": "3.8.5"
  }
 },
 "nbformat": 4,
 "nbformat_minor": 4
}

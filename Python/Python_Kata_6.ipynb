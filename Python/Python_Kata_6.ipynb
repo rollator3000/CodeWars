{
 "cells": [
  {
   "cell_type": "markdown",
   "metadata": {},
   "source": [
    "# Exercises of difficulty 6 in Python"
   ]
  },
  {
   "cell_type": "code",
   "execution_count": 1,
   "metadata": {},
   "outputs": [],
   "source": [
    "# General Settings:\n",
    "# (1) All outputs are printed when running a cell!\n",
    "from IPython.core.interactiveshell import InteractiveShell\n",
    "InteractiveShell.ast_node_interactivity = \"all\"\n",
    "\n",
    "# (2) Function to check the results\n",
    "def assert_equals(x, y):\n",
    "    if not x == y:\n",
    "        return(\"Error!\")\n",
    "    else:\n",
    "        return(\"Success!\")"
   ]
  },
  {
   "cell_type": "markdown",
   "metadata": {},
   "source": [
    "## 1. Decipher this! \n",
    "\n",
    "You are given a secret message you need to decipher. Here are the things you need to know to decipher it:\n",
    "For each word:\n",
    "\n",
    "    the second and the last letter is switched (e.g. Hello becomes Holle)\n",
    "    the first letter is replaced by its character code (e.g. H becomes 72)\n",
    "\n",
    "Note: there are no special characters used, only letters and spaces\n",
    "\n",
    "Examples:\n",
    "\n",
    "```\n",
    "decipherThis('72olle 103doo 100ya'); // 'Hello good day'\n",
    "decipherThis('82yade 115te 103o'); // 'Ready set go'\n",
    "```"
   ]
  },
  {
   "cell_type": "code",
   "execution_count": 4,
   "metadata": {},
   "outputs": [],
   "source": [
    "def decipher_this(string):\n",
    "    # Split 'string' into its single words\n",
    "    string_words = string.split(\" \")\n",
    "    \n",
    "    # Create a list to store the deciphered words\n",
    "    deciphered_words = []\n",
    "    \n",
    "    # Loop over each word in 'string_words' and decipher it!\n",
    "    for word in string_words:\n",
    "\n",
    "        # Get the numeric representation of the first letter in 'word' & convert it back to a letter\n",
    "        first_letter  = chr(int(''.join(filter(str.isdigit, word))))\n",
    "\n",
    "        # Get the letters in the word & change the last with the first letter\n",
    "        letters_in_word = list(str(''.join(filter(str.isalpha, word))))\n",
    "        if len(letters_in_word) > 0:\n",
    "            letters_in_word[0], letters_in_word[-1] = letters_in_word[-1], letters_in_word[0]\n",
    "\n",
    "            # Get the deciphered version of 'word'\n",
    "            deciphered_words.append(first_letter + ''.join(letters_in_word))\n",
    "        else:\n",
    "            deciphered_words.append(first_letter)\n",
    "\n",
    "    return(' '.join(deciphered_words))"
   ]
  },
  {
   "cell_type": "code",
   "execution_count": 5,
   "metadata": {},
   "outputs": [
    {
     "data": {
      "text/plain": [
       "'Success!'"
      ]
     },
     "execution_count": 5,
     "metadata": {},
     "output_type": "execute_result"
    },
    {
     "data": {
      "text/plain": [
       "'Success!'"
      ]
     },
     "execution_count": 5,
     "metadata": {},
     "output_type": "execute_result"
    },
    {
     "data": {
      "text/plain": [
       "'Success!'"
      ]
     },
     "execution_count": 5,
     "metadata": {},
     "output_type": "execute_result"
    },
    {
     "data": {
      "text/plain": [
       "'Success!'"
      ]
     },
     "execution_count": 5,
     "metadata": {},
     "output_type": "execute_result"
    },
    {
     "data": {
      "text/plain": [
       "'Success!'"
      ]
     },
     "execution_count": 5,
     "metadata": {},
     "output_type": "execute_result"
    }
   ],
   "source": [
    "## Test it\n",
    "assert_equals(decipher_this(\"65 119esi 111dl 111lw 108dvei 105n 97n 111ka\"), \"A wise old owl lived in an oak\")\n",
    "assert_equals(decipher_this(\"84eh 109ero 104e 115wa 116eh 108sse 104e 115eokp\"), \"The more he saw the less he spoke\")\n",
    "assert_equals(decipher_this(\"84eh 108sse 104e 115eokp 116eh 109ero 104e 104dare\"), \"The less he spoke the more he heard\")\n",
    "assert_equals(decipher_this(\"87yh 99na 119e 110to 97ll 98e 108eki 116tah 119esi 111dl 98dri\"), \"Why can we not all be like that wise old bird\")\n",
    "assert_equals(decipher_this(\"84kanh 121uo 80roti 102ro 97ll 121ruo 104ple\"), \"Thank you Piotr for all your help\")"
   ]
  },
  {
   "cell_type": "markdown",
   "metadata": {},
   "source": [
    "## 2. Multiplication table\n",
    "\n",
    "Your task, is to create NxN multiplication table, of size provided in parameter.\n",
    "For example, when given size is 3:\n",
    "```\n",
    "1 2 3\n",
    "2 4 6\n",
    "3 6 9\n",
    "```\n",
    "For the given example, the return value should be: [[1,2,3],[2,4,6],[3,6,9]]"
   ]
  },
  {
   "cell_type": "code",
   "execution_count": 6,
   "metadata": {},
   "outputs": [],
   "source": [
    "# Write the function\n",
    "def multiplication_table(size):\n",
    "    res = []\n",
    "    for i in range(size):\n",
    "        curr_col = [x * (i + 1) for x in range(1, size + 1)]\n",
    "        res.append(curr_col) \n",
    "    return(res)"
   ]
  },
  {
   "cell_type": "code",
   "execution_count": 7,
   "metadata": {},
   "outputs": [
    {
     "data": {
      "text/plain": [
       "'Success!'"
      ]
     },
     "execution_count": 7,
     "metadata": {},
     "output_type": "execute_result"
    }
   ],
   "source": [
    "# Tests\n",
    "assert_equals(multiplication_table(3), [[1,2,3],[2,4,6],[3,6,9]])"
   ]
  },
  {
   "cell_type": "markdown",
   "metadata": {},
   "source": [
    "## 3. Most Frequent Weekdays\n",
    "\n",
    "What is your favourite day of the week? Check if it's the most frequent day of the week in the year.\n",
    "You are given a year as integer (e. g. 2001). You should return the most frequent day(s) of the week in that year. The result has to be a list of days sorted by the order of days in week (e. g. ['Monday', 'Tuesday'], ['Saturday', 'Sunday'], ['Monday', 'Sunday']). Week starts with Monday.\n",
    "\n",
    "Input: Year as an int.\n",
    "\n",
    "Output: The list of most frequent days sorted by the order of days in week (from Monday to Sunday).\n",
    "\n",
    "Preconditions:\n",
    "1. Week starts on Monday.\n",
    "2. Year is between 1583 and 4000.\n",
    "3. Calendar is Gregorian.\n",
    "\n",
    "Example:\n",
    "```\n",
    "most_frequent_days(2427) == ['Friday']\n",
    "most_frequent_days(2185) == ['Saturday']\n",
    "most_frequent_days(2860) == ['Thursday', 'Friday']\n",
    "```"
   ]
  },
  {
   "cell_type": "code",
   "execution_count": 8,
   "metadata": {},
   "outputs": [],
   "source": [
    "from calendar import weekday, day_name\n",
    "def most_frequent_days(year):\n",
    "    return([ day_name[day] for day in sorted( {weekday(year, 1, 1), weekday(year, 12, 31)} ) ])"
   ]
  },
  {
   "cell_type": "code",
   "execution_count": 9,
   "metadata": {},
   "outputs": [
    {
     "data": {
      "text/plain": [
       "'Success!'"
      ]
     },
     "execution_count": 9,
     "metadata": {},
     "output_type": "execute_result"
    },
    {
     "data": {
      "text/plain": [
       "'Success!'"
      ]
     },
     "execution_count": 9,
     "metadata": {},
     "output_type": "execute_result"
    },
    {
     "data": {
      "text/plain": [
       "'Success!'"
      ]
     },
     "execution_count": 9,
     "metadata": {},
     "output_type": "execute_result"
    },
    {
     "data": {
      "text/plain": [
       "'Success!'"
      ]
     },
     "execution_count": 9,
     "metadata": {},
     "output_type": "execute_result"
    },
    {
     "data": {
      "text/plain": [
       "'Success!'"
      ]
     },
     "execution_count": 9,
     "metadata": {},
     "output_type": "execute_result"
    },
    {
     "data": {
      "text/plain": [
       "'Success!'"
      ]
     },
     "execution_count": 9,
     "metadata": {},
     "output_type": "execute_result"
    }
   ],
   "source": [
    "# Tests\n",
    "assert_equals(most_frequent_days(2427), ['Friday'])\n",
    "assert_equals(most_frequent_days(2185), ['Saturday'])\n",
    "assert_equals(most_frequent_days(1770), ['Monday'])\n",
    "assert_equals(most_frequent_days(1785), ['Saturday'])\n",
    "assert_equals(most_frequent_days(1984), ['Monday', 'Sunday'])\n",
    "assert_equals(most_frequent_days(2000), ['Saturday', 'Sunday'])"
   ]
  },
  {
   "cell_type": "markdown",
   "metadata": {},
   "source": [
    "## 4. Transform To Prime\n",
    "\n",
    "### Task:\n",
    "Given a List [] of n integers , find minimum number to be inserted in a list, so that sum of all elements of list should equal the closest prime number.\n",
    "\n",
    "### Notes:\n",
    "1. List size is at least 2.\n",
    "2. List's numbers will only positives (n > 0).\n",
    "3. Repetition of numbers in the list could occur.\n",
    "4. The newer list's sum should equal the closest prime number.\n",
    "\n",
    "### Examples:\n",
    "    minimumNumber ({3,1,2}) ==> return (1)\n",
    "Since the sum of the list's elements is equal to (6), the minimum number to be inserted to transform the sum to prime number is 1, which will make *the sum of the List* equal the closest prime number (7).\n",
    "\n",
    "    minimumNumber ({2,12,8,4,6}) ==> return (5)\n",
    "Since the sum of the list's elements equal to (32), the minimum number to be inserted to transform the sum to prime number is 5, which will make *the sum of the List* equal the closest prime number (37).\n",
    "\n",
    "    minimumNumber ({50,39,49,6,17,28}) ==> return (2)\n",
    "Since the sum of the list's elements equal to (189), the minimum number to be inserted to transform the sum to prime number is 2, which will make *the sum of the List* equal the closest prime number (191)."
   ]
  },
  {
   "cell_type": "code",
   "execution_count": 27,
   "metadata": {},
   "outputs": [],
   "source": [
    "# Write Functions\n",
    "# HelpFunction to check whether a number is a prime\n",
    "def is_prime(a):\n",
    "    return all(a % i for i in range(2, a))\n",
    "\n",
    "# Main Function\n",
    "def minimum_number(numbers):\n",
    "    for adder in range(0, 1000):\n",
    "        if is_prime(sum(numbers) + adder):\n",
    "            return(adder)    "
   ]
  },
  {
   "cell_type": "code",
   "execution_count": 2,
   "metadata": {},
   "outputs": [
    {
     "ename": "NameError",
     "evalue": "name 'minimum_number' is not defined",
     "output_type": "error",
     "traceback": [
      "\u001b[0;31m---------------------------------------------------------------------------\u001b[0m",
      "\u001b[0;31mNameError\u001b[0m                                 Traceback (most recent call last)",
      "\u001b[0;32m<ipython-input-2-a6042335dbb6>\u001b[0m in \u001b[0;36m<module>\u001b[0;34m\u001b[0m\n\u001b[1;32m      1\u001b[0m \u001b[0;31m# Tests\u001b[0m\u001b[0;34m\u001b[0m\u001b[0;34m\u001b[0m\u001b[0;34m\u001b[0m\u001b[0m\n\u001b[0;32m----> 2\u001b[0;31m \u001b[0massert_equals\u001b[0m\u001b[0;34m(\u001b[0m\u001b[0mminimum_number\u001b[0m\u001b[0;34m(\u001b[0m\u001b[0;34m[\u001b[0m\u001b[0;36m3\u001b[0m\u001b[0;34m,\u001b[0m\u001b[0;36m1\u001b[0m\u001b[0;34m,\u001b[0m\u001b[0;36m2\u001b[0m\u001b[0;34m]\u001b[0m\u001b[0;34m)\u001b[0m\u001b[0;34m,\u001b[0m\u001b[0;36m1\u001b[0m\u001b[0;34m)\u001b[0m\u001b[0;34m\u001b[0m\u001b[0;34m\u001b[0m\u001b[0m\n\u001b[0m\u001b[1;32m      3\u001b[0m \u001b[0massert_equals\u001b[0m\u001b[0;34m(\u001b[0m\u001b[0mminimum_number\u001b[0m\u001b[0;34m(\u001b[0m\u001b[0;34m[\u001b[0m\u001b[0;36m5\u001b[0m\u001b[0;34m,\u001b[0m\u001b[0;36m2\u001b[0m\u001b[0;34m]\u001b[0m\u001b[0;34m)\u001b[0m\u001b[0;34m,\u001b[0m\u001b[0;36m0\u001b[0m\u001b[0;34m)\u001b[0m\u001b[0;34m\u001b[0m\u001b[0;34m\u001b[0m\u001b[0m\n\u001b[1;32m      4\u001b[0m \u001b[0massert_equals\u001b[0m\u001b[0;34m(\u001b[0m\u001b[0mminimum_number\u001b[0m\u001b[0;34m(\u001b[0m\u001b[0;34m[\u001b[0m\u001b[0;36m1\u001b[0m\u001b[0;34m,\u001b[0m\u001b[0;36m1\u001b[0m\u001b[0;34m,\u001b[0m\u001b[0;36m1\u001b[0m\u001b[0;34m]\u001b[0m\u001b[0;34m)\u001b[0m\u001b[0;34m,\u001b[0m\u001b[0;36m0\u001b[0m\u001b[0;34m)\u001b[0m\u001b[0;34m\u001b[0m\u001b[0;34m\u001b[0m\u001b[0m\n\u001b[1;32m      5\u001b[0m \u001b[0massert_equals\u001b[0m\u001b[0;34m(\u001b[0m\u001b[0mminimum_number\u001b[0m\u001b[0;34m(\u001b[0m\u001b[0;34m[\u001b[0m\u001b[0;36m2\u001b[0m\u001b[0;34m,\u001b[0m\u001b[0;36m12\u001b[0m\u001b[0;34m,\u001b[0m\u001b[0;36m8\u001b[0m\u001b[0;34m,\u001b[0m\u001b[0;36m4\u001b[0m\u001b[0;34m,\u001b[0m\u001b[0;36m6\u001b[0m\u001b[0;34m]\u001b[0m\u001b[0;34m)\u001b[0m\u001b[0;34m,\u001b[0m\u001b[0;36m5\u001b[0m\u001b[0;34m)\u001b[0m\u001b[0;34m\u001b[0m\u001b[0;34m\u001b[0m\u001b[0m\n",
      "\u001b[0;31mNameError\u001b[0m: name 'minimum_number' is not defined"
     ]
    }
   ],
   "source": [
    "# Tests\n",
    "assert_equals(minimum_number([3,1,2]),1)\n",
    "assert_equals(minimum_number([5,2]),0)\n",
    "assert_equals(minimum_number([1,1,1]),0)\n",
    "assert_equals(minimum_number([2,12,8,4,6]),5)\n",
    "assert_equals(minimum_number([50,39,49,6,17,28]),2)"
   ]
  },
  {
   "cell_type": "markdown",
   "metadata": {},
   "source": [
    "# 5. Meeting\n",
    "\n",
    "John has invited some friends. His list is:\n",
    "\n",
    "    s = \"Fred:Corwill;Wilfred:Corwill;Barney:Tornbull;Betty:Tornbull;Bjon:Tornbull;Raphael:Corwill;Alfred:Corwill\"\n",
    "    \n",
    "Could you make a program that:\n",
    "1. makes this string uppercase\n",
    "2. gives it sorted in alphabetical order by last name.\n",
    "\n",
    "When the last names are the same, sort them by first name. Last name and first name of a guest come in the result between parentheses separated by a comma.\n",
    "\n",
    "So the result of function meeting(s) will be:\n",
    "\n",
    "    \"(CORWILL, ALFRED)(CORWILL, FRED)(CORWILL, RAPHAEL)(CORWILL, WILFRED)(TORNBULL, BARNEY)(TORNBULL, BETTY)(TORNBULL, BJON)\"\n",
    "\n",
    "It can happen that in two distinct families with the same family name two people have the same first name too.\n",
    "\n"
   ]
  },
  {
   "cell_type": "code",
   "execution_count": 108,
   "metadata": {},
   "outputs": [],
   "source": [
    "# Write the function\n",
    "import pandas as pd\n",
    "def meeting(s):\n",
    "    names_split = [full_names.split(\":\") for full_names in s.upper().split(';')]\n",
    "    df          = pd.DataFrame(names_split, columns = [\"First_Name\", \"Last_Name\"])\n",
    "    df          = df.sort_values(by=['First_Name']).sort_values(by=['Last_Name'])\n",
    "    return(''.join(['(' + str(ln) + ', ' + str(fn) + ')' for ln, fn in zip(df.Last_Name, df.First_Name)]))"
   ]
  },
  {
   "cell_type": "code",
   "execution_count": 111,
   "metadata": {},
   "outputs": [
    {
     "data": {
      "text/plain": [
       "'Success!'"
      ]
     },
     "execution_count": 111,
     "metadata": {},
     "output_type": "execute_result"
    },
    {
     "data": {
      "text/plain": [
       "'Success!'"
      ]
     },
     "execution_count": 111,
     "metadata": {},
     "output_type": "execute_result"
    },
    {
     "data": {
      "text/plain": [
       "'Success!'"
      ]
     },
     "execution_count": 111,
     "metadata": {},
     "output_type": "execute_result"
    }
   ],
   "source": [
    "# Testing\n",
    "assert_equals(meeting(s = \"Alexis:Wahl;John:Bell;Victoria:Schwarz;Abba:Dorny;Grace:Meta;Ann:Arno;Madison:STAN;Alex:Cornwell;Lewis:Kern;Megan:Stan;Alex:Korn\"), \n",
    "            \"(ARNO, ANN)(BELL, JOHN)(CORNWELL, ALEX)(DORNY, ABBA)(KERN, LEWIS)(KORN, ALEX)(META, GRACE)(SCHWARZ, VICTORIA)(STAN, MADISON)(STAN, MEGAN)(WAHL, ALEXIS)\")\n",
    "assert_equals(meeting(s = \"John:Gates;Michael:Wahl;Megan:Bell;Paul:Dorries;James:Dorny;Lewis:Steve;Alex:Meta;Elizabeth:Russel;Anna:Korn;Ann:Kern;Amber:Cornwell\"), \n",
    "        \"(BELL, MEGAN)(CORNWELL, AMBER)(DORNY, JAMES)(DORRIES, PAUL)(GATES, JOHN)(KERN, ANN)(KORN, ANNA)(META, ALEX)(RUSSEL, ELIZABETH)(STEVE, LEWIS)(WAHL, MICHAEL)\")\n",
    "assert_equals(meeting(s = \"Alex:Arno;Alissa:Cornwell;Sarah:Bell;Andrew:Dorries;Ann:Kern;Haley:Arno;Paul:Dorny;Madison:Kern\"), \n",
    "        \"(ARNO, ALEX)(ARNO, HALEY)(BELL, SARAH)(CORNWELL, ALISSA)(DORNY, PAUL)(DORRIES, ANDREW)(KERN, ANN)(KERN, MADISON)\")"
   ]
  }
 ],
 "metadata": {
  "kernelspec": {
   "display_name": "Python 3",
   "language": "python",
   "name": "python3"
  },
  "language_info": {
   "codemirror_mode": {
    "name": "ipython",
    "version": 3
   },
   "file_extension": ".py",
   "mimetype": "text/x-python",
   "name": "python",
   "nbconvert_exporter": "python",
   "pygments_lexer": "ipython3",
   "version": "3.8.3"
  }
 },
 "nbformat": 4,
 "nbformat_minor": 4
}

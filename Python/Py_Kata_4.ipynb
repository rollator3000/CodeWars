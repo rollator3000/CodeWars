{
 "cells": [
  {
   "cell_type": "code",
   "execution_count": 1,
   "metadata": {},
   "outputs": [],
   "source": [
    "# General Settings:\n",
    "# (1) All outputs are printed when running a cell!\n",
    "from IPython.core.interactiveshell import InteractiveShell\n",
    "InteractiveShell.ast_node_interactivity = \"all\"\n",
    "\n",
    "# (2) Function to check the results\n",
    "def assert_equals(x, y):\n",
    "    if not x == y:\n",
    "        return(\"Error!\")\n",
    "    else:\n",
    "        return(\"Success!\")"
   ]
  },
  {
   "cell_type": "markdown",
   "metadata": {},
   "source": [
    "# 1. Strip Comments\n",
    "\n",
    "Complete the solution so that it strips all text that follows any of a set of comment markers passed in. Any whitespace at the end of the line should also be stripped out.\n",
    "\n",
    "#### Example:\n",
    "Given an input string of:\n",
    "\n",
    "        apples, pears # and bananas\n",
    "        grapes\n",
    "        bananas !apples\n",
    "\n",
    "The output expected would be:\n",
    "\n",
    "        apples, pears\n",
    "        grapes\n",
    "        bananas\n",
    "        \n",
    "#### The code would be called like so:\n",
    "\n",
    "    result = solution(\"apples, pears # and bananas\\ngrapes\\nbananas !apples\", [\"#\", \"!\"])\n",
    "    --> \"apples, pears\\ngrapes\\nbananas\""
   ]
  },
  {
   "cell_type": "code",
   "execution_count": 34,
   "metadata": {},
   "outputs": [],
   "source": [
    "# HelpFunction to remove comments from a single sentence\n",
    "def rm_comment(s, markers):\n",
    "    for curr_marker in markers:\n",
    "        if curr_marker in s:\n",
    "            s = s.split(curr_marker)[0]\n",
    "    return(s.rstrip())\n",
    "\n",
    "# Write Function\n",
    "def solution(string, markers):\n",
    "    \n",
    "    # Remove comments from each element in 'string'\n",
    "    res = list(map(lambda x: rm_comment(x, markers = markers), string.split(\"\\n\")))\n",
    "        \n",
    "    # Return the 'string' with removed comments\n",
    "    return('\\n'.join(res))"
   ]
  },
  {
   "cell_type": "code",
   "execution_count": 35,
   "metadata": {},
   "outputs": [
    {
     "data": {
      "text/plain": [
       "'Success!'"
      ]
     },
     "execution_count": 35,
     "metadata": {},
     "output_type": "execute_result"
    },
    {
     "data": {
      "text/plain": [
       "'Success!'"
      ]
     },
     "execution_count": 35,
     "metadata": {},
     "output_type": "execute_result"
    }
   ],
   "source": [
    "assert_equals(solution(\"apples, pears # and bananas\\ngrapes\\nbananas !apples\", [\"#\", \"!\"]), \"apples, pears\\ngrapes\\nbananas\")\n",
    "assert_equals(solution(\"a #b\\nc\\nd $e f g\", [\"#\", \"$\"]), \"a\\nc\\nd\")"
   ]
  }
 ],
 "metadata": {
  "kernelspec": {
   "display_name": "Python 3",
   "language": "python",
   "name": "python3"
  },
  "language_info": {
   "codemirror_mode": {
    "name": "ipython",
    "version": 3
   },
   "file_extension": ".py",
   "mimetype": "text/x-python",
   "name": "python",
   "nbconvert_exporter": "python",
   "pygments_lexer": "ipython3",
   "version": "3.8.10"
  }
 },
 "nbformat": 4,
 "nbformat_minor": 4
}

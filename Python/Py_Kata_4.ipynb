{
 "cells": [
  {
   "cell_type": "code",
   "execution_count": 2,
   "metadata": {},
   "outputs": [],
   "source": [
    "# General Settings:\n",
    "# (1) All outputs are printed when running a cell!\n",
    "from IPython.core.interactiveshell import InteractiveShell\n",
    "InteractiveShell.ast_node_interactivity = \"all\"\n",
    "\n",
    "# (2) Function to check the results\n",
    "def assert_equals(x, y):\n",
    "    if not x == y:\n",
    "        return(\"Error!\")\n",
    "    else:\n",
    "        return(\"Success!\")"
   ]
  },
  {
   "cell_type": "markdown",
   "metadata": {},
   "source": [
    "# 1. Strip Comments\n",
    "\n",
    "Complete the solution so that it strips all text that follows any of a set of comment markers passed in. Any whitespace at the end of the line should also be stripped out.\n",
    "\n",
    "#### Example:\n",
    "Given an input string of:\n",
    "\n",
    "        apples, pears # and bananas\n",
    "        grapes\n",
    "        bananas !apples\n",
    "\n",
    "The output expected would be:\n",
    "\n",
    "        apples, pears\n",
    "        grapes\n",
    "        bananas\n",
    "        \n",
    "#### The code would be called like so:\n",
    "\n",
    "    result = solution(\"apples, pears # and bananas\\ngrapes\\nbananas !apples\", [\"#\", \"!\"])\n",
    "    --> \"apples, pears\\ngrapes\\nbananas\""
   ]
  },
  {
   "cell_type": "code",
   "execution_count": 34,
   "metadata": {},
   "outputs": [],
   "source": [
    "# HelpFunction to remove comments from a single sentence\n",
    "def rm_comment(s, markers):\n",
    "    for curr_marker in markers:\n",
    "        if curr_marker in s:\n",
    "            s = s.split(curr_marker)[0]\n",
    "    return(s.rstrip())\n",
    "\n",
    "# Write Function\n",
    "def solution(string, markers):\n",
    "    \n",
    "    # Remove comments from each element in 'string'\n",
    "    res = list(map(lambda x: rm_comment(x, markers = markers), string.split(\"\\n\")))\n",
    "        \n",
    "    # Return the 'string' with removed comments\n",
    "    return('\\n'.join(res))"
   ]
  },
  {
   "cell_type": "code",
   "execution_count": 35,
   "metadata": {},
   "outputs": [
    {
     "data": {
      "text/plain": [
       "'Success!'"
      ]
     },
     "execution_count": 35,
     "metadata": {},
     "output_type": "execute_result"
    },
    {
     "data": {
      "text/plain": [
       "'Success!'"
      ]
     },
     "execution_count": 35,
     "metadata": {},
     "output_type": "execute_result"
    }
   ],
   "source": [
    "assert_equals(solution(\"apples, pears # and bananas\\ngrapes\\nbananas !apples\", [\"#\", \"!\"]), \"apples, pears\\ngrapes\\nbananas\")\n",
    "assert_equals(solution(\"a #b\\nc\\nd $e f g\", [\"#\", \"$\"]), \"a\\nc\\nd\")"
   ]
  },
  {
   "cell_type": "markdown",
   "metadata": {},
   "source": [
    "# 2. Don't give me five! Really!\n",
    "This kata is the performance version of Don't give me five by user5036852.\n",
    "\n",
    "Your mission, should you accept it, is to return the count of all integers in a given range which do not contain the digit 5 (in base 10 representation).   \n",
    "You are given the start and the end of the integer range. The start and the end are both inclusive.\n",
    "\n",
    "Examples:\n",
    "\n",
    "    1,9 -> 1,2,3,4,6,7,8,9 -> return 8\n",
    "    4,17 -> 4,6,7,8,9,10,11,12,13,14,16,17 -> return 12\n",
    "\n",
    "The result may contain fives. ;-)\n",
    "The start will always be smaller than the end. Both numbers can be also negative.\n",
    "\n",
    "The regions can be very large and there will be a large number of test cases --> **brute force solutions will certainly time out!**\n",
    "\n",
    "Good luck, warrior!\n"
   ]
  },
  {
   "cell_type": "code",
   "execution_count": 21,
   "metadata": {},
   "outputs": [],
   "source": [
    "# Write function\n",
    "def dont_give_me_five(start, end):\n",
    "    numbers = list(map(str, range(start, end  + 1)))\n",
    "    return(sum(list(map(lambda x: '5' not in x, numbers))))"
   ]
  },
  {
   "cell_type": "code",
   "execution_count": 20,
   "metadata": {},
   "outputs": [
    {
     "data": {
      "text/plain": [
       "['984', '985', '986']"
      ]
     },
     "execution_count": 20,
     "metadata": {},
     "output_type": "execute_result"
    },
    {
     "data": {
      "text/plain": [
       "['4302', '4303', '4304']"
      ]
     },
     "execution_count": 20,
     "metadata": {},
     "output_type": "execute_result"
    },
    {
     "name": "stdout",
     "output_type": "stream",
     "text": [
      "SOLUTIONS MATCH: True\n"
     ]
    }
   ],
   "source": [
    "start    = 984\n",
    "end      = 4304\n",
    "solution = 2449\n",
    "\n",
    "# Get a list of all numerics (as str) between 'start' & 'end'\n",
    "numbers = list(map(str, range(start, end  + 1)))\n",
    "numbers[0:3]; numbers[-3:]\n",
    "\n",
    "# Check each element for 5 --> sum over this list equals the amount of numbers w/o '5' in it\n",
    "my_sol = sum(list(map(lambda x: '5' not in x, numbers)))\n",
    "\n",
    "print(\"SOLUTIONS MATCH: \" + str(my_sol == solution))\n",
    "\n",
    "# --> Doesn't work for super large numbers --> think of other solution..."
   ]
  },
  {
   "cell_type": "code",
   "execution_count": 24,
   "metadata": {},
   "outputs": [
    {
     "data": {
      "text/plain": [
       "'Success!'"
      ]
     },
     "execution_count": 24,
     "metadata": {},
     "output_type": "execute_result"
    },
    {
     "data": {
      "text/plain": [
       "'Success!'"
      ]
     },
     "execution_count": 24,
     "metadata": {},
     "output_type": "execute_result"
    },
    {
     "data": {
      "text/plain": [
       "'Success!'"
      ]
     },
     "execution_count": 24,
     "metadata": {},
     "output_type": "execute_result"
    },
    {
     "data": {
      "text/plain": [
       "'Success!'"
      ]
     },
     "execution_count": 24,
     "metadata": {},
     "output_type": "execute_result"
    },
    {
     "data": {
      "text/plain": [
       "'Success!'"
      ]
     },
     "execution_count": 24,
     "metadata": {},
     "output_type": "execute_result"
    },
    {
     "data": {
      "text/plain": [
       "'Success!'"
      ]
     },
     "execution_count": 24,
     "metadata": {},
     "output_type": "execute_result"
    },
    {
     "data": {
      "text/plain": [
       "'Success!'"
      ]
     },
     "execution_count": 24,
     "metadata": {},
     "output_type": "execute_result"
    },
    {
     "data": {
      "text/plain": [
       "'Success!'"
      ]
     },
     "execution_count": 24,
     "metadata": {},
     "output_type": "execute_result"
    },
    {
     "data": {
      "text/plain": [
       "'Success!'"
      ]
     },
     "execution_count": 24,
     "metadata": {},
     "output_type": "execute_result"
    },
    {
     "data": {
      "text/plain": [
       "'Success!'"
      ]
     },
     "execution_count": 24,
     "metadata": {},
     "output_type": "execute_result"
    },
    {
     "data": {
      "text/plain": [
       "'Success!'"
      ]
     },
     "execution_count": 24,
     "metadata": {},
     "output_type": "execute_result"
    },
    {
     "data": {
      "text/plain": [
       "'Success!'"
      ]
     },
     "execution_count": 24,
     "metadata": {},
     "output_type": "execute_result"
    }
   ],
   "source": [
    "assert_equals(dont_give_me_five(-17, 9), 24)\n",
    "assert_equals(dont_give_me_five(1, 9), 8)\n",
    "assert_equals(dont_give_me_five(4, 17), 12)\n",
    "assert_equals(dont_give_me_five(-17, -4), 12)\n",
    "\n",
    "assert_equals(dont_give_me_five(984, 4304), 2449)\n",
    "assert_equals(dont_give_me_five(2313, 2317), 4)\n",
    "assert_equals(dont_give_me_five(-4045, 2575), 4819)\n",
    "assert_equals(dont_give_me_five(-4436, -1429), 2194)\n",
    "\n",
    "assert_equals(dont_give_me_five(0, 1), 2)\n",
    "assert_equals(dont_give_me_five(5, 15), 9)\n",
    "assert_equals(dont_give_me_five(-5, 4), 9)\n",
    "assert_equals(dont_give_me_five(51, 60), 1)"
   ]
  },
  {
   "cell_type": "code",
   "execution_count": null,
   "metadata": {},
   "outputs": [],
   "source": [
    "# Not working for these yet... :S\n",
    "assert_equals(dont_give_me_five(40076, 2151514229639903569), 326131553237897713)\n",
    "assert_equals(dont_give_me_five(-206981731, 2235756979031654521), 340132150309630357)\n",
    "assert_equals(dont_give_me_five(-2490228783604515625, -2490228782196537011), 520812180)    \n",
    "assert_equals(dont_give_me_five(-9000000000000000000, 9000000000000000000), 2401514164751985937)"
   ]
  },
  {
   "cell_type": "code",
   "execution_count": null,
   "metadata": {},
   "outputs": [],
   "source": []
  }
 ],
 "metadata": {
  "kernelspec": {
   "display_name": "Python 3 (ipykernel)",
   "language": "python",
   "name": "python3"
  },
  "language_info": {
   "codemirror_mode": {
    "name": "ipython",
    "version": 3
   },
   "file_extension": ".py",
   "mimetype": "text/x-python",
   "name": "python",
   "nbconvert_exporter": "python",
   "pygments_lexer": "ipython3",
   "version": "3.8.2"
  }
 },
 "nbformat": 4,
 "nbformat_minor": 4
}

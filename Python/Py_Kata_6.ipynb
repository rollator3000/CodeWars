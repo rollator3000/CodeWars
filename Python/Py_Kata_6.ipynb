{
 "cells": [
  {
   "cell_type": "markdown",
   "metadata": {},
   "source": [
    "# Exercises of difficulty 6 in Python"
   ]
  },
  {
   "cell_type": "code",
   "execution_count": 1,
   "metadata": {},
   "outputs": [],
   "source": [
    "# General Settings:\n",
    "# (1) All outputs are printed when running a cell!\n",
    "from IPython.core.interactiveshell import InteractiveShell\n",
    "InteractiveShell.ast_node_interactivity = \"all\"\n",
    "\n",
    "# (2) Function to check the results\n",
    "def assert_equals(x, y):\n",
    "    if not x == y:\n",
    "        return(\"Error!\")\n",
    "    else:\n",
    "        return(\"Success!\")"
   ]
  },
  {
   "cell_type": "markdown",
   "metadata": {},
   "source": [
    "## 1. Decipher this! \n",
    "\n",
    "You are given a secret message you need to decipher. Here are the things you need to know to decipher it:\n",
    "For each word:\n",
    "\n",
    "    the second and the last letter is switched (e.g. Hello becomes Holle)\n",
    "    the first letter is replaced by its character code (e.g. H becomes 72)\n",
    "\n",
    "Note: there are no special characters used, only letters and spaces\n",
    "\n",
    "Examples:\n",
    "\n",
    "```\n",
    "decipherThis('72olle 103doo 100ya'); // 'Hello good day'\n",
    "decipherThis('82yade 115te 103o'); // 'Ready set go'\n",
    "```"
   ]
  },
  {
   "cell_type": "code",
   "execution_count": 2,
   "metadata": {},
   "outputs": [],
   "source": [
    "def decipher_this(string):\n",
    "    # Split 'string' into its single words\n",
    "    string_words = string.split(\" \")\n",
    "    \n",
    "    # Create a empty list to store the deciphered words\n",
    "    deciphered_words = []\n",
    "    \n",
    "    # Loop over each word in 'string_words' and decipher it!\n",
    "    for word in string_words:\n",
    "\n",
    "        # Get the numeric representation of the first letter in 'word' & convert it to a letter\n",
    "        first_letter  = chr(int(''.join(filter(str.isdigit, word))))\n",
    "\n",
    "        # Get the amount of letters in the word\n",
    "        letters_in_word = list(str(''.join(filter(str.isalpha, word))))\n",
    "        \n",
    "        # Cange the last with the first letter, if 'word' contains letters & add them as str to\n",
    "        # 'deciphered_words' or if there no more letters in 'word', only add 'first_letter'\n",
    "        if len(letters_in_word) > 0:\n",
    "            letters_in_word[0], letters_in_word[-1] = letters_in_word[-1], letters_in_word[0]\n",
    "\n",
    "            # Get the deciphered version of 'word'\n",
    "            deciphered_words.append(first_letter + ''.join(letters_in_word))\n",
    "\n",
    "        else:\n",
    "            deciphered_words.append(first_letter)\n",
    "    \n",
    "    # Return the deciphered word\n",
    "    return(' '.join(deciphered_words))"
   ]
  },
  {
   "cell_type": "code",
   "execution_count": 3,
   "metadata": {},
   "outputs": [
    {
     "data": {
      "text/plain": [
       "'Success!'"
      ]
     },
     "execution_count": 3,
     "metadata": {},
     "output_type": "execute_result"
    },
    {
     "data": {
      "text/plain": [
       "'Success!'"
      ]
     },
     "execution_count": 3,
     "metadata": {},
     "output_type": "execute_result"
    },
    {
     "data": {
      "text/plain": [
       "'Success!'"
      ]
     },
     "execution_count": 3,
     "metadata": {},
     "output_type": "execute_result"
    },
    {
     "data": {
      "text/plain": [
       "'Success!'"
      ]
     },
     "execution_count": 3,
     "metadata": {},
     "output_type": "execute_result"
    },
    {
     "data": {
      "text/plain": [
       "'Success!'"
      ]
     },
     "execution_count": 3,
     "metadata": {},
     "output_type": "execute_result"
    }
   ],
   "source": [
    "## Test it\n",
    "assert_equals(decipher_this(\"65 119esi 111dl 111lw 108dvei 105n 97n 111ka\"), \"A wise old owl lived in an oak\")\n",
    "assert_equals(decipher_this(\"84eh 109ero 104e 115wa 116eh 108sse 104e 115eokp\"), \"The more he saw the less he spoke\")\n",
    "assert_equals(decipher_this(\"84eh 108sse 104e 115eokp 116eh 109ero 104e 104dare\"), \"The less he spoke the more he heard\")\n",
    "assert_equals(decipher_this(\"87yh 99na 119e 110to 97ll 98e 108eki 116tah 119esi 111dl 98dri\"), \"Why can we not all be like that wise old bird\")\n",
    "assert_equals(decipher_this(\"84kanh 121uo 80roti 102ro 97ll 121ruo 104ple\"), \"Thank you Piotr for all your help\")"
   ]
  },
  {
   "cell_type": "markdown",
   "metadata": {},
   "source": [
    "## 2. Multiplication table\n",
    "\n",
    "Your task, is to create NxN multiplication table, of size provided in parameter.\n",
    "For example, when given size is 3:\n",
    "```\n",
    "1 2 3\n",
    "2 4 6\n",
    "3 6 9\n",
    "```\n",
    "For the given example, the return value should be: \n",
    "    \n",
    "    [[1,2,3],[2,4,6],[3,6,9]]"
   ]
  },
  {
   "cell_type": "code",
   "execution_count": 4,
   "metadata": {},
   "outputs": [],
   "source": [
    "# Write the function\n",
    "def multiplication_table(size):\n",
    "    # Emtpy list to store the results\n",
    "    res = []\n",
    "    \n",
    "    # Loop over the range of 'size'\n",
    "    for i in range(size):\n",
    "        \n",
    "        # Get the values for the row 'x' (each col has value x * (x+1)) & add to 'res'\n",
    "        curr_col = [x * (i + 1) for x in range(1, size + 1)]\n",
    "        res.append(curr_col) \n",
    "        \n",
    "    # Return 'res'\n",
    "    return(res)"
   ]
  },
  {
   "cell_type": "code",
   "execution_count": 5,
   "metadata": {},
   "outputs": [
    {
     "data": {
      "text/plain": [
       "'Success!'"
      ]
     },
     "execution_count": 5,
     "metadata": {},
     "output_type": "execute_result"
    }
   ],
   "source": [
    "# Tests\n",
    "assert_equals(multiplication_table(3), [[1,2,3],[2,4,6],[3,6,9]])"
   ]
  },
  {
   "cell_type": "markdown",
   "metadata": {},
   "source": [
    "## 3. Most Frequent Weekdays\n",
    "\n",
    "What is your favourite day of the week? Check if it's the most frequent day of the week in the year.\n",
    "You are given a year as integer (e. g. 2001). You should return the most frequent day(s) of the week in that year. The result has to be a list of days sorted by the order of days in week (e. g. ['Monday', 'Tuesday'], ['Saturday', 'Sunday'], ['Monday', 'Sunday']). Week starts with Monday.\n",
    "\n",
    "    Input: Year as an int.\n",
    "\n",
    "    Output: The list of most frequent days sorted by the order of days in week (from Monday to Sunday).\n",
    "\n",
    "Preconditions:\n",
    "1. Week starts on Monday.\n",
    "2. Year is between 1583 and 4000.\n",
    "3. Calendar is Gregorian.\n",
    "\n",
    "Example:\n",
    "```\n",
    "most_frequent_days(2427) == ['Friday']\n",
    "most_frequent_days(2185) == ['Saturday']\n",
    "most_frequent_days(2860) == ['Thursday', 'Friday']\n",
    "```"
   ]
  },
  {
   "cell_type": "code",
   "execution_count": 35,
   "metadata": {},
   "outputs": [],
   "source": [
    "# Import 'calendar'-library\n",
    "from calendar import weekday, day_name\n",
    "\n",
    "# Write function\n",
    "def most_frequent_days(year):\n",
    "    \n",
    "    # Get the first and last day of 'year' (these are also the most freq. days!)\n",
    "    first_last_day = [weekday(year, 1, 1), weekday(year, 12, 31)]\n",
    "    \n",
    "    # Order them & convert to days (e.g. 1 = 'Monday', 2 = 'Tuesday', ...)\n",
    "    first_last_day = sorted(first_last_day)\n",
    "    first_last_day = list(map(lambda x: day_name[x], first_last_day))\n",
    "   \n",
    "    # Return it (w/o duplicated)\n",
    "    return(list(set(first_last_day)))"
   ]
  },
  {
   "cell_type": "code",
   "execution_count": 36,
   "metadata": {},
   "outputs": [
    {
     "data": {
      "text/plain": [
       "'Success!'"
      ]
     },
     "execution_count": 36,
     "metadata": {},
     "output_type": "execute_result"
    },
    {
     "data": {
      "text/plain": [
       "'Success!'"
      ]
     },
     "execution_count": 36,
     "metadata": {},
     "output_type": "execute_result"
    },
    {
     "data": {
      "text/plain": [
       "'Success!'"
      ]
     },
     "execution_count": 36,
     "metadata": {},
     "output_type": "execute_result"
    },
    {
     "data": {
      "text/plain": [
       "'Success!'"
      ]
     },
     "execution_count": 36,
     "metadata": {},
     "output_type": "execute_result"
    },
    {
     "data": {
      "text/plain": [
       "'Success!'"
      ]
     },
     "execution_count": 36,
     "metadata": {},
     "output_type": "execute_result"
    },
    {
     "data": {
      "text/plain": [
       "'Success!'"
      ]
     },
     "execution_count": 36,
     "metadata": {},
     "output_type": "execute_result"
    }
   ],
   "source": [
    "# Tests\n",
    "assert_equals(most_frequent_days(2427), ['Friday'])\n",
    "assert_equals(most_frequent_days(2185), ['Saturday'])\n",
    "assert_equals(most_frequent_days(1770), ['Monday'])\n",
    "assert_equals(most_frequent_days(1785), ['Saturday'])\n",
    "assert_equals(most_frequent_days(1984), ['Monday', 'Sunday'])\n",
    "assert_equals(most_frequent_days(2000), ['Saturday', 'Sunday'])"
   ]
  },
  {
   "cell_type": "markdown",
   "metadata": {},
   "source": [
    "## 4. Transform To Prime\n",
    "\n",
    "### Task:\n",
    "Given a List [] of n integers , find minimum number to be inserted in a list, so that sum of all elements of list should equal the closest prime number.\n",
    "\n",
    "### Notes:\n",
    "1. List size is at least 2.\n",
    "2. List's numbers will only positives (n > 0).\n",
    "3. Repetition of numbers in the list could occur.\n",
    "4. The newer list's sum should equal the closest prime number.\n",
    "\n",
    "### Examples:\n",
    "    minimumNumber ({3,1,2}) ==> return (1)\n",
    "Since the sum of the list's elements is equal to (6), the minimum number to be inserted to transform the sum to prime number is 1, which will make *the sum of the List* equal the closest prime number (7).\n",
    "\n",
    "    minimumNumber ({2,12,8,4,6}) ==> return (5)\n",
    "Since the sum of the list's elements equal to (32), the minimum number to be inserted to transform the sum to prime number is 5, which will make *the sum of the List* equal the closest prime number (37).\n",
    "\n",
    "    minimumNumber ({50,39,49,6,17,28}) ==> return (2)\n",
    "Since the sum of the list's elements equal to (189), the minimum number to be inserted to transform the sum to prime number is 2, which will make *the sum of the List* equal the closest prime number (191)."
   ]
  },
  {
   "cell_type": "code",
   "execution_count": 37,
   "metadata": {},
   "outputs": [],
   "source": [
    "# HelpFunction to check whether a number is a prime\n",
    "def is_prime(a):\n",
    "    return all(a % i for i in range(2, a))\n",
    "\n",
    "# Main Function\n",
    "def minimum_number(numbers):\n",
    "    # Get the sum of 'numbers'\n",
    "    sum_numbers = sum(numbers)\n",
    "    \n",
    "    # Loop over 1000 integers & return the first, that\n",
    "    # results in a prime when added to 'sum_numbers'\n",
    "    for adder in range(0, 1000):\n",
    "        if is_prime(sum_numbers + adder):\n",
    "            return(adder)    "
   ]
  },
  {
   "cell_type": "code",
   "execution_count": 38,
   "metadata": {},
   "outputs": [
    {
     "data": {
      "text/plain": [
       "'Success!'"
      ]
     },
     "execution_count": 38,
     "metadata": {},
     "output_type": "execute_result"
    },
    {
     "data": {
      "text/plain": [
       "'Success!'"
      ]
     },
     "execution_count": 38,
     "metadata": {},
     "output_type": "execute_result"
    },
    {
     "data": {
      "text/plain": [
       "'Success!'"
      ]
     },
     "execution_count": 38,
     "metadata": {},
     "output_type": "execute_result"
    },
    {
     "data": {
      "text/plain": [
       "'Success!'"
      ]
     },
     "execution_count": 38,
     "metadata": {},
     "output_type": "execute_result"
    },
    {
     "data": {
      "text/plain": [
       "'Success!'"
      ]
     },
     "execution_count": 38,
     "metadata": {},
     "output_type": "execute_result"
    }
   ],
   "source": [
    "# Tests\n",
    "assert_equals(minimum_number([3,1,2]),1)\n",
    "assert_equals(minimum_number([5,2]),0)\n",
    "assert_equals(minimum_number([1,1,1]),0)\n",
    "assert_equals(minimum_number([2,12,8,4,6]),5)\n",
    "assert_equals(minimum_number([50,39,49,6,17,28]),2)"
   ]
  },
  {
   "cell_type": "markdown",
   "metadata": {},
   "source": [
    "# 5. Meeting\n",
    "\n",
    "John has invited some friends. His list is:\n",
    "\n",
    "    s = \"Fred:Corwill;Wilfred:Corwill;Barney:Tornbull;Betty:Tornbull;Bjon:Tornbull;Raphael:Corwill;Alfred:Corwill\"\n",
    "    \n",
    "Could you make a program that:\n",
    "1. makes this string uppercase\n",
    "2. gives it sorted in alphabetical order by last name.\n",
    "\n",
    "When the last names are the same, sort them by first name. Last name and first name of a guest come in the result between parentheses separated by a comma.\n",
    "\n",
    "So the result of function meeting(s) will be:\n",
    "\n",
    "    \"(CORWILL, ALFRED)(CORWILL, FRED)(CORWILL, RAPHAEL)(CORWILL, WILFRED)(TORNBULL, BARNEY)(TORNBULL, BETTY)(TORNBULL, BJON)\"\n",
    "\n",
    "It can happen that in two distinct families with the same family name two people have the same first name too.\n",
    "\n"
   ]
  },
  {
   "cell_type": "code",
   "execution_count": 50,
   "metadata": {},
   "outputs": [],
   "source": [
    "import pandas as pd\n",
    "\n",
    "# Write the function\n",
    "def meeting(s):\n",
    "    \n",
    "    # Convert 's' to upper-case & split it then with ';' to its single names \n",
    "    names = s.upper().split(';')\n",
    "    \n",
    "    # Split 'names' into last- & first-names\n",
    "    names_split = list(map(lambda x: x.split(':'), names))\n",
    "    \n",
    "    # Store first- & last-names in a DF, so we can easily sort it\n",
    "    df = pd.DataFrame(names_split, columns = [\"First_Name\", \"Last_Name\"])\n",
    "    df = df.sort_values(by=['First_Name']).sort_values(by=['Last_Name'])\n",
    "    \n",
    "    # Paste the rows of 'df' to a single string [(lastname, firstname)(lastname, firstname)...]\n",
    "    return(''.join(['(' + str(ln) + ', ' + str(fn) + ')' for ln, fn in zip(df.Last_Name, df.First_Name)]))"
   ]
  },
  {
   "cell_type": "code",
   "execution_count": 51,
   "metadata": {},
   "outputs": [
    {
     "data": {
      "text/plain": [
       "'Success!'"
      ]
     },
     "execution_count": 51,
     "metadata": {},
     "output_type": "execute_result"
    },
    {
     "data": {
      "text/plain": [
       "'Success!'"
      ]
     },
     "execution_count": 51,
     "metadata": {},
     "output_type": "execute_result"
    },
    {
     "data": {
      "text/plain": [
       "'Success!'"
      ]
     },
     "execution_count": 51,
     "metadata": {},
     "output_type": "execute_result"
    }
   ],
   "source": [
    "# Testing\n",
    "assert_equals(meeting(s = \"Alexis:Wahl;John:Bell;Victoria:Schwarz;Abba:Dorny;Grace:Meta;Ann:Arno;Madison:STAN;Alex:Cornwell;Lewis:Kern;Megan:Stan;Alex:Korn\"), \n",
    "            \"(ARNO, ANN)(BELL, JOHN)(CORNWELL, ALEX)(DORNY, ABBA)(KERN, LEWIS)(KORN, ALEX)(META, GRACE)(SCHWARZ, VICTORIA)(STAN, MADISON)(STAN, MEGAN)(WAHL, ALEXIS)\")\n",
    "assert_equals(meeting(s = \"John:Gates;Michael:Wahl;Megan:Bell;Paul:Dorries;James:Dorny;Lewis:Steve;Alex:Meta;Elizabeth:Russel;Anna:Korn;Ann:Kern;Amber:Cornwell\"), \n",
    "        \"(BELL, MEGAN)(CORNWELL, AMBER)(DORNY, JAMES)(DORRIES, PAUL)(GATES, JOHN)(KERN, ANN)(KORN, ANNA)(META, ALEX)(RUSSEL, ELIZABETH)(STEVE, LEWIS)(WAHL, MICHAEL)\")\n",
    "assert_equals(meeting(s = \"Alex:Arno;Alissa:Cornwell;Sarah:Bell;Andrew:Dorries;Ann:Kern;Haley:Arno;Paul:Dorny;Madison:Kern\"), \n",
    "        \"(ARNO, ALEX)(ARNO, HALEY)(BELL, SARAH)(CORNWELL, ALISSA)(DORNY, PAUL)(DORRIES, ANDREW)(KERN, ANN)(KERN, MADISON)\")"
   ]
  },
  {
   "cell_type": "markdown",
   "metadata": {},
   "source": [
    "# 6. Sum of Parts\n",
    "\n",
    "Let us consider this example (array written in general format):\n",
    "\n",
    "    ls = [0, 1, 3, 6, 10]\n",
    "\n",
    "Its following parts:\n",
    "\n",
    "    ls = [0, 1, 3, 6, 10]\n",
    "    ls = [1, 3, 6, 10]\n",
    "    ls = [3, 6, 10]\n",
    "    ls = [6, 10]\n",
    "    ls = [10]\n",
    "    ls = []\n",
    "    \n",
    "The corresponding sums are (put together in a list): \n",
    "\n",
    "    [20, 20, 19, 16, 10, 0]\n",
    "\n",
    "The function parts_sums (or its variants in other languages) will take as parameter a list ls and return a list of the sums of its parts as defined above.\n",
    "\n",
    "\n",
    "### Other Examples:\n",
    "\n",
    "    ls = [1, 2, 3, 4, 5, 6] \n",
    "    parts_sums(ls) -> [21, 20, 18, 15, 11, 6, 0]\n",
    "\n",
    "    ls = [744125, 935, 407, 454, 430, 90, 144, 6710213, 889, 810, 2579358]\n",
    "    parts_sums(ls) -> [10037855, 9293730, 9292795, 9292388, 9291934, 9291504, 9291414, 9291270, 2581057, 2580168, 2579358, 0]\n",
    "    \n",
    "    \n",
    "    \n",
    "### Notes\n",
    "1. Some lists can be long."
   ]
  },
  {
   "cell_type": "code",
   "execution_count": 52,
   "metadata": {},
   "outputs": [],
   "source": [
    "# Write the function\n",
    "def parts_sums(ls):\n",
    "    # Loop over the length of 'ls' & first calc sum of all elements, \n",
    "    # then calc the sum of all elements, but exclude the first element, ...\n",
    "    return([sum(ls[i:]) for i in range(0, (len(ls) + 1))])"
   ]
  },
  {
   "cell_type": "code",
   "execution_count": 53,
   "metadata": {},
   "outputs": [
    {
     "data": {
      "text/plain": [
       "'Success!'"
      ]
     },
     "execution_count": 53,
     "metadata": {},
     "output_type": "execute_result"
    },
    {
     "data": {
      "text/plain": [
       "'Success!'"
      ]
     },
     "execution_count": 53,
     "metadata": {},
     "output_type": "execute_result"
    },
    {
     "data": {
      "text/plain": [
       "'Success!'"
      ]
     },
     "execution_count": 53,
     "metadata": {},
     "output_type": "execute_result"
    },
    {
     "data": {
      "text/plain": [
       "'Success!'"
      ]
     },
     "execution_count": 53,
     "metadata": {},
     "output_type": "execute_result"
    }
   ],
   "source": [
    "# Test it\n",
    "assert_equals(parts_sums([]), [0])\n",
    "assert_equals(parts_sums([0, 1, 3, 6, 10]), [20, 20, 19, 16, 10, 0])\n",
    "assert_equals(parts_sums([1, 2, 3, 4, 5, 6]), [21, 20, 18, 15, 11, 6, 0])\n",
    "assert_equals(parts_sums([744125, 935, 407, 454, 430, 90, 144, 6710213, 889, 810, 2579358]), \n",
    "            [10037855, 9293730, 9292795, 9292388, 9291934, 9291504, 9291414, 9291270, 2581057, 2580168, 2579358, 0])\n"
   ]
  },
  {
   "cell_type": "markdown",
   "metadata": {},
   "source": [
    "# 7. A Rule of Divisibility by 13\n",
    "\n",
    "From Wikipedia: \"A divisibility rule is a shorthand way of determining whether a given integer is divisible by a fixed divisor without performing the division, usually by examining its digits.\"\n",
    "\n",
    "When you divide the successive powers of 10 by 13 you get the following remainders of the integer divisions:\n",
    "\n",
    "    1, 10, 9, 12, 3, 4 \n",
    "\n",
    "because:\n",
    "\n",
    "    10^0 % 13 = 1\n",
    "    10^1 % 13 = 10\n",
    "    10^2 % 13 = 9\n",
    "    10^3 % 13 = 12\n",
    "    10^4 % 13 = 3\n",
    "    10^5 % 13 = 4\n",
    "\n",
    "Then the whole pattern repeats. \n",
    "\n",
    "Hence the following method:\n",
    "Multiply the right most digit of the number with the left most number in the sequence shown above, the second right most digit to the second left most digit of the number in the sequence. The cycle goes on and you sum all these products. Repeat this process until the sequence of sums is stationary.\n",
    "\n",
    "### Example:\n",
    "\n",
    "What is the remainder when 1234567 is divided by 13?\n",
    "\n",
    "    7      6     5      4     3     2     1  (digits of 1234567 from the right)\n",
    "    ×      ×     ×      ×     ×     ×     ×  (multiplication)\n",
    "    1     10     9     12     3     4     1  (the repeating sequence)\n",
    "    \n",
    "Therefore following the method we get:\n",
    "\n",
    "    7×1 + 6×10 + 5×9 + 4×12 + 3×3 + 2×4 + 1×1 = 178\n",
    "\n",
    "We repeat the process with the number 178:\n",
    "\n",
    "    8x1 + 7x10 + 1x9 = 87\n",
    "\n",
    "and again with 87:\n",
    "\n",
    "    7x1 + 8x10 = 87\n",
    "\n",
    "From now on the sequence is stationary (we always get 87) and the remainder of 1234567 by 13 is the same as the remainder of 87 by 13 (i.e 9).\n",
    "\n",
    "### Task\n",
    "Task:\n",
    "\n",
    "Call thirt the function which processes this sequence of operations on an integer n (>=0). thirt will return the stationary number.\n",
    "\n",
    "    thirt(1234567) calculates 178, then 87, then 87 and returns 87.\n",
    "\n",
    "    thirt(321) calculates 48, 48 and returns 48"
   ]
  },
  {
   "cell_type": "code",
   "execution_count": 57,
   "metadata": {},
   "outputs": [],
   "source": [
    "# Write Function\n",
    "def thirt(n):\n",
    "        \n",
    "    # Define reminders \n",
    "    reminders = [1, 10, 9, 12, 3, 4, 1, 10, 9, 12, 3, 4, 1, 10, 9, 12, 3, 4, 1, 10, 9, 12, 3, 4]\n",
    "    \n",
    "    # Repeat the procedere until 'n_old' and current 'n' is equal\n",
    "    n_old = 0\n",
    "    while n_old != n:\n",
    "    \n",
    "        # Copy the current 'n' so in the end we can check whether it has changed\n",
    "        n_old = n\n",
    "\n",
    "        # Split the 'n' to its single numerics\n",
    "        n_single = [int(d) for d in str(n)]\n",
    "\n",
    "        # Get the reminders we need for the multiplication and reverse it\n",
    "        curr_reminders = reminders[:len(str(n))]\n",
    "        curr_reminders = curr_reminders[::-1]\n",
    "\n",
    "        # Multiply the reminders backwards with the single digits in 'n' and create the sum\n",
    "        n = sum([a*b for a,b in zip(curr_reminders, n_single)])\n",
    "        \n",
    "    return(n)"
   ]
  },
  {
   "cell_type": "code",
   "execution_count": 58,
   "metadata": {},
   "outputs": [
    {
     "data": {
      "text/plain": [
       "'Success!'"
      ]
     },
     "execution_count": 58,
     "metadata": {},
     "output_type": "execute_result"
    },
    {
     "data": {
      "text/plain": [
       "'Success!'"
      ]
     },
     "execution_count": 58,
     "metadata": {},
     "output_type": "execute_result"
    },
    {
     "data": {
      "text/plain": [
       "'Success!'"
      ]
     },
     "execution_count": 58,
     "metadata": {},
     "output_type": "execute_result"
    },
    {
     "data": {
      "text/plain": [
       "'Success!'"
      ]
     },
     "execution_count": 58,
     "metadata": {},
     "output_type": "execute_result"
    },
    {
     "data": {
      "text/plain": [
       "'Success!'"
      ]
     },
     "execution_count": 58,
     "metadata": {},
     "output_type": "execute_result"
    }
   ],
   "source": [
    "# Test it\n",
    "assert_equals(thirt(8529), 79)\n",
    "assert_equals(thirt(85299258), 31)\n",
    "assert_equals(thirt(5634), 57)\n",
    "assert_equals(thirt(1111111111), 71)\n",
    "assert_equals(thirt(987654321), 30)"
   ]
  },
  {
   "cell_type": "markdown",
   "metadata": {},
   "source": [
    "# 8. Simpson's Rule - Approximate Integration\n",
    "An integral:\n",
    "$$\\int_a^b f(x) \\, dx$$\n",
    "can be approximated by the so-called Simpson’s rule:\n",
    "$$\\frac{b-a}{3n} [f(a) + f(b) + 4 \\sum_{i=1}^{\\frac{n}{2}} f(a + (2i-1)h) + 2 \\sum_{i=1}^{\\frac{n}{2}-1} f(a + 2ih)] $$\n",
    "\n",
    "Here h = (b-a)/n, n being an even integer and a <= b.\n",
    "We want to try Simpson's rule with the function f:\n",
    "$$f(x) = \\frac{3}{2} * sin^3(x)$$\n",
    "\n",
    "The task is to write a function called simpson with parameter n which returns the value of the integral of f on the interval [0, pi] (pi being 3.14159265359...).\n",
    "\n",
    "### Notes:\n",
    "Notes:\n",
    "\n",
    "1. Don't round or truncate your results. See in \"RUN EXAMPLES\" the function assertFuzzyEquals or testing.\n",
    "2. n will always be even\n",
    "3. We know that the exact value of the integral of f on the given interval is 2."
   ]
  },
  {
   "cell_type": "code",
   "execution_count": 63,
   "metadata": {},
   "outputs": [],
   "source": [
    "import math\n",
    "\n",
    "# Define the function 'f(x)'\n",
    "def f(x):\n",
    "    return(1.5 * math.sin(x)**3)\n",
    "\n",
    "# Define Constant Variables\n",
    "a = 0\n",
    "b = math.pi\n",
    "\n",
    "# Write function\n",
    "def simpson(n):\n",
    "    # Calc 'h'\n",
    "    h = (b - a) / n \n",
    "    \n",
    "    # Calc the approximation ()\n",
    "    part1 = (b - a) / (3*n)\n",
    "    part2 = f(a) + f(b)\n",
    "    part3 = 4 * sum([f(a + (2*i -1) * h) for i in range(1, (int(n/2) + 1))])\n",
    "    part4 = 2 * sum([f(a + 2*i * h) for i in range(1, (int(n/2 - 1) + 1))])\n",
    "    approx = part1 * (part2 + part3 + part4)\n",
    "    \n",
    "    # Return the approx\n",
    "    return(approx)"
   ]
  },
  {
   "cell_type": "code",
   "execution_count": 64,
   "metadata": {},
   "outputs": [
    {
     "data": {
      "text/plain": [
       "'Success'"
      ]
     },
     "execution_count": 64,
     "metadata": {},
     "output_type": "execute_result"
    },
    {
     "data": {
      "text/plain": [
       "'Success'"
      ]
     },
     "execution_count": 64,
     "metadata": {},
     "output_type": "execute_result"
    },
    {
     "data": {
      "text/plain": [
       "'Success'"
      ]
     },
     "execution_count": 64,
     "metadata": {},
     "output_type": "execute_result"
    },
    {
     "data": {
      "text/plain": [
       "'Success'"
      ]
     },
     "execution_count": 64,
     "metadata": {},
     "output_type": "execute_result"
    }
   ],
   "source": [
    "# Test it\n",
    "def assertFuzzyEquals(actual, expected, msg=\"\"):\n",
    "    merr = 1e-10\n",
    "    inrange = abs(actual - expected) <= merr\n",
    "    if (inrange == False):\n",
    "        msg = \"At 1e-10: Expected value must be {:.10f} but got {:.10f}\"\n",
    "        return(msg)\n",
    "    else:\n",
    "        return(\"Success\")\n",
    "\n",
    "assertFuzzyEquals(simpson(290), 1.9999999986)\n",
    "assertFuzzyEquals(simpson(72), 1.9999996367)\n",
    "assertFuzzyEquals(simpson(252), 1.9999999975)\n",
    "assertFuzzyEquals(simpson(40), 1.9999961668)"
   ]
  },
  {
   "cell_type": "markdown",
   "metadata": {},
   "source": [
    "# 9. Even Binary Sorting\n",
    "\n",
    "Given a string of binary numbers of length 3 sort the numbers in ascending order but only order the even numbers and leave all odd numbers in their place.\n",
    "\n",
    "### Example:\n",
    "\n",
    "        even_binary(\"101 111 100 001 010\") returns \"101 111 010 001 100\"\n",
    "    \n",
    "Note: make sure all the binary numbers have a length of 3"
   ]
  },
  {
   "cell_type": "code",
   "execution_count": 65,
   "metadata": {},
   "outputs": [],
   "source": [
    "# Write the function\n",
    "def even_binary(n):\n",
    "    \n",
    "    # Covert 'n' to a list of integers \n",
    "    n_split_int = list(map(lambda x: (int(list(x)[0]) * 2**2) +  (int(list(x)[1]) * 2**1) + (int(list(x)[2]) * 2**0), n.split(\" \")))\n",
    "\n",
    "    # Get index of even numbers in 'n_split_int'\n",
    "    even_index = [i for i in range(0, len(n_split_int)) if n_split_int[i] % 2 == 0]\n",
    "\n",
    "    # Sort the even numbers \n",
    "    sorted_even = sorted([n_split_int[i] for i in even_index])\n",
    "\n",
    "    # Add ordered even numbers to 'n_split_int'\n",
    "    for i, j  in zip(even_index, sorted_even):\n",
    "        n_split_int[i] = j\n",
    "\n",
    "    # Convert the integers in 'n_split_int' back to binary\n",
    "    n_orderd_binary = list(map(lambda x: \"{0:{fill}3b}\".format(x, fill='0'), n_split_int))\n",
    "    return(' '.join(n_orderd_binary))"
   ]
  },
  {
   "cell_type": "code",
   "execution_count": 66,
   "metadata": {},
   "outputs": [
    {
     "data": {
      "text/plain": [
       "'Success!'"
      ]
     },
     "execution_count": 66,
     "metadata": {},
     "output_type": "execute_result"
    },
    {
     "data": {
      "text/plain": [
       "'Success!'"
      ]
     },
     "execution_count": 66,
     "metadata": {},
     "output_type": "execute_result"
    },
    {
     "data": {
      "text/plain": [
       "'Success!'"
      ]
     },
     "execution_count": 66,
     "metadata": {},
     "output_type": "execute_result"
    },
    {
     "data": {
      "text/plain": [
       "'Success!'"
      ]
     },
     "execution_count": 66,
     "metadata": {},
     "output_type": "execute_result"
    },
    {
     "data": {
      "text/plain": [
       "'Success!'"
      ]
     },
     "execution_count": 66,
     "metadata": {},
     "output_type": "execute_result"
    },
    {
     "data": {
      "text/plain": [
       "'Success!'"
      ]
     },
     "execution_count": 66,
     "metadata": {},
     "output_type": "execute_result"
    }
   ],
   "source": [
    "# Test it\n",
    "assert_equals(even_binary(\"101 111 100 001 010\"), \"101 111 010 001 100\")\n",
    "assert_equals(even_binary(\"110 011 001 100 101\"), \"100 011 001 110 101\")\n",
    "assert_equals(even_binary(\"001 101 011 111 100\"), \"001 101 011 111 100\")\n",
    "assert_equals(even_binary(\"110 111 010 100 010\"), \"010 111 010 100 110\")\n",
    "assert_equals(even_binary(\"011 001 110 100 111\"), \"011 001 100 110 111\")\n",
    "assert_equals(even_binary(\"101 100 010 101 010\"), \"101 010 010 101 100\")\n"
   ]
  },
  {
   "cell_type": "markdown",
   "metadata": {},
   "source": [
    "# 10. Create a frame!\n",
    "\n",
    "    *************************\n",
    "    *  Create a frame!      *\n",
    "    *           __     __   *\n",
    "    *          /  \\~~~/  \\  *\n",
    "    *    ,----(     ..    ) *\n",
    "    *   /      \\__     __/  *\n",
    "    *  /|         (\\  |(    *\n",
    "    * ^  \\  /___\\  /\\ |     *\n",
    "    *    |__|   |__|-..     *\n",
    "    *************************\n",
    "\n",
    "Given an array of strings and a character to be used as border, output the frame with the content inside.\n",
    "\n",
    "### Notes:\n",
    "\n",
    "    1. Always keep a space between the input string and the left and right borders.\n",
    "    2. The biggest string inside the array should always fit in the frame.\n",
    "    3. The input array is never empty.\n",
    "    \n",
    "### Example:\n",
    "\n",
    "    frame(['Create', 'a', 'frame'], '+')\n",
    "    \n",
    "    ++++++++++\n",
    "    + Create +\n",
    "    + a      +\n",
    "    + frame  +\n",
    "    ++++++++++\n"
   ]
  },
  {
   "cell_type": "code",
   "execution_count": 67,
   "metadata": {},
   "outputs": [],
   "source": [
    "# Write Function\n",
    "def frame(text, char):\n",
    "    # Get the width of the 'widest' word\n",
    "    max_width = max(list(map(lambda x: len(list(x)), text)))\n",
    "\n",
    "    # First row in the 'frame'\n",
    "    frame = [char * (max_width + 4)]\n",
    "    \n",
    "    # Fill 'frame' - row by row (word by word)\n",
    "    for i in range(len(text)):\n",
    "        # Get the length of the current word\n",
    "        curr_length = len(list(text[i]))\n",
    "        \n",
    "        # Get the difference of length between current word & widest word\n",
    "        diff = (max_width - curr_length) + 1\n",
    "        \n",
    "        # Add current word to the frame & padd it \n",
    "        frame.append(char + ' ' + text[i] + (' ' * diff) + char)\n",
    "        \n",
    "    # Add the last row to 'frame'\n",
    "    frame.append(char * (max_width + 4))\n",
    "    \n",
    "    # Return the print\n",
    "    return('\\n'.join(frame))"
   ]
  },
  {
   "cell_type": "code",
   "execution_count": 68,
   "metadata": {},
   "outputs": [
    {
     "data": {
      "text/plain": [
       "'Success!'"
      ]
     },
     "execution_count": 68,
     "metadata": {},
     "output_type": "execute_result"
    },
    {
     "data": {
      "text/plain": [
       "'Success!'"
      ]
     },
     "execution_count": 68,
     "metadata": {},
     "output_type": "execute_result"
    },
    {
     "data": {
      "text/plain": [
       "'Success!'"
      ]
     },
     "execution_count": 68,
     "metadata": {},
     "output_type": "execute_result"
    }
   ],
   "source": [
    "# Check it\n",
    "assert_equals(frame(['Small', 'frame'], '~'),\n",
    "\"\"\"\\\n",
    "~~~~~~~~~\n",
    "~ Small ~\n",
    "~ frame ~\n",
    "~~~~~~~~~\"\"\" )\n",
    "\n",
    "assert_equals(frame(['Create','this','kata'], '+'),\n",
    "\"\"\"\\\n",
    "++++++++++\n",
    "+ Create +\n",
    "+ this   +\n",
    "+ kata   +\n",
    "++++++++++\"\"\" )\n",
    "\n",
    "assert_equals(frame(['This is a very long single frame'], '-'),\n",
    "\"\"\"\\\n",
    "------------------------------------\n",
    "- This is a very long single frame -\n",
    "------------------------------------\"\"\" )"
   ]
  }
 ],
 "metadata": {
  "kernelspec": {
   "display_name": "Python 3 (ipykernel)",
   "language": "python",
   "name": "python3"
  },
  "language_info": {
   "codemirror_mode": {
    "name": "ipython",
    "version": 3
   },
   "file_extension": ".py",
   "mimetype": "text/x-python",
   "name": "python",
   "nbconvert_exporter": "python",
   "pygments_lexer": "ipython3",
   "version": "3.8.2"
  }
 },
 "nbformat": 4,
 "nbformat_minor": 4
}

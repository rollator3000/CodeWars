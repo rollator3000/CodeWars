{
 "cells": [
  {
   "cell_type": "code",
   "execution_count": 1,
   "metadata": {},
   "outputs": [],
   "source": [
    "# General Settings:\n",
    "# (1) All outputs are printed when running a cell!\n",
    "from IPython.core.interactiveshell import InteractiveShell\n",
    "InteractiveShell.ast_node_interactivity = \"all\"\n",
    "\n",
    "# (2) Function to check the results\n",
    "def assert_equals(x, y):\n",
    "    if not x == y:\n",
    "        return(\"Error!\")\n",
    "    else:\n",
    "        return(\"Success!\")"
   ]
  },
  {
   "cell_type": "markdown",
   "metadata": {},
   "source": [
    "# 1. Rename Columns\n",
    "\n",
    "### Params\n",
    "1. pandas.DataFrame object\n",
    "2. sequence\n",
    "\n",
    "### Task\n",
    "Your function must return a new pandas.DataFrame object with same data than the original input but now its column names are the elements of the sequence. You must not modify the original input.\n",
    "The number of columns of the input will always be equal to the size of the sequence. \n",
    "\n",
    "### Example\n",
    "    Sequence:\n",
    "        0  1  2 \n",
    "     0  1  2  3\n",
    "     1  4  5  6\n",
    "    \n",
    "    Names:\n",
    "    ['A', 'B', 'C']\n",
    "    \n",
    "    Result:\n",
    "       A  B  C\n",
    "    0  1  2  3\n",
    "    1  4  5  6\n"
   ]
  },
  {
   "cell_type": "code",
   "execution_count": 30,
   "metadata": {},
   "outputs": [],
   "source": [
    "# Write the function\n",
    "import pandas as pd\n",
    "\n",
    "def rename_columns(df, names): \n",
    "    df_copy = df.copy()\n",
    "    df_copy.columns = names\n",
    "    return(df_copy)"
   ]
  },
  {
   "cell_type": "code",
   "execution_count": 31,
   "metadata": {},
   "outputs": [
    {
     "name": "stdout",
     "output_type": "stream",
     "text": [
      "Success!\n"
     ]
    }
   ],
   "source": [
    "# TestIt\n",
    "def example_tests():\n",
    "    # Create Examples for the inputs\n",
    "    df_input  = pd.DataFrame(data=[[1,2,3], [4,5,6]], columns=list('123'))\n",
    "    names     = ('A', 'B', 'C')\n",
    "    \n",
    "    # Create cooresponding Output\n",
    "    df_output = pd.DataFrame(data=[[1,2,3], [4,5,6]], columns=list('ABC'))\n",
    "    \n",
    "    # Apply 'rename_columns' function to the Input Examples\n",
    "    user_solution = rename_columns(df_input, names)\n",
    "    \n",
    "    # Compare the Solution with the correct one\n",
    "    if type(user_solution) != type(df_output):\n",
    "        raise ValueError(f\"You've returned object of {type(user_solution)}. You must return a DataFrame object\")\n",
    "    \n",
    "    if not user_solution.equals(df_output):\n",
    "        f'Wrong output: Expected:\\n{df_output}\\n\\nActual:\\n{user_solution}'\n",
    "    else:\n",
    "        print('Success!')\n",
    "        \n",
    "example_tests()"
   ]
  },
  {
   "cell_type": "markdown",
   "metadata": {},
   "source": [
    "## 2. Maximum Gap (Array Series)\n",
    "\n",
    "### Task\n",
    "Given an array/list [] of integers, find the maximum difference between the successive elements in its sorted form.\n",
    "\n",
    "### Notes\n",
    "1. Array/list size is at least 3 .\n",
    "2. Array/list's numbers Will be mixture of positives and negatives also zeros_\n",
    "3. Repetition of numbers in the array/list could occur.\n",
    "4. The Maximum Gap is computed Regardless the sign.\n",
    "\n",
    "### Examples\n",
    "    maxGap ({13,10,5,2,9}) ==> return (4)\n",
    "The Maximum Gap after sorting the array is 4, The difference between 9 - 5 = 4\n",
    "\n",
    "\n",
    "    maxGap ({-3,-27,-4,-2}) ==> return (23)\n",
    "The Maximum Gap after sorting the array is 23 , The difference between |-4- (-27) | = 23\n",
    "\n",
    "\n",
    "    maxGap ({-54,37,0,64,640,0,-15}) //return (576)\n",
    "The Maximum Gap after sorting the array is 576 , The difference between | 64 - 640 | = 576 .\n",
    "Note : Regardless the sign of negativity ."
   ]
  },
  {
   "cell_type": "code",
   "execution_count": 42,
   "metadata": {},
   "outputs": [],
   "source": [
    "# Fuction\n",
    "def max_gap(numbers):\n",
    "    numbers.sort()\n",
    "    return(max([abs(numbers[i] - numbers[i+1]) for i in range(0, len(numbers)-1)]))"
   ]
  },
  {
   "cell_type": "code",
   "execution_count": 43,
   "metadata": {},
   "outputs": [
    {
     "data": {
      "text/plain": [
       "'Success!'"
      ]
     },
     "execution_count": 43,
     "metadata": {},
     "output_type": "execute_result"
    },
    {
     "data": {
      "text/plain": [
       "'Success!'"
      ]
     },
     "execution_count": 43,
     "metadata": {},
     "output_type": "execute_result"
    },
    {
     "data": {
      "text/plain": [
       "'Success!'"
      ]
     },
     "execution_count": 43,
     "metadata": {},
     "output_type": "execute_result"
    },
    {
     "data": {
      "text/plain": [
       "'Success!'"
      ]
     },
     "execution_count": 43,
     "metadata": {},
     "output_type": "execute_result"
    },
    {
     "data": {
      "text/plain": [
       "'Success!'"
      ]
     },
     "execution_count": 43,
     "metadata": {},
     "output_type": "execute_result"
    },
    {
     "data": {
      "text/plain": [
       "'Success!'"
      ]
     },
     "execution_count": 43,
     "metadata": {},
     "output_type": "execute_result"
    },
    {
     "data": {
      "text/plain": [
       "'Success!'"
      ]
     },
     "execution_count": 43,
     "metadata": {},
     "output_type": "execute_result"
    },
    {
     "data": {
      "text/plain": [
       "'Success!'"
      ]
     },
     "execution_count": 43,
     "metadata": {},
     "output_type": "execute_result"
    },
    {
     "data": {
      "text/plain": [
       "'Success!'"
      ]
     },
     "execution_count": 43,
     "metadata": {},
     "output_type": "execute_result"
    },
    {
     "data": {
      "text/plain": [
       "'Success!'"
      ]
     },
     "execution_count": 43,
     "metadata": {},
     "output_type": "execute_result"
    }
   ],
   "source": [
    "# Tests\n",
    "assert_equals(max_gap([13,10,2,9,5]),4)\n",
    "assert_equals(max_gap([13,3,5]),8)\n",
    "assert_equals(max_gap([24,299,131,14,26,25]),168)\n",
    "assert_equals(max_gap([-3,-27,-4,-2]),23)\n",
    "assert_equals(max_gap([-7,-42,-809,-14,-12]),767)\n",
    "assert_equals(max_gap([12,-5,-7,0,290]),278)\n",
    "assert_equals(max_gap([-54,37,0,64,-15,640,0]),576)\n",
    "assert_equals(max_gap([130,30,50]),80)\n",
    "assert_equals(max_gap([1,1,1]),0)\n",
    "assert_equals(max_gap([-1,-1,-1]),0)"
   ]
  }
 ],
 "metadata": {
  "kernelspec": {
   "display_name": "Python 3",
   "language": "python",
   "name": "python3"
  },
  "language_info": {
   "codemirror_mode": {
    "name": "ipython",
    "version": 3
   },
   "file_extension": ".py",
   "mimetype": "text/x-python",
   "name": "python",
   "nbconvert_exporter": "python",
   "pygments_lexer": "ipython3",
   "version": "3.8.3"
  }
 },
 "nbformat": 4,
 "nbformat_minor": 4
}

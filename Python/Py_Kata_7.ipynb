{
 "cells": [
  {
   "cell_type": "code",
   "execution_count": 1,
   "metadata": {},
   "outputs": [],
   "source": [
    "# General Settings:\n",
    "# (1) All outputs are printed when running a cell!\n",
    "from IPython.core.interactiveshell import InteractiveShell\n",
    "InteractiveShell.ast_node_interactivity = \"all\"\n",
    "\n",
    "# (2) Function to check the results\n",
    "def assert_equals(x, y):\n",
    "    if not x == y:\n",
    "        return(\"Error!\")\n",
    "    else:\n",
    "        return(\"Success!\")"
   ]
  },
  {
   "cell_type": "markdown",
   "metadata": {},
   "source": [
    "# 1. Rename Columns\n",
    "\n",
    "### Params\n",
    "1. pandas.DataFrame object\n",
    "2. sequence\n",
    "\n",
    "### Task\n",
    "Your function must return a new pandas.DataFrame object with same data than the original input but now its column names are the elements of the sequence. You must not modify the original input.\n",
    "The number of columns of the input will always be equal to the size of the sequence. \n",
    "\n",
    "### Example\n",
    "    Sequence:\n",
    "        0  1  2 \n",
    "     0  1  2  3\n",
    "     1  4  5  6\n",
    "    \n",
    "    Names:\n",
    "    ['A', 'B', 'C']\n",
    "    \n",
    "    Result:\n",
    "       A  B  C\n",
    "    0  1  2  3\n",
    "    1  4  5  6\n"
   ]
  },
  {
   "cell_type": "code",
   "execution_count": 30,
   "metadata": {},
   "outputs": [],
   "source": [
    "# Write the function\n",
    "import pandas as pd\n",
    "\n",
    "def rename_columns(df, names): \n",
    "    df_copy = df.copy()\n",
    "    df_copy.columns = names\n",
    "    return(df_copy)"
   ]
  },
  {
   "cell_type": "code",
   "execution_count": 31,
   "metadata": {},
   "outputs": [
    {
     "name": "stdout",
     "output_type": "stream",
     "text": [
      "Success!\n"
     ]
    }
   ],
   "source": [
    "# TestIt\n",
    "def example_tests():\n",
    "    # Create Examples for the inputs\n",
    "    df_input  = pd.DataFrame(data=[[1,2,3], [4,5,6]], columns=list('123'))\n",
    "    names     = ('A', 'B', 'C')\n",
    "    \n",
    "    # Create cooresponding Output\n",
    "    df_output = pd.DataFrame(data=[[1,2,3], [4,5,6]], columns=list('ABC'))\n",
    "    \n",
    "    # Apply 'rename_columns' function to the Input Examples\n",
    "    user_solution = rename_columns(df_input, names)\n",
    "    \n",
    "    # Compare the Solution with the correct one\n",
    "    if type(user_solution) != type(df_output):\n",
    "        raise ValueError(f\"You've returned object of {type(user_solution)}. You must return a DataFrame object\")\n",
    "    \n",
    "    if not user_solution.equals(df_output):\n",
    "        f'Wrong output: Expected:\\n{df_output}\\n\\nActual:\\n{user_solution}'\n",
    "    else:\n",
    "        print('Success!')\n",
    "        \n",
    "example_tests()"
   ]
  },
  {
   "cell_type": "markdown",
   "metadata": {},
   "source": [
    "## 2. Maximum Gap (Array Series)\n",
    "\n",
    "### Task\n",
    "Given an array/list [] of integers, find the maximum difference between the successive elements in its sorted form.\n",
    "\n",
    "### Notes\n",
    "1. Array/list size is at least 3 .\n",
    "2. Array/list's numbers Will be mixture of positives and negatives also zeros_\n",
    "3. Repetition of numbers in the array/list could occur.\n",
    "4. The Maximum Gap is computed Regardless the sign.\n",
    "\n",
    "### Examples\n",
    "    maxGap ({13,10,5,2,9}) ==> return (4)\n",
    "The Maximum Gap after sorting the array is 4, The difference between 9 - 5 = 4\n",
    "\n",
    "\n",
    "    maxGap ({-3,-27,-4,-2}) ==> return (23)\n",
    "The Maximum Gap after sorting the array is 23 , The difference between |-4- (-27) | = 23\n",
    "\n",
    "\n",
    "    maxGap ({-54,37,0,64,640,0,-15}) //return (576)\n",
    "The Maximum Gap after sorting the array is 576 , The difference between | 64 - 640 | = 576 .\n",
    "Note : Regardless the sign of negativity ."
   ]
  },
  {
   "cell_type": "code",
   "execution_count": 42,
   "metadata": {},
   "outputs": [],
   "source": [
    "# Fuction\n",
    "def max_gap(numbers):\n",
    "    numbers.sort()\n",
    "    return(max([abs(numbers[i] - numbers[i+1]) for i in range(0, len(numbers)-1)]))"
   ]
  },
  {
   "cell_type": "code",
   "execution_count": 43,
   "metadata": {},
   "outputs": [
    {
     "data": {
      "text/plain": [
       "'Success!'"
      ]
     },
     "execution_count": 43,
     "metadata": {},
     "output_type": "execute_result"
    },
    {
     "data": {
      "text/plain": [
       "'Success!'"
      ]
     },
     "execution_count": 43,
     "metadata": {},
     "output_type": "execute_result"
    },
    {
     "data": {
      "text/plain": [
       "'Success!'"
      ]
     },
     "execution_count": 43,
     "metadata": {},
     "output_type": "execute_result"
    },
    {
     "data": {
      "text/plain": [
       "'Success!'"
      ]
     },
     "execution_count": 43,
     "metadata": {},
     "output_type": "execute_result"
    },
    {
     "data": {
      "text/plain": [
       "'Success!'"
      ]
     },
     "execution_count": 43,
     "metadata": {},
     "output_type": "execute_result"
    },
    {
     "data": {
      "text/plain": [
       "'Success!'"
      ]
     },
     "execution_count": 43,
     "metadata": {},
     "output_type": "execute_result"
    },
    {
     "data": {
      "text/plain": [
       "'Success!'"
      ]
     },
     "execution_count": 43,
     "metadata": {},
     "output_type": "execute_result"
    },
    {
     "data": {
      "text/plain": [
       "'Success!'"
      ]
     },
     "execution_count": 43,
     "metadata": {},
     "output_type": "execute_result"
    },
    {
     "data": {
      "text/plain": [
       "'Success!'"
      ]
     },
     "execution_count": 43,
     "metadata": {},
     "output_type": "execute_result"
    },
    {
     "data": {
      "text/plain": [
       "'Success!'"
      ]
     },
     "execution_count": 43,
     "metadata": {},
     "output_type": "execute_result"
    }
   ],
   "source": [
    "# Tests\n",
    "assert_equals(max_gap([13,10,2,9,5]),4)\n",
    "assert_equals(max_gap([13,3,5]),8)\n",
    "assert_equals(max_gap([24,299,131,14,26,25]),168)\n",
    "assert_equals(max_gap([-3,-27,-4,-2]),23)\n",
    "assert_equals(max_gap([-7,-42,-809,-14,-12]),767)\n",
    "assert_equals(max_gap([12,-5,-7,0,290]),278)\n",
    "assert_equals(max_gap([-54,37,0,64,-15,640,0]),576)\n",
    "assert_equals(max_gap([130,30,50]),80)\n",
    "assert_equals(max_gap([1,1,1]),0)\n",
    "assert_equals(max_gap([-1,-1,-1]),0)"
   ]
  },
  {
   "cell_type": "markdown",
   "metadata": {},
   "source": [
    "# 3. Palindrome chain length\n",
    "\n",
    "Number is a palindrome if it is equal to the number with digits in reversed order. For example, 5, 44, 171, 4884 are palindromes, and 43, 194, 4773 are not.\n",
    "\n",
    "Write a function which takes a positive integer and returns the number of special steps needed to obtain a palindrome. The special step is: \"reverse the digits, and add to the original number\". If the resulting number is not a palindrome, repeat the procedure with the sum until the resulting number is a palindrome.\n",
    "\n",
    "If the input number is already a palindrome, the number of steps is 0.\n",
    "\n",
    "### Example:\n",
    "For example, start with 87:\n",
    "\n",
    "      87 +   78 =  165     - step 1, not a palindrome\n",
    "     165 +  561 =  726     - step 2, not a palindrome\n",
    "     726 +  627 = 1353     - step 3, not a palindrome\n",
    "    1353 + 3531 = 4884     - step 4, palindrome!\n",
    "    \n",
    "     --> 4884 is a palindrome and we needed 4 steps to obtain it, so answer for 87 is 4."
   ]
  },
  {
   "cell_type": "code",
   "execution_count": 153,
   "metadata": {},
   "outputs": [],
   "source": [
    "# Write function\n",
    "def is_palindrom(n):\n",
    "    \n",
    "    # Split 'n' to its single characters\n",
    "    n_split = [int(d) for d in str(n)]\n",
    "    \n",
    "    # Compare 1. digit w/ last digit, 2. digit w/ second last diigt...\n",
    "    res = [n_split[i] == n_split[-(i+1)] for i in range(int(len(n_split)/2))]\n",
    "    \n",
    "    return(all(res))\n",
    "\n",
    "def palindrome_chain_length(n):\n",
    "    # Set counter to 0\n",
    "    counter = 0\n",
    "\n",
    "    # Sum up'n' until it is a palindrom\n",
    "    while not is_palindrom(n):\n",
    "\n",
    "        # Reverse 'n'\n",
    "        n_reverse_list = [int(d) for d in str(n)[::-1]]\n",
    "        n_reverse = int(\"\".join(map(str, n_reverse_list)))\n",
    "        \n",
    "        # Count up n with n_reverse & count counter up\n",
    "        n = n + n_reverse\n",
    "        counter = counter + 1\n",
    "    \n",
    "    # Return counter\n",
    "    return(counter)"
   ]
  },
  {
   "cell_type": "code",
   "execution_count": 152,
   "metadata": {},
   "outputs": [
    {
     "data": {
      "text/plain": [
       "'Success!'"
      ]
     },
     "execution_count": 152,
     "metadata": {},
     "output_type": "execute_result"
    },
    {
     "data": {
      "text/plain": [
       "'Success!'"
      ]
     },
     "execution_count": 152,
     "metadata": {},
     "output_type": "execute_result"
    },
    {
     "data": {
      "text/plain": [
       "'Success!'"
      ]
     },
     "execution_count": 152,
     "metadata": {},
     "output_type": "execute_result"
    },
    {
     "data": {
      "text/plain": [
       "'Success!'"
      ]
     },
     "execution_count": 152,
     "metadata": {},
     "output_type": "execute_result"
    },
    {
     "data": {
      "text/plain": [
       "'Success!'"
      ]
     },
     "execution_count": 152,
     "metadata": {},
     "output_type": "execute_result"
    }
   ],
   "source": [
    "# Test it:\n",
    "assert_equals(palindrome_chain_length(1),  0)\n",
    "assert_equals(palindrome_chain_length(88), 0)\n",
    "assert_equals(palindrome_chain_length(87), 4)\n",
    "assert_equals(palindrome_chain_length(89), 24)\n",
    "assert_equals(palindrome_chain_length(10), 1)"
   ]
  },
  {
   "cell_type": "markdown",
   "metadata": {},
   "source": [
    "# 4. Formatting decimal places\n",
    "Each floating-point number should be formatted that only the first two decimal places are returned. You don't need to check whether the input is a valid number because only valid numbers are used in the tests.\n",
    "\n",
    "Don't round the numbers! Just cut them after two decimal places!\n",
    "\n",
    "### Right examples:  \n",
    "    32.8493 is 32.84  \n",
    "    14.3286 is 14.32\n",
    "\n",
    "### Incorrect examples (e.g. if you round the numbers):  \n",
    "     32.8493 is 32.85  \n",
    "    14.3286 is 14.33"
   ]
  },
  {
   "cell_type": "code",
   "execution_count": 14,
   "metadata": {},
   "outputs": [],
   "source": [
    "# Write the Function\n",
    "def two_decimal_places(number):\n",
    "    n_split = str(number).split('.')\n",
    "    return(float(n_split[0] + '.' + n_split[1][:2]))"
   ]
  },
  {
   "cell_type": "code",
   "execution_count": 16,
   "metadata": {},
   "outputs": [
    {
     "data": {
      "text/plain": [
       "'Success!'"
      ]
     },
     "execution_count": 16,
     "metadata": {},
     "output_type": "execute_result"
    },
    {
     "data": {
      "text/plain": [
       "'Success!'"
      ]
     },
     "execution_count": 16,
     "metadata": {},
     "output_type": "execute_result"
    },
    {
     "data": {
      "text/plain": [
       "'Success!'"
      ]
     },
     "execution_count": 16,
     "metadata": {},
     "output_type": "execute_result"
    }
   ],
   "source": [
    "# Test it\n",
    "assert_equals(two_decimal_places(10.1289767789), 10.12)\n",
    "assert_equals(two_decimal_places(-7488.83485834983), -7488.83)\n",
    "assert_equals(two_decimal_places(4.653725356), 4.65)"
   ]
  },
  {
   "cell_type": "markdown",
   "metadata": {},
   "source": [
    "# 5. Find Count of Most Frequent Item in an Array\n",
    "\n",
    "Complete the function to find the count of the most frequent item of an array. You can assume that input is an array of integers. For an empty array return 0\n",
    "\n",
    "### Example:\n",
    "    input array: [3, -1, -1, -1, 2, 3, -1, 3, -1, 2, 4, 9, 3]\n",
    "    ouptut: 5 \n",
    " \n",
    "The most frequent number in the array is -1 and it occurs 5 times."
   ]
  },
  {
   "cell_type": "code",
   "execution_count": 24,
   "metadata": {},
   "outputs": [],
   "source": [
    "# Write Function\n",
    "def most_frequent_item_count(collection):\n",
    "    if len(collection) == 0: return(0)\n",
    "\n",
    "    b = {}\n",
    "    for item in collection:\n",
    "        b[item] = b.get(item, 0) + 1\n",
    "    return(max(b.values()))  "
   ]
  },
  {
   "cell_type": "code",
   "execution_count": 25,
   "metadata": {},
   "outputs": [
    {
     "data": {
      "text/plain": [
       "'Success!'"
      ]
     },
     "execution_count": 25,
     "metadata": {},
     "output_type": "execute_result"
    },
    {
     "data": {
      "text/plain": [
       "'Success!'"
      ]
     },
     "execution_count": 25,
     "metadata": {},
     "output_type": "execute_result"
    },
    {
     "data": {
      "text/plain": [
       "'Success!'"
      ]
     },
     "execution_count": 25,
     "metadata": {},
     "output_type": "execute_result"
    },
    {
     "data": {
      "text/plain": [
       "'Success!'"
      ]
     },
     "execution_count": 25,
     "metadata": {},
     "output_type": "execute_result"
    }
   ],
   "source": [
    "# Test it\n",
    "assert_equals(most_frequent_item_count([3, -1, -1]), 2)\n",
    "assert_equals(most_frequent_item_count([3, -1, -1, -1, 2, 3, -1, 3, -1, 2, 4, 9, 3]), 5)\n",
    "assert_equals(most_frequent_item_count([]), 0)\n",
    "assert_equals(most_frequent_item_count([9]), 1)"
   ]
  },
  {
   "cell_type": "markdown",
   "metadata": {},
   "source": [
    "# 6. Spoonerize Me\n",
    "\n",
    "A spoonerism is a spoken phrase in which the first letters of two of the words are swapped around, often with amusing results.\n",
    "In its most basic form a spoonerism is a two word phrase in which only the first letters of each word are swapped:\n",
    "\n",
    "    \"not picking\" --> \"pot nicking\"\n",
    "\n",
    "Your task is to create a function that takes a string of two words, separated by a space: words and returns a spoonerism of those words in a string, as in the above example.\n",
    "\n",
    "### NOTE: \n",
    "All input strings will contain only two words. Spoonerisms can be more complex. For example, three-word phrases in which the first letters of the first and last words are swapped: \"pack of lies\" --> \"lack of pies\" or more than one letter from a word is swapped: \"flat battery --> \"bat flattery\" You are NOT expected to account for these, or any other nuances involved in spoonerisms."
   ]
  },
  {
   "cell_type": "code",
   "execution_count": 77,
   "metadata": {},
   "outputs": [],
   "source": [
    "# Write Function\n",
    "def spoonerize(words):\n",
    "    # Splits words to the letters\n",
    "    letter_1_word, letter_2_word = list(words.split(\" \")[0]), list(words.split(\" \")[1])\n",
    "\n",
    "    # Switch the first letters of the words and return the words then\n",
    "    letter_1_word[0], letter_2_word[0] = letter_2_word[0], letter_1_word[0]\n",
    "    return((\"\").join(letter_1_word) + \" \" + (\"\").join(letter_2_word))"
   ]
  },
  {
   "cell_type": "code",
   "execution_count": 78,
   "metadata": {},
   "outputs": [
    {
     "data": {
      "text/plain": [
       "'Success!'"
      ]
     },
     "execution_count": 78,
     "metadata": {},
     "output_type": "execute_result"
    },
    {
     "data": {
      "text/plain": [
       "'Success!'"
      ]
     },
     "execution_count": 78,
     "metadata": {},
     "output_type": "execute_result"
    },
    {
     "data": {
      "text/plain": [
       "'Success!'"
      ]
     },
     "execution_count": 78,
     "metadata": {},
     "output_type": "execute_result"
    },
    {
     "data": {
      "text/plain": [
       "'Success!'"
      ]
     },
     "execution_count": 78,
     "metadata": {},
     "output_type": "execute_result"
    }
   ],
   "source": [
    "# Test it\n",
    "assert_equals(spoonerize(\"nit picking\"), \"pit nicking\")\n",
    "assert_equals(spoonerize(\"wedding bells\"), \"bedding wells\")\n",
    "assert_equals(spoonerize(\"jelly beans\"), \"belly jeans\")\n",
    "assert_equals(spoonerize(\"pop corn\"), \"cop porn\")"
   ]
  }
 ],
 "metadata": {
  "kernelspec": {
   "display_name": "Python 3",
   "language": "python",
   "name": "python3"
  },
  "language_info": {
   "codemirror_mode": {
    "name": "ipython",
    "version": 3
   },
   "file_extension": ".py",
   "mimetype": "text/x-python",
   "name": "python",
   "nbconvert_exporter": "python",
   "pygments_lexer": "ipython3",
   "version": "3.8.5"
  }
 },
 "nbformat": 4,
 "nbformat_minor": 4
}

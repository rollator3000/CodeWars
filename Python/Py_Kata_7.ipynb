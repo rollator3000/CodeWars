{
 "cells": [
  {
   "cell_type": "code",
   "execution_count": 1,
   "metadata": {},
   "outputs": [],
   "source": [
    "# General Settings:\n",
    "# (1) All outputs are printed when running a cell!\n",
    "from IPython.core.interactiveshell import InteractiveShell\n",
    "InteractiveShell.ast_node_interactivity = \"all\"\n",
    "\n",
    "# (2) Function to check the results\n",
    "def assert_equals(x, y):\n",
    "    if not x == y:\n",
    "        return(\"Error!\")\n",
    "    else:\n",
    "        return(\"Success!\")"
   ]
  },
  {
   "cell_type": "markdown",
   "metadata": {},
   "source": [
    "# 1. Rename Columns\n",
    "\n",
    "### Params\n",
    "1. pandas.DataFrame object\n",
    "2. sequence\n",
    "\n",
    "### Task\n",
    "Your function must return a new pandas.DataFrame object with same data than the original input but now its column names are the elements of the sequence. You must not modify the original input.\n",
    "The number of columns of the input will always be equal to the size of the sequence. \n",
    "\n",
    "### Example\n",
    "    Sequence:\n",
    "        0  1  2 \n",
    "     0  1  2  3\n",
    "     1  4  5  6\n",
    "    \n",
    "    Names:\n",
    "    ['A', 'B', 'C']\n",
    "    \n",
    "    Result:\n",
    "       A  B  C\n",
    "    0  1  2  3\n",
    "    1  4  5  6\n"
   ]
  },
  {
   "cell_type": "code",
   "execution_count": 2,
   "metadata": {},
   "outputs": [],
   "source": [
    "# Import pandas-library\n",
    "import pandas as pd\n",
    "\n",
    "# Write the function\n",
    "def rename_columns(df, names):\n",
    "    # Copy the original DF\n",
    "    df_copy = df.copy()\n",
    "    \n",
    "    # Rename it columns & return it then\n",
    "    df_copy.columns = names\n",
    "    return(df_copy)"
   ]
  },
  {
   "cell_type": "code",
   "execution_count": 3,
   "metadata": {},
   "outputs": [
    {
     "name": "stdout",
     "output_type": "stream",
     "text": [
      "Success!\n"
     ]
    }
   ],
   "source": [
    "# Test the it\n",
    "def example_tests():\n",
    "    # Create Examples for the inputs\n",
    "    df_input  = pd.DataFrame(data=[[1,2,3], [4,5,6]], columns=list('123'))\n",
    "    names     = ('A', 'B', 'C')\n",
    "    \n",
    "    # Create cooresponding Output\n",
    "    df_output = pd.DataFrame(data=[[1,2,3], [4,5,6]], columns=list('ABC'))\n",
    "    \n",
    "    # Apply 'rename_columns' function to the Input Examples\n",
    "    user_solution = rename_columns(df_input, names)\n",
    "    \n",
    "    # Compare the Solution with the correct one\n",
    "    if type(user_solution) != type(df_output):\n",
    "        raise ValueError(f\"You've returned object of {type(user_solution)}. You must return a DataFrame object\")\n",
    "    \n",
    "    if not user_solution.equals(df_output):\n",
    "        f'Wrong output: Expected:\\n{df_output}\\n\\nActual:\\n{user_solution}'\n",
    "    else:\n",
    "        print('Success!')\n",
    "        \n",
    "example_tests()"
   ]
  },
  {
   "cell_type": "markdown",
   "metadata": {},
   "source": [
    "## 2. Maximum Gap (Array Series)\n",
    "\n",
    "### Task\n",
    "Given an array/list [] of integers, find the maximum difference between the successive elements in its sorted form.\n",
    "\n",
    "### Notes\n",
    "1. Array/list size is at least 3 .\n",
    "2. Array/list's numbers Will be mixture of positives and negatives also zeros_\n",
    "3. Repetition of numbers in the array/list could occur.\n",
    "4. The Maximum Gap is computed Regardless the sign.\n",
    "\n",
    "### Examples\n",
    "    maxGap ({13,10,5,2,9}) ==> return (4)\n",
    "The Maximum Gap after sorting the array is 4, The difference between 9 - 5 = 4\n",
    "\n",
    "\n",
    "    maxGap ({-3,-27,-4,-2}) ==> return (23)\n",
    "The Maximum Gap after sorting the array is 23 , The difference between |-4- (-27) | = 23\n",
    "\n",
    "\n",
    "    maxGap ({-54,37,0,64,640,0,-15}) //return (576)\n",
    "The Maximum Gap after sorting the array is 576 , The difference between | 64 - 640 | = 576 .\n",
    "Note : Regardless the sign of negativity ."
   ]
  },
  {
   "cell_type": "code",
   "execution_count": 4,
   "metadata": {},
   "outputs": [],
   "source": [
    "# Write Fuction\n",
    "def max_gap(numbers):\n",
    "    # Order the list of numbers\n",
    "    numbers.sort()\n",
    "    \n",
    "    # For each pair of numbers, compute their absolute difference & return the max then\n",
    "    number_diffs = [abs(numbers[i] - numbers[i+1]) for i in range(0, len(numbers)-1)]\n",
    "    return(max(number_diffs))"
   ]
  },
  {
   "cell_type": "code",
   "execution_count": 5,
   "metadata": {},
   "outputs": [
    {
     "data": {
      "text/plain": [
       "'Success!'"
      ]
     },
     "execution_count": 5,
     "metadata": {},
     "output_type": "execute_result"
    },
    {
     "data": {
      "text/plain": [
       "'Success!'"
      ]
     },
     "execution_count": 5,
     "metadata": {},
     "output_type": "execute_result"
    },
    {
     "data": {
      "text/plain": [
       "'Success!'"
      ]
     },
     "execution_count": 5,
     "metadata": {},
     "output_type": "execute_result"
    },
    {
     "data": {
      "text/plain": [
       "'Success!'"
      ]
     },
     "execution_count": 5,
     "metadata": {},
     "output_type": "execute_result"
    },
    {
     "data": {
      "text/plain": [
       "'Success!'"
      ]
     },
     "execution_count": 5,
     "metadata": {},
     "output_type": "execute_result"
    },
    {
     "data": {
      "text/plain": [
       "'Success!'"
      ]
     },
     "execution_count": 5,
     "metadata": {},
     "output_type": "execute_result"
    },
    {
     "data": {
      "text/plain": [
       "'Success!'"
      ]
     },
     "execution_count": 5,
     "metadata": {},
     "output_type": "execute_result"
    },
    {
     "data": {
      "text/plain": [
       "'Success!'"
      ]
     },
     "execution_count": 5,
     "metadata": {},
     "output_type": "execute_result"
    },
    {
     "data": {
      "text/plain": [
       "'Success!'"
      ]
     },
     "execution_count": 5,
     "metadata": {},
     "output_type": "execute_result"
    },
    {
     "data": {
      "text/plain": [
       "'Success!'"
      ]
     },
     "execution_count": 5,
     "metadata": {},
     "output_type": "execute_result"
    }
   ],
   "source": [
    "# Tests\n",
    "assert_equals(max_gap([13,10,2,9,5]),4)\n",
    "assert_equals(max_gap([13,3,5]),8)\n",
    "assert_equals(max_gap([24,299,131,14,26,25]),168)\n",
    "assert_equals(max_gap([-3,-27,-4,-2]),23)\n",
    "assert_equals(max_gap([-7,-42,-809,-14,-12]),767)\n",
    "assert_equals(max_gap([12,-5,-7,0,290]),278)\n",
    "assert_equals(max_gap([-54,37,0,64,-15,640,0]),576)\n",
    "assert_equals(max_gap([130,30,50]),80)\n",
    "assert_equals(max_gap([1,1,1]),0)\n",
    "assert_equals(max_gap([-1,-1,-1]),0)"
   ]
  },
  {
   "cell_type": "markdown",
   "metadata": {},
   "source": [
    "# 3. Palindrome chain length\n",
    "\n",
    "Number is a palindrome if it is equal to the number with digits in reversed order. For example, 5, 44, 171, 4884 are palindromes, and 43, 194, 4773 are not.\n",
    "\n",
    "Write a function which takes a positive integer and returns the number of special steps needed to obtain a palindrome. The special step is: \"reverse the digits, and add to the original number\". If the resulting number is not a palindrome, repeat the procedure with the sum until the resulting number is a palindrome.\n",
    "\n",
    "If the input number is already a palindrome, the number of steps is 0.\n",
    "\n",
    "### Example:\n",
    "For example, start with 87:\n",
    "\n",
    "      87 +   78 =  165     - step 1, not a palindrome\n",
    "     165 +  561 =  726     - step 2, not a palindrome\n",
    "     726 +  627 = 1353     - step 3, not a palindrome\n",
    "    1353 + 3531 = 4884     - step 4, palindrome!\n",
    "    \n",
    "     --> 4884 is a palindrome and we needed 4 steps to obtain it, so answer for 87 is 4."
   ]
  },
  {
   "cell_type": "code",
   "execution_count": 6,
   "metadata": {},
   "outputs": [],
   "source": [
    "# Write HelpFunction to check whether a integer is a palindrom\n",
    "def is_palindrom(n):\n",
    "    \n",
    "    # Split 'n' to its single characters\n",
    "    n_split = [int(d) for d in str(n)]\n",
    "    \n",
    "    # Compare 1. digit w/ last digit, 2. digit w/ second last digit...\n",
    "    res = [n_split[i] == n_split[-(i+1)] for i in range(int(len(n_split)/2))]\n",
    "    \n",
    "    # If all elements in 'res' are TRUE, 'n' is an palindrom, else not\n",
    "    return(all(res))\n",
    "\n",
    "# Write Main-Function\n",
    "def palindrome_chain_length(n):\n",
    "    # Define counter & set it to 0\n",
    "    counter = 0\n",
    "\n",
    "    # Sum up 'n' until it is a palindrom\n",
    "    while not is_palindrom(n):\n",
    "\n",
    "        # Reverse 'n' & create a integer from it\n",
    "        n_reverse_list = [int(d) for d in str(n)[::-1]]\n",
    "        n_reverse = int(\"\".join(map(str, n_reverse_list)))\n",
    "        \n",
    "        # Sum up 'n' with 'n_reverse' & count up 'counter'\n",
    "        n = n + n_reverse\n",
    "        counter = counter + 1\n",
    "    \n",
    "    # Return counter\n",
    "    return(counter)"
   ]
  },
  {
   "cell_type": "code",
   "execution_count": 7,
   "metadata": {},
   "outputs": [
    {
     "data": {
      "text/plain": [
       "'Success!'"
      ]
     },
     "execution_count": 7,
     "metadata": {},
     "output_type": "execute_result"
    },
    {
     "data": {
      "text/plain": [
       "'Success!'"
      ]
     },
     "execution_count": 7,
     "metadata": {},
     "output_type": "execute_result"
    },
    {
     "data": {
      "text/plain": [
       "'Success!'"
      ]
     },
     "execution_count": 7,
     "metadata": {},
     "output_type": "execute_result"
    },
    {
     "data": {
      "text/plain": [
       "'Success!'"
      ]
     },
     "execution_count": 7,
     "metadata": {},
     "output_type": "execute_result"
    },
    {
     "data": {
      "text/plain": [
       "'Success!'"
      ]
     },
     "execution_count": 7,
     "metadata": {},
     "output_type": "execute_result"
    }
   ],
   "source": [
    "# Test it:\n",
    "assert_equals(palindrome_chain_length(1),  0)\n",
    "assert_equals(palindrome_chain_length(88), 0)\n",
    "assert_equals(palindrome_chain_length(87), 4)\n",
    "assert_equals(palindrome_chain_length(89), 24)\n",
    "assert_equals(palindrome_chain_length(10), 1)"
   ]
  },
  {
   "cell_type": "markdown",
   "metadata": {},
   "source": [
    "# 4. Formatting decimal places\n",
    "Each floating-point number should be formatted that only the first two decimal places are returned. You don't need to check whether the input is a valid number because only valid numbers are used in the tests.\n",
    "\n",
    "Don't round the numbers! Just cut them after two decimal places!\n",
    "\n",
    "### Right examples:  \n",
    "    32.8493 is 32.84  \n",
    "    14.3286 is 14.32\n",
    "\n",
    "### Incorrect examples (e.g. if you round the numbers):  \n",
    "     32.8493 is 32.85  \n",
    "    14.3286 is 14.33"
   ]
  },
  {
   "cell_type": "code",
   "execution_count": 9,
   "metadata": {},
   "outputs": [],
   "source": [
    "# Write the Function\n",
    "def two_decimal_places(number):\n",
    "    # Convert number to a string & split it at '.' to get its 'int' & 'float'\n",
    "    int_, dec_ = str(number).split('.')\n",
    "    \n",
    "    # Paste 'int_' & 'float_', whereby 'float_' is only used until the second value\n",
    "    # and convert it back to a float & return it then\n",
    "    return(float(int_ + '.' + dec_[:2]))"
   ]
  },
  {
   "cell_type": "code",
   "execution_count": 11,
   "metadata": {},
   "outputs": [
    {
     "data": {
      "text/plain": [
       "'Success!'"
      ]
     },
     "execution_count": 11,
     "metadata": {},
     "output_type": "execute_result"
    },
    {
     "data": {
      "text/plain": [
       "'Success!'"
      ]
     },
     "execution_count": 11,
     "metadata": {},
     "output_type": "execute_result"
    },
    {
     "data": {
      "text/plain": [
       "'Success!'"
      ]
     },
     "execution_count": 11,
     "metadata": {},
     "output_type": "execute_result"
    }
   ],
   "source": [
    "# Test it\n",
    "assert_equals(two_decimal_places(10.1289767789), 10.12)\n",
    "assert_equals(two_decimal_places(-7488.83485834983), -7488.83)\n",
    "assert_equals(two_decimal_places(4.653725356), 4.65)"
   ]
  },
  {
   "cell_type": "markdown",
   "metadata": {},
   "source": [
    "# 5. Find Count of Most Frequent Item in an Array\n",
    "\n",
    "Complete the function to find the count of the most frequent item of an array. You can assume that input is an array of integers. For an empty array return 0\n",
    "\n",
    "### Example:\n",
    "    input array: [3, -1, -1, -1, 2, 3, -1, 3, -1, 2, 4, 9, 3]\n",
    "    ouptut: 5 \n",
    " \n",
    "The most frequent number in the array is -1 and it occurs 5 times."
   ]
  },
  {
   "cell_type": "code",
   "execution_count": 15,
   "metadata": {},
   "outputs": [],
   "source": [
    "# Write Function\n",
    "def most_frequent_item_count(collection):\n",
    "    # EdgeCase when 'collection' is an empty list\n",
    "    if len(collection) == 0: return(0)\n",
    "    \n",
    "    # Initalize empty dict, to count occurences of values  \n",
    "    b = {}\n",
    "    \n",
    "    # Loop over each item in 'collection' & count up the freq. for the \n",
    "    # element in the dict 'b' (if there is no key with 'item' yet, its created)\n",
    "    for item in collection:\n",
    "        b[item] = b.get(item, 0) + 1\n",
    "        \n",
    "    # Return the maximum value of the dict 'b'\n",
    "    return(max(b.values()))  "
   ]
  },
  {
   "cell_type": "code",
   "execution_count": 16,
   "metadata": {},
   "outputs": [
    {
     "data": {
      "text/plain": [
       "'Success!'"
      ]
     },
     "execution_count": 16,
     "metadata": {},
     "output_type": "execute_result"
    },
    {
     "data": {
      "text/plain": [
       "'Success!'"
      ]
     },
     "execution_count": 16,
     "metadata": {},
     "output_type": "execute_result"
    },
    {
     "data": {
      "text/plain": [
       "'Success!'"
      ]
     },
     "execution_count": 16,
     "metadata": {},
     "output_type": "execute_result"
    },
    {
     "data": {
      "text/plain": [
       "'Success!'"
      ]
     },
     "execution_count": 16,
     "metadata": {},
     "output_type": "execute_result"
    }
   ],
   "source": [
    "# Test it\n",
    "assert_equals(most_frequent_item_count([3, -1, -1]), 2)\n",
    "assert_equals(most_frequent_item_count([3, -1, -1, -1, 2, 3, -1, 3, -1, 2, 4, 9, 3]), 5)\n",
    "assert_equals(most_frequent_item_count([]), 0)\n",
    "assert_equals(most_frequent_item_count([9]), 1)"
   ]
  },
  {
   "cell_type": "markdown",
   "metadata": {},
   "source": [
    "# 6. Spoonerize Me\n",
    "\n",
    "A spoonerism is a spoken phrase in which the first letters of two of the words are swapped around, often with amusing results.\n",
    "In its most basic form a spoonerism is a two word phrase in which only the first letters of each word are swapped:\n",
    "\n",
    "    \"not picking\" --> \"pot nicking\"\n",
    "\n",
    "Your task is to create a function that takes a string of two words, separated by a space: words and returns a spoonerism of those words in a string, as in the above example.\n",
    "\n",
    "### NOTE: \n",
    "All input strings will contain only two words. Spoonerisms can be more complex. For example, three-word phrases in which the first letters of the first and last words are swapped: \"pack of lies\" --> \"lack of pies\" or more than one letter from a word is swapped: \"flat battery --> \"bat flattery\" You are NOT expected to account for these, or any other nuances involved in spoonerisms."
   ]
  },
  {
   "cell_type": "code",
   "execution_count": 17,
   "metadata": {},
   "outputs": [],
   "source": [
    "# Write Function\n",
    "def spoonerize(words):\n",
    "    # Splits the two words in 'words' into their single letters\n",
    "    letter_1_word, letter_2_word = list(words.split(\" \")[0]), list(words.split(\" \")[1])\n",
    "\n",
    "    # Switch the first letters of 'letter_1_word' & 'letter_2_word' \n",
    "    letter_1_word[0], letter_2_word[0] = letter_2_word[0], letter_1_word[0]\n",
    "    \n",
    "    # Paste the letters of 'letter_1_word' & 'letter_2_word' to a single string & return it\n",
    "    return((\"\").join(letter_1_word) + \" \" + (\"\").join(letter_2_word))"
   ]
  },
  {
   "cell_type": "code",
   "execution_count": 18,
   "metadata": {},
   "outputs": [
    {
     "data": {
      "text/plain": [
       "'Success!'"
      ]
     },
     "execution_count": 18,
     "metadata": {},
     "output_type": "execute_result"
    },
    {
     "data": {
      "text/plain": [
       "'Success!'"
      ]
     },
     "execution_count": 18,
     "metadata": {},
     "output_type": "execute_result"
    },
    {
     "data": {
      "text/plain": [
       "'Success!'"
      ]
     },
     "execution_count": 18,
     "metadata": {},
     "output_type": "execute_result"
    },
    {
     "data": {
      "text/plain": [
       "'Success!'"
      ]
     },
     "execution_count": 18,
     "metadata": {},
     "output_type": "execute_result"
    }
   ],
   "source": [
    "# Test it\n",
    "assert_equals(spoonerize(\"nit picking\"), \"pit nicking\")\n",
    "assert_equals(spoonerize(\"wedding bells\"), \"bedding wells\")\n",
    "assert_equals(spoonerize(\"jelly beans\"), \"belly jeans\")\n",
    "assert_equals(spoonerize(\"pop corn\"), \"cop porn\")"
   ]
  },
  {
   "cell_type": "markdown",
   "metadata": {},
   "source": [
    "# 7. What a \"Classy\" Song\n",
    "\n",
    "Your job is to create a class called Song.\n",
    "A new Song will take two parameters, title and artist.\n",
    "\n",
    "    mount_moose = Song('Mount Moose', 'The Snazzy Moose')\n",
    "\n",
    "    mount_moose.title => 'Mount Moose'\n",
    "    mount_moose.artist => 'The Snazzy Moose'\n",
    "    \n",
    "You will also have to create an instance method named how_many().\n",
    "The method takes an array of people who have listened to the song that day. The output should be how many new listeners the song gained on that day out of all listeners. Names should be treated in a case-insensitve manner, i.e. \"John\" is the same as \"john\".\n",
    "\n",
    "### Example\n",
    "    \tmount_moose = Song('Mount Moose', 'The Snazzy Moose')\n",
    "\n",
    "#### Day 1:\n",
    "        \n",
    "        mount_moose.how_many(['John', 'joHN', 'carl']) => 2"
   ]
  },
  {
   "cell_type": "code",
   "execution_count": 19,
   "metadata": {},
   "outputs": [],
   "source": [
    "class Song():\n",
    "    \"Class 'Song' with the attributes 'title', 'aritst' & 'listeners'\"\n",
    "    \n",
    "    # Initial Class\n",
    "    def __init__(self, title, artist):\n",
    "        self.title     = title \n",
    "        self.artist    = artist\n",
    "        self.listeners = []\n",
    "    \n",
    "    # Define method\n",
    "    def how_many(self, name_list):\n",
    "        \n",
    "        # Lower the names of 'listeners' & only keep unique ones\n",
    "        listeners_lower = list(map(lambda x: x.lower(), name_list))\n",
    "        listeners_lower = list(set(listeners_lower))\n",
    "        \n",
    "        # Get the names of 'listeners_lower' that aren't in 'self.listeners' yet!\n",
    "        new_listener = [listener for listener in listeners_lower if listener not in self.listeners]\n",
    "        \n",
    "        # Add these names to 'self.listeners'\n",
    "        self.listeners = self.listeners + new_listener\n",
    "        \n",
    "        # Return the amount of 'new_listener'\n",
    "        return(len(new_listener))        "
   ]
  },
  {
   "cell_type": "code",
   "execution_count": 20,
   "metadata": {},
   "outputs": [
    {
     "data": {
      "text/plain": [
       "'Success!'"
      ]
     },
     "execution_count": 20,
     "metadata": {},
     "output_type": "execute_result"
    },
    {
     "data": {
      "text/plain": [
       "'Success!'"
      ]
     },
     "execution_count": 20,
     "metadata": {},
     "output_type": "execute_result"
    },
    {
     "data": {
      "text/plain": [
       "'Success!'"
      ]
     },
     "execution_count": 20,
     "metadata": {},
     "output_type": "execute_result"
    },
    {
     "data": {
      "text/plain": [
       "'Success!'"
      ]
     },
     "execution_count": 20,
     "metadata": {},
     "output_type": "execute_result"
    },
    {
     "data": {
      "text/plain": [
       "'Success!'"
      ]
     },
     "execution_count": 20,
     "metadata": {},
     "output_type": "execute_result"
    },
    {
     "data": {
      "text/plain": [
       "'Success!'"
      ]
     },
     "execution_count": 20,
     "metadata": {},
     "output_type": "execute_result"
    }
   ],
   "source": [
    "# Test it\n",
    "# 1 Define a class 'Song'\n",
    "mount_moose = Song('Mount Moose', 'The Snazzy Moose')\n",
    "\n",
    "# 2 Test for title and artist\n",
    "assert_equals(mount_moose.title, 'Mount Moose')\n",
    "assert_equals(mount_moose.artist, 'The Snazzy Moose')\n",
    "\n",
    "# 3 Test the'how_many' method\n",
    "assert_equals(mount_moose.how_many(['John', 'Fred', 'Bob', 'Carl', 'RyAn']), 5)\n",
    "assert_equals(mount_moose.how_many(['JoHn', 'Luke', 'AmAndA']), 2)\n",
    "assert_equals(mount_moose.how_many(['Amanda', 'CalEb', 'CarL', 'Furgus']), 2)\n",
    "assert_equals(mount_moose.how_many(['JOHN', 'FRED', 'BOB', 'CARL', 'RYAN', 'KATE']), 1)"
   ]
  },
  {
   "cell_type": "markdown",
   "metadata": {},
   "source": [
    "# 8. V A P O R C O D E\n",
    "Write a function that converts any sentence into a V A P O R W A V E sentence. a V A P O R W A V E sentence converts all the letters into uppercase, and adds 2 spaces between each letter (or special character) to create this V A P O R W A V E effect.\n",
    "\n",
    "Example:\n",
    "\n",
    "    \"Lets go to the movies\"       -->  \"L  E  T  S  G  O  T  O  T  H  E  M  O  V  I  E  S\"\n",
    "    \"Why isn't my code working?\"  -->  \"W  H  Y  I  S  N  '  T  M  Y  C  O  D  E  W  O  R  K  I  N  G  ?\""
   ]
  },
  {
   "cell_type": "code",
   "execution_count": 21,
   "metadata": {},
   "outputs": [],
   "source": [
    "# Write Function\n",
    "def vaporcode(s):\n",
    "    # Get the single letters from 's' (w/o blank-spaces)\n",
    "    letters = [letter for letter in list(s) if letter != ' ']\n",
    "    \n",
    "    # Convert each letter in 'letters' to upper case & paste them \n",
    "    # to a single str w/ double spaces between & return it then!\n",
    "    return(\"  \".join(list(map(lambda x: x.upper(), letters))))"
   ]
  },
  {
   "cell_type": "code",
   "execution_count": 22,
   "metadata": {},
   "outputs": [
    {
     "data": {
      "text/plain": [
       "'Success!'"
      ]
     },
     "execution_count": 22,
     "metadata": {},
     "output_type": "execute_result"
    },
    {
     "data": {
      "text/plain": [
       "'Success!'"
      ]
     },
     "execution_count": 22,
     "metadata": {},
     "output_type": "execute_result"
    }
   ],
   "source": [
    "assert_equals(vaporcode(\"Lets go to the movies\"),\"L  E  T  S  G  O  T  O  T  H  E  M  O  V  I  E  S\")\n",
    "assert_equals(vaporcode(\"Why isn't my code working?\"),\"W  H  Y  I  S  N  '  T  M  Y  C  O  D  E  W  O  R  K  I  N  G  ?\")"
   ]
  },
  {
   "cell_type": "markdown",
   "metadata": {},
   "source": [
    "# 9. Fix string case\n",
    "In this Kata, you will be given a string that may have mixed uppercase and lowercase letters and your task is to convert that string to either lowercase only or uppercase only based on:\n",
    "make as few changes as possible.Iif the string contains equal number of uppercase and lowercase letters, convert the string to lowercase. For example:\n",
    "\n",
    "    solve(\"coDe\") = \"code\". Lowercase characters > uppercase. Change only the \"D\" to lowercase.\n",
    "    solve(\"CODe\") = \"CODE\". Uppercase characters > lowecase. Change only the \"e\" to uppercase.\n",
    "    solve(\"coDE\") = \"code\". Upper == lowercase. Change all to lowercase.\n",
    "\n",
    "More examples in test cases. Good luck!"
   ]
  },
  {
   "cell_type": "code",
   "execution_count": 23,
   "metadata": {},
   "outputs": [],
   "source": [
    "def solve(s):\n",
    "    # Count amount of capital letters in the 's'\n",
    "    capital_letters = sum(list(map(lambda x: x.isupper(), s.split()[0])))\n",
    "\n",
    "    # Return 's' in all capital letters, if there are more capital letters\n",
    "    # in 's' than lowercase letters, else in all lowercase letters\n",
    "    if (capital_letters > (len(s) / 2)):\n",
    "        return(s.upper())\n",
    "    else:\n",
    "        return(s.lower())"
   ]
  },
  {
   "cell_type": "code",
   "execution_count": 24,
   "metadata": {},
   "outputs": [
    {
     "data": {
      "text/plain": [
       "'Success!'"
      ]
     },
     "execution_count": 24,
     "metadata": {},
     "output_type": "execute_result"
    },
    {
     "data": {
      "text/plain": [
       "'Success!'"
      ]
     },
     "execution_count": 24,
     "metadata": {},
     "output_type": "execute_result"
    },
    {
     "data": {
      "text/plain": [
       "'Success!'"
      ]
     },
     "execution_count": 24,
     "metadata": {},
     "output_type": "execute_result"
    },
    {
     "data": {
      "text/plain": [
       "'Success!'"
      ]
     },
     "execution_count": 24,
     "metadata": {},
     "output_type": "execute_result"
    }
   ],
   "source": [
    "assert_equals(solve(\"code\"),\"code\")\n",
    "assert_equals(solve(\"CODe\"),\"CODE\")\n",
    "assert_equals(solve(\"COde\"),\"code\")\n",
    "assert_equals(solve(\"Code\"),\"code\")"
   ]
  },
  {
   "cell_type": "markdown",
   "metadata": {},
   "source": [
    "# 10. Elevator Distance\n",
    "\n",
    "Imagine you start on the 5th floor of a building, then travel down to the 2nd floor, then back up to the 8th floor. You have travelled a total of 3 + 6 = 9 floors of distance.\n",
    "\n",
    "Given an array representing a series of floors you must reach by elevator, return an integer representing the total distance travelled for visiting each floor in the array in order.\n",
    "\n",
    "simple examples\n",
    "\n",
    "    elevatorDistance([5,2,8]) = 9\n",
    "    elevatorDistance([1,2,3]) = 2\n",
    "    elevatorDistance([7,1,7,1]) = 18\n",
    "\n",
    "if two consecutive floors are the same, distance travelled between them is 0\n",
    "\n",
    "    elevatorDistance([3,3]) = 0\n",
    "\n",
    "Array will always contain at least 2 floors. Random tests will contain 2-20 elements in array, and floor values between 0 and 30.\n"
   ]
  },
  {
   "cell_type": "code",
   "execution_count": 26,
   "metadata": {},
   "outputs": [],
   "source": [
    "def elevator_distance(array):\n",
    "    # Get an list with the travelled floors (abs. diff. of subsequent numbers in 'array')\n",
    "    travelled_floors = [abs(array[i] - array[i+1]) for i in range(len(array) - 1)]\n",
    "    \n",
    "    # Return the sum of the travelled floors\n",
    "    return(sum(travelled_floors))"
   ]
  },
  {
   "cell_type": "code",
   "execution_count": 28,
   "metadata": {},
   "outputs": [
    {
     "data": {
      "text/plain": [
       "'Success!'"
      ]
     },
     "execution_count": 28,
     "metadata": {},
     "output_type": "execute_result"
    },
    {
     "data": {
      "text/plain": [
       "'Success!'"
      ]
     },
     "execution_count": 28,
     "metadata": {},
     "output_type": "execute_result"
    },
    {
     "data": {
      "text/plain": [
       "'Success!'"
      ]
     },
     "execution_count": 28,
     "metadata": {},
     "output_type": "execute_result"
    }
   ],
   "source": [
    "assert_equals(elevator_distance([5,2,8]), 9)\n",
    "assert_equals(elevator_distance([1,2,3]), 2)\n",
    "assert_equals(elevator_distance([7,1,7,1]), 18)"
   ]
  },
  {
   "cell_type": "markdown",
   "metadata": {},
   "source": [
    "# 11. Covfefe\n",
    "Your are given a string. You must replace any occurence of the sequence coverage by covfefe, however, if you don't find the word coverage in the string, you must add covfefe at the end of the string with a leading space."
   ]
  },
  {
   "cell_type": "code",
   "execution_count": 8,
   "metadata": {},
   "outputs": [],
   "source": [
    "def covfefe(s):\n",
    "    if 'coverage' in s:\n",
    "        return(s.replace(\"coverage\", \"covfefe\"))\n",
    "    else: \n",
    "        return(s + ' covfefe')"
   ]
  },
  {
   "cell_type": "code",
   "execution_count": 9,
   "metadata": {
    "scrolled": true
   },
   "outputs": [
    {
     "data": {
      "text/plain": [
       "'Success!'"
      ]
     },
     "execution_count": 9,
     "metadata": {},
     "output_type": "execute_result"
    },
    {
     "data": {
      "text/plain": [
       "'Success!'"
      ]
     },
     "execution_count": 9,
     "metadata": {},
     "output_type": "execute_result"
    },
    {
     "data": {
      "text/plain": [
       "'Success!'"
      ]
     },
     "execution_count": 9,
     "metadata": {},
     "output_type": "execute_result"
    },
    {
     "data": {
      "text/plain": [
       "'Success!'"
      ]
     },
     "execution_count": 9,
     "metadata": {},
     "output_type": "execute_result"
    },
    {
     "data": {
      "text/plain": [
       "'Success!'"
      ]
     },
     "execution_count": 9,
     "metadata": {},
     "output_type": "execute_result"
    }
   ],
   "source": [
    "assert_equals(covfefe(\"coverage\"), \"covfefe\")\n",
    "assert_equals(covfefe(\"coverage coverage\"),\"covfefe covfefe\")\n",
    "assert_equals(covfefe(\"nothing\"),\"nothing covfefe\")\n",
    "assert_equals(covfefe(\"double space \"),\"double space  covfefe\")\n",
    "assert_equals(covfefe(\"covfefe\"),\"covfefe covfefe\")\n"
   ]
  },
  {
   "cell_type": "markdown",
   "metadata": {},
   "source": [
    "# 12. Sum of integers\n",
    "Your task in this kata is to implement a function that calculates the sum of the integers inside a string. \n",
    "For example, in the string \"The30quick20brown10f0x1203jumps914ov3r1349the102l4zy dog\", the sum of the integers is 3635.\n",
    "\n",
    "Note: only positive integers will be tested."
   ]
  },
  {
   "cell_type": "code",
   "execution_count": 35,
   "metadata": {},
   "outputs": [],
   "source": [
    "import re\n",
    "def sum_of_integers_in_string(s):\n",
    "    return(sum([int(x) for x in re.findall(r\"(\\d+)\", s)]))"
   ]
  },
  {
   "cell_type": "code",
   "execution_count": 36,
   "metadata": {},
   "outputs": [
    {
     "data": {
      "text/plain": [
       "'Success!'"
      ]
     },
     "execution_count": 36,
     "metadata": {},
     "output_type": "execute_result"
    },
    {
     "data": {
      "text/plain": [
       "'Success!'"
      ]
     },
     "execution_count": 36,
     "metadata": {},
     "output_type": "execute_result"
    },
    {
     "data": {
      "text/plain": [
       "'Success!'"
      ]
     },
     "execution_count": 36,
     "metadata": {},
     "output_type": "execute_result"
    },
    {
     "data": {
      "text/plain": [
       "'Success!'"
      ]
     },
     "execution_count": 36,
     "metadata": {},
     "output_type": "execute_result"
    },
    {
     "data": {
      "text/plain": [
       "'Success!'"
      ]
     },
     "execution_count": 36,
     "metadata": {},
     "output_type": "execute_result"
    },
    {
     "data": {
      "text/plain": [
       "'Success!'"
      ]
     },
     "execution_count": 36,
     "metadata": {},
     "output_type": "execute_result"
    },
    {
     "data": {
      "text/plain": [
       "'Success!'"
      ]
     },
     "execution_count": 36,
     "metadata": {},
     "output_type": "execute_result"
    },
    {
     "data": {
      "text/plain": [
       "'Success!'"
      ]
     },
     "execution_count": 36,
     "metadata": {},
     "output_type": "execute_result"
    }
   ],
   "source": [
    "# Test it\n",
    "assert_equals(sum_of_integers_in_string(\"12.4\"), 16)\n",
    "assert_equals(sum_of_integers_in_string(\"h3ll0w0rld\"), 3)\n",
    "assert_equals(sum_of_integers_in_string(\"2 + 3\"), 5)\n",
    "assert_equals(sum_of_integers_in_string(\"Our company made approximately 1 million in gross revenue last quarter.\"), 1)\n",
    "assert_equals(sum_of_integers_in_string(\"The Great Depression lasted from 1929 to 1939.\"), 3868)\n",
    "assert_equals(sum_of_integers_in_string(\"Dogs are our best friends.\"), 0)\n",
    "assert_equals(sum_of_integers_in_string(\"C4t5 are 4m4z1ng.\"), 18)\n",
    "assert_equals(sum_of_integers_in_string(\"The30quick20brown10f0x1203jumps914ov3r1349the102l4zy dog\"), 3635)\n",
    "\n"
   ]
  }
 ],
 "metadata": {
  "kernelspec": {
   "display_name": "Python 3 (ipykernel)",
   "language": "python",
   "name": "python3"
  },
  "language_info": {
   "codemirror_mode": {
    "name": "ipython",
    "version": 3
   },
   "file_extension": ".py",
   "mimetype": "text/x-python",
   "name": "python",
   "nbconvert_exporter": "python",
   "pygments_lexer": "ipython3",
   "version": "3.8.2"
  }
 },
 "nbformat": 4,
 "nbformat_minor": 4
}
